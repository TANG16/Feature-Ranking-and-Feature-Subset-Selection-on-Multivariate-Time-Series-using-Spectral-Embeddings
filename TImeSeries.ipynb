{
 "cells": [
  {
   "cell_type": "code",
   "execution_count": 130,
   "metadata": {},
   "outputs": [],
   "source": [
    "from tslearn.datasets import CachedDatasets\n",
    "import os\n",
    "import numpy as np\n",
    "from tqdm.notebook import tqdm\n",
    "from tslearn.metrics import dtw"
   ]
  },
  {
   "cell_type": "code",
   "execution_count": 2,
   "metadata": {},
   "outputs": [],
   "source": [
    "X_train, y_train, X_test, y_test = CachedDatasets().load_dataset(\"Trace\")"
   ]
  },
  {
   "cell_type": "code",
   "execution_count": 7,
   "metadata": {},
   "outputs": [
    {
     "data": {
      "text/plain": [
       "array([[ 0.54407,  0.65786,  0.61124, ...,  0.60377,  0.59633,  0.58322],\n",
       "       [ 0.76643,  0.62463,  0.74225, ...,  0.72218,  0.66786,  0.72445],\n",
       "       [-2.045  , -2.0917 , -2.0776 , ...,  0.52429,  0.54742,  0.57056],\n",
       "       ...,\n",
       "       [-1.2657 , -1.2381 , -1.2569 , ...,  0.90231,  0.87317,  0.84577],\n",
       "       [ 0.67424,  0.6995 ,  0.72477, ...,  0.68093,  0.61272,  0.6502 ],\n",
       "       [ 0.76816,  0.71678,  0.76064, ...,  0.76741,  0.75562,  0.67906]])"
      ]
     },
     "execution_count": 7,
     "metadata": {},
     "output_type": "execute_result"
    }
   ],
   "source": [
    "X_train.shape"
   ]
  },
  {
   "cell_type": "code",
   "execution_count": 6,
   "metadata": {},
   "outputs": [
    {
     "data": {
      "text/plain": [
       "(100,)"
      ]
     },
     "execution_count": 6,
     "metadata": {},
     "output_type": "execute_result"
    }
   ],
   "source": [
    "y_train.shape"
   ]
  },
  {
   "cell_type": "code",
   "execution_count": 19,
   "metadata": {},
   "outputs": [],
   "source": [
    "os.chdir(\"D:\\PyCharm\\mvts_fss_ay\")"
   ]
  },
  {
   "cell_type": "code",
   "execution_count": 11,
   "metadata": {},
   "outputs": [],
   "source": [
    "from data_cleaning.helper_functions import Sample"
   ]
  },
  {
   "cell_type": "code",
   "execution_count": 25,
   "metadata": {},
   "outputs": [
    {
     "name": "stdout",
     "output_type": "stream",
     "text": [
      "1254\n"
     ]
    }
   ],
   "source": [
    "path_FL = os.path.join(os.getcwd(),\"data\\partition1\",\"FL\")\n",
    "print(len(os.listdir(path_FL)))"
   ]
  },
  {
   "cell_type": "code",
   "execution_count": 72,
   "metadata": {},
   "outputs": [
    {
     "data": {
      "text/plain": [
       "(2,)"
      ]
     },
     "execution_count": 72,
     "metadata": {},
     "output_type": "execute_result"
    }
   ],
   "source": [
    "np.array(data_files).flatten().shape"
   ]
  },
  {
   "cell_type": "code",
   "execution_count": 89,
   "metadata": {
    "scrolled": true
   },
   "outputs": [
    {
     "data": {
      "text/plain": [
       "array(None, dtype=object)"
      ]
     },
     "execution_count": 89,
     "metadata": {},
     "output_type": "execute_result"
    }
   ],
   "source": [
    "M_count = 0\n",
    "X_count = 0\n",
    "data_files = []\n",
    "\n",
    "i=1\n",
    "data_files_M.append(os.listdir(path_FL)[:100])\n",
    "data_files_X.append(os.listdir(path_FL)[1089:(1089+99)])\n",
    "    "
   ]
  },
  {
   "cell_type": "code",
   "execution_count": 114,
   "metadata": {},
   "outputs": [],
   "source": [
    "def generate_flare_set(path):\n",
    "    x_count = 100\n",
    "    m_count = 100\n",
    "    files = []\n",
    "    for file in os.listdir(path):\n",
    "        if file[0] == 'M' and m_count >0:\n",
    "            files.append(file)\n",
    "            m_count-=1\n",
    "        elif file[0] == \"X\" and x_count >0:\n",
    "            files.append(file)\n",
    "            x_count-=1\n",
    "\n",
    "    return files"
   ]
  },
  {
   "cell_type": "code",
   "execution_count": 115,
   "metadata": {},
   "outputs": [],
   "source": [
    "files = generate_flare_set(path_FL)"
   ]
  },
  {
   "cell_type": "code",
   "execution_count": 151,
   "metadata": {},
   "outputs": [],
   "source": [
    "s1 = Sample(\"FL\",files[0]).get_data().iloc[:,:25].set_index(\"Timestamp\")\n",
    "s2 = Sample(\"FL\", files[1]).get_data().iloc[:,:25].set_index(\"Timestamp\")\n",
    "s3 = Sample(\"FL\", files[2]).get_data().iloc[:,:25].set_index(\"Timestamp\")\n",
    "s4 = Sample(\"FL\", files[3]).get_data().iloc[:,:25].set_index(\"Timestamp\")\n",
    "s5 = Sample(\"FL\", files[4]).get_data().iloc[:,:25].set_index(\"Timestamp\")\n",
    "s6 = Sample(\"FL\", files[5]).get_data().iloc[:,:25].set_index(\"Timestamp\")"
   ]
  },
  {
   "cell_type": "code",
   "execution_count": 175,
   "metadata": {},
   "outputs": [
    {
     "data": {
      "text/plain": [
       "array([[ 1.31512064e+03,  1.84249705e+10,  3.01690142e+23, ...,\n",
       "        -6.04281689e-02, -8.50548929e-02,  4.39252628e+00],\n",
       "       [ 1.29529138e+03,  1.84362189e+10,  3.02408756e+23, ...,\n",
       "        -6.04786143e-02, -8.31196360e-02,  4.38484094e+00],\n",
       "       [ 1.29107235e+03,  1.84317213e+10,  3.01902259e+23, ...,\n",
       "        -6.03954174e-02, -8.19217716e-02,  4.36935959e+00],\n",
       "       ...,\n",
       "       [ 1.26301717e+03,  1.70505430e+10,  2.86850258e+23, ...,\n",
       "        -7.62526072e-02, -7.49796940e-02,  4.04424723e+00],\n",
       "       [ 1.25975811e+03,  1.70497188e+10,  2.87663620e+23, ...,\n",
       "        -7.66902904e-02, -7.34150853e-02,  4.05063723e+00],\n",
       "       [ 1.26777601e+03,  1.70489327e+10,  2.88869871e+23, ...,\n",
       "        -7.43865614e-02, -7.34982496e-02,  4.00749475e+00]])"
      ]
     },
     "execution_count": 175,
     "metadata": {},
     "output_type": "execute_result"
    }
   ],
   "source": [
    "s1.values"
   ]
  },
  {
   "cell_type": "code",
   "execution_count": 146,
   "metadata": {},
   "outputs": [
    {
     "data": {
      "text/html": [
       "<div>\n",
       "<style scoped>\n",
       "    .dataframe tbody tr th:only-of-type {\n",
       "        vertical-align: middle;\n",
       "    }\n",
       "\n",
       "    .dataframe tbody tr th {\n",
       "        vertical-align: top;\n",
       "    }\n",
       "\n",
       "    .dataframe thead th {\n",
       "        text-align: right;\n",
       "    }\n",
       "</style>\n",
       "<table border=\"1\" class=\"dataframe\">\n",
       "  <thead>\n",
       "    <tr style=\"text-align: right;\">\n",
       "      <th></th>\n",
       "      <th>TOTUSJH</th>\n",
       "      <th>TOTBSQ</th>\n",
       "      <th>TOTPOT</th>\n",
       "      <th>TOTUSJZ</th>\n",
       "      <th>ABSNJZH</th>\n",
       "      <th>SAVNCPP</th>\n",
       "      <th>USFLUX</th>\n",
       "      <th>TOTFZ</th>\n",
       "      <th>MEANPOT</th>\n",
       "      <th>EPSZ</th>\n",
       "      <th>...</th>\n",
       "      <th>MEANGBZ</th>\n",
       "      <th>MEANGBH</th>\n",
       "      <th>MEANJZH</th>\n",
       "      <th>TOTFY</th>\n",
       "      <th>MEANJZD</th>\n",
       "      <th>MEANALP</th>\n",
       "      <th>TOTFX</th>\n",
       "      <th>EPSY</th>\n",
       "      <th>EPSX</th>\n",
       "      <th>R_VALUE</th>\n",
       "    </tr>\n",
       "    <tr>\n",
       "      <th>Timestamp</th>\n",
       "      <th></th>\n",
       "      <th></th>\n",
       "      <th></th>\n",
       "      <th></th>\n",
       "      <th></th>\n",
       "      <th></th>\n",
       "      <th></th>\n",
       "      <th></th>\n",
       "      <th></th>\n",
       "      <th></th>\n",
       "      <th></th>\n",
       "      <th></th>\n",
       "      <th></th>\n",
       "      <th></th>\n",
       "      <th></th>\n",
       "      <th></th>\n",
       "      <th></th>\n",
       "      <th></th>\n",
       "      <th></th>\n",
       "      <th></th>\n",
       "      <th></th>\n",
       "    </tr>\n",
       "  </thead>\n",
       "  <tbody>\n",
       "    <tr>\n",
       "      <th>2011-02-17 00:00:00</th>\n",
       "      <td>1293.590838</td>\n",
       "      <td>1.843164e+10</td>\n",
       "      <td>2.966865e+23</td>\n",
       "      <td>2.386734e+13</td>\n",
       "      <td>211.799846</td>\n",
       "      <td>4.298093e+12</td>\n",
       "      <td>1.581053e+22</td>\n",
       "      <td>-6.109278e+24</td>\n",
       "      <td>9991.103975</td>\n",
       "      <td>-0.249582</td>\n",
       "      <td>...</td>\n",
       "      <td>116.025270</td>\n",
       "      <td>62.122952</td>\n",
       "      <td>-0.009472</td>\n",
       "      <td>1.469346e+24</td>\n",
       "      <td>0.264376</td>\n",
       "      <td>-0.018392</td>\n",
       "      <td>1.980922e+24</td>\n",
       "      <td>-0.060027</td>\n",
       "      <td>-0.080927</td>\n",
       "      <td>4.234585</td>\n",
       "    </tr>\n",
       "    <tr>\n",
       "      <th>2011-02-17 00:12:00</th>\n",
       "      <td>1272.951275</td>\n",
       "      <td>1.839969e+10</td>\n",
       "      <td>2.962582e+23</td>\n",
       "      <td>2.365107e+13</td>\n",
       "      <td>225.499508</td>\n",
       "      <td>5.545256e+12</td>\n",
       "      <td>1.574975e+22</td>\n",
       "      <td>-6.095441e+24</td>\n",
       "      <td>10004.871958</td>\n",
       "      <td>-0.249449</td>\n",
       "      <td>...</td>\n",
       "      <td>115.501213</td>\n",
       "      <td>62.428087</td>\n",
       "      <td>-0.010113</td>\n",
       "      <td>1.470476e+24</td>\n",
       "      <td>0.312773</td>\n",
       "      <td>-0.019618</td>\n",
       "      <td>1.929641e+24</td>\n",
       "      <td>-0.060178</td>\n",
       "      <td>-0.078968</td>\n",
       "      <td>4.112477</td>\n",
       "    </tr>\n",
       "    <tr>\n",
       "      <th>2011-02-17 00:24:00</th>\n",
       "      <td>1260.575999</td>\n",
       "      <td>1.844800e+10</td>\n",
       "      <td>2.966335e+23</td>\n",
       "      <td>2.374461e+13</td>\n",
       "      <td>214.359155</td>\n",
       "      <td>4.402045e+12</td>\n",
       "      <td>1.571762e+22</td>\n",
       "      <td>-6.119242e+24</td>\n",
       "      <td>10081.750062</td>\n",
       "      <td>-0.249767</td>\n",
       "      <td>...</td>\n",
       "      <td>115.721708</td>\n",
       "      <td>63.136699</td>\n",
       "      <td>-0.009675</td>\n",
       "      <td>1.481135e+24</td>\n",
       "      <td>0.313308</td>\n",
       "      <td>-0.018595</td>\n",
       "      <td>1.921864e+24</td>\n",
       "      <td>-0.060455</td>\n",
       "      <td>-0.078444</td>\n",
       "      <td>4.094405</td>\n",
       "    </tr>\n",
       "    <tr>\n",
       "      <th>2011-02-17 00:36:00</th>\n",
       "      <td>1281.635682</td>\n",
       "      <td>1.845266e+10</td>\n",
       "      <td>2.981304e+23</td>\n",
       "      <td>2.390144e+13</td>\n",
       "      <td>206.392747</td>\n",
       "      <td>3.843273e+12</td>\n",
       "      <td>1.563865e+22</td>\n",
       "      <td>-6.035613e+24</td>\n",
       "      <td>10228.188057</td>\n",
       "      <td>-0.246292</td>\n",
       "      <td>...</td>\n",
       "      <td>115.838244</td>\n",
       "      <td>63.812580</td>\n",
       "      <td>-0.009404</td>\n",
       "      <td>1.496731e+24</td>\n",
       "      <td>0.296826</td>\n",
       "      <td>-0.017949</td>\n",
       "      <td>1.919898e+24</td>\n",
       "      <td>-0.061076</td>\n",
       "      <td>-0.078344</td>\n",
       "      <td>4.105793</td>\n",
       "    </tr>\n",
       "    <tr>\n",
       "      <th>2011-02-17 00:48:00</th>\n",
       "      <td>1292.844758</td>\n",
       "      <td>1.841033e+10</td>\n",
       "      <td>2.974943e+23</td>\n",
       "      <td>2.391549e+13</td>\n",
       "      <td>202.922068</td>\n",
       "      <td>4.494566e+12</td>\n",
       "      <td>1.560420e+22</td>\n",
       "      <td>-6.006244e+24</td>\n",
       "      <td>10254.021487</td>\n",
       "      <td>-0.245657</td>\n",
       "      <td>...</td>\n",
       "      <td>116.026974</td>\n",
       "      <td>63.750915</td>\n",
       "      <td>-0.009290</td>\n",
       "      <td>1.503385e+24</td>\n",
       "      <td>0.400746</td>\n",
       "      <td>-0.017697</td>\n",
       "      <td>1.906391e+24</td>\n",
       "      <td>-0.061489</td>\n",
       "      <td>-0.077972</td>\n",
       "      <td>4.168011</td>\n",
       "    </tr>\n",
       "  </tbody>\n",
       "</table>\n",
       "<p>5 rows × 24 columns</p>\n",
       "</div>"
      ],
      "text/plain": [
       "                         TOTUSJH        TOTBSQ        TOTPOT       TOTUSJZ  \\\n",
       "Timestamp                                                                    \n",
       "2011-02-17 00:00:00  1293.590838  1.843164e+10  2.966865e+23  2.386734e+13   \n",
       "2011-02-17 00:12:00  1272.951275  1.839969e+10  2.962582e+23  2.365107e+13   \n",
       "2011-02-17 00:24:00  1260.575999  1.844800e+10  2.966335e+23  2.374461e+13   \n",
       "2011-02-17 00:36:00  1281.635682  1.845266e+10  2.981304e+23  2.390144e+13   \n",
       "2011-02-17 00:48:00  1292.844758  1.841033e+10  2.974943e+23  2.391549e+13   \n",
       "\n",
       "                        ABSNJZH       SAVNCPP        USFLUX         TOTFZ  \\\n",
       "Timestamp                                                                   \n",
       "2011-02-17 00:00:00  211.799846  4.298093e+12  1.581053e+22 -6.109278e+24   \n",
       "2011-02-17 00:12:00  225.499508  5.545256e+12  1.574975e+22 -6.095441e+24   \n",
       "2011-02-17 00:24:00  214.359155  4.402045e+12  1.571762e+22 -6.119242e+24   \n",
       "2011-02-17 00:36:00  206.392747  3.843273e+12  1.563865e+22 -6.035613e+24   \n",
       "2011-02-17 00:48:00  202.922068  4.494566e+12  1.560420e+22 -6.006244e+24   \n",
       "\n",
       "                          MEANPOT      EPSZ  ...     MEANGBZ    MEANGBH  \\\n",
       "Timestamp                                    ...                          \n",
       "2011-02-17 00:00:00   9991.103975 -0.249582  ...  116.025270  62.122952   \n",
       "2011-02-17 00:12:00  10004.871958 -0.249449  ...  115.501213  62.428087   \n",
       "2011-02-17 00:24:00  10081.750062 -0.249767  ...  115.721708  63.136699   \n",
       "2011-02-17 00:36:00  10228.188057 -0.246292  ...  115.838244  63.812580   \n",
       "2011-02-17 00:48:00  10254.021487 -0.245657  ...  116.026974  63.750915   \n",
       "\n",
       "                      MEANJZH         TOTFY   MEANJZD   MEANALP         TOTFX  \\\n",
       "Timestamp                                                                       \n",
       "2011-02-17 00:00:00 -0.009472  1.469346e+24  0.264376 -0.018392  1.980922e+24   \n",
       "2011-02-17 00:12:00 -0.010113  1.470476e+24  0.312773 -0.019618  1.929641e+24   \n",
       "2011-02-17 00:24:00 -0.009675  1.481135e+24  0.313308 -0.018595  1.921864e+24   \n",
       "2011-02-17 00:36:00 -0.009404  1.496731e+24  0.296826 -0.017949  1.919898e+24   \n",
       "2011-02-17 00:48:00 -0.009290  1.503385e+24  0.400746 -0.017697  1.906391e+24   \n",
       "\n",
       "                         EPSY      EPSX   R_VALUE  \n",
       "Timestamp                                          \n",
       "2011-02-17 00:00:00 -0.060027 -0.080927  4.234585  \n",
       "2011-02-17 00:12:00 -0.060178 -0.078968  4.112477  \n",
       "2011-02-17 00:24:00 -0.060455 -0.078444  4.094405  \n",
       "2011-02-17 00:36:00 -0.061076 -0.078344  4.105793  \n",
       "2011-02-17 00:48:00 -0.061489 -0.077972  4.168011  \n",
       "\n",
       "[5 rows x 24 columns]"
      ]
     },
     "execution_count": 146,
     "metadata": {},
     "output_type": "execute_result"
    }
   ],
   "source": [
    "s2.head(5)"
   ]
  },
  {
   "cell_type": "code",
   "execution_count": 153,
   "metadata": {},
   "outputs": [
    {
     "ename": "TypeError",
     "evalue": "unhashable type: 'numpy.ndarray'",
     "output_type": "error",
     "traceback": [
      "\u001b[1;31m---------------------------------------------------------------------------\u001b[0m",
      "\u001b[1;31mTypeError\u001b[0m                                 Traceback (most recent call last)",
      "\u001b[1;32m<ipython-input-153-544eb9ddd6a6>\u001b[0m in \u001b[0;36m<module>\u001b[1;34m\u001b[0m\n\u001b[1;32m----> 1\u001b[1;33m \u001b[0mdtw\u001b[0m\u001b[1;33m(\u001b[0m\u001b[0ms1\u001b[0m\u001b[1;33m.\u001b[0m\u001b[0mvalues\u001b[0m\u001b[1;33m,\u001b[0m\u001b[0ms2\u001b[0m\u001b[1;33m.\u001b[0m\u001b[0mvalues\u001b[0m\u001b[1;33m,\u001b[0m\u001b[0ms3\u001b[0m\u001b[1;33m.\u001b[0m\u001b[0mvalues\u001b[0m\u001b[1;33m,\u001b[0m\u001b[0ms4\u001b[0m\u001b[1;33m.\u001b[0m\u001b[0mvalues\u001b[0m\u001b[1;33m,\u001b[0m\u001b[0ms5\u001b[0m\u001b[1;33m.\u001b[0m\u001b[0mvalues\u001b[0m\u001b[1;33m)\u001b[0m\u001b[1;33m\u001b[0m\u001b[1;33m\u001b[0m\u001b[0m\n\u001b[0m",
      "\u001b[1;32m~\\Anaconda3\\envs\\mvts_fss_ay\\lib\\site-packages\\tslearn\\metrics\\dtw_variants.py\u001b[0m in \u001b[0;36mdtw\u001b[1;34m(s1, s2, global_constraint, sakoe_chiba_radius, itakura_max_slope)\u001b[0m\n\u001b[0;32m    463\u001b[0m     mask = compute_mask(\n\u001b[0;32m    464\u001b[0m         \u001b[0ms1\u001b[0m\u001b[1;33m,\u001b[0m \u001b[0ms2\u001b[0m\u001b[1;33m,\u001b[0m\u001b[1;33m\u001b[0m\u001b[1;33m\u001b[0m\u001b[0m\n\u001b[1;32m--> 465\u001b[1;33m         \u001b[0mGLOBAL_CONSTRAINT_CODE\u001b[0m\u001b[1;33m[\u001b[0m\u001b[0mglobal_constraint\u001b[0m\u001b[1;33m]\u001b[0m\u001b[1;33m,\u001b[0m\u001b[1;33m\u001b[0m\u001b[1;33m\u001b[0m\u001b[0m\n\u001b[0m\u001b[0;32m    466\u001b[0m         \u001b[0msakoe_chiba_radius\u001b[0m\u001b[1;33m=\u001b[0m\u001b[0msakoe_chiba_radius\u001b[0m\u001b[1;33m,\u001b[0m\u001b[1;33m\u001b[0m\u001b[1;33m\u001b[0m\u001b[0m\n\u001b[0;32m    467\u001b[0m         itakura_max_slope=itakura_max_slope)\n",
      "\u001b[1;31mTypeError\u001b[0m: unhashable type: 'numpy.ndarray'"
     ]
    }
   ],
   "source": [
    "dtw(s1.values,s2.values,s3.values,s4.values,s5.values)"
   ]
  },
  {
   "cell_type": "code",
   "execution_count": 161,
   "metadata": {},
   "outputs": [],
   "source": [
    "from dtaidistance import dtw,dtw_ndim"
   ]
  },
  {
   "cell_type": "code",
   "execution_count": 164,
   "metadata": {},
   "outputs": [],
   "source": [
    "timeseries = [s1.values,s2.values,s3.values,s4.values,s5.values]\n",
    "ds = dtw.distance_matrix_fast(timeseries)"
   ]
  },
  {
   "cell_type": "code",
   "execution_count": 184,
   "metadata": {},
   "outputs": [],
   "source": [
    "timeseries = []"
   ]
  },
  {
   "cell_type": "code",
   "execution_count": 168,
   "metadata": {},
   "outputs": [
    {
     "data": {
      "text/plain": [
       "[]"
      ]
     },
     "execution_count": 168,
     "metadata": {},
     "output_type": "execute_result"
    }
   ],
   "source": [
    "timeseries"
   ]
  },
  {
   "cell_type": "code",
   "execution_count": 185,
   "metadata": {},
   "outputs": [
    {
     "data": {
      "application/vnd.jupyter.widget-view+json": {
       "model_id": "4bdcbb09ce4942638f3ad37abfe2d204",
       "version_major": 2,
       "version_minor": 0
      },
      "text/plain": [
       "  0%|          | 0/200 [00:00<?, ?it/s]"
      ]
     },
     "metadata": {},
     "output_type": "display_data"
    }
   ],
   "source": [
    "for file in tqdm(files):\n",
    "    data = Sample(\"FL\",file).get_data().iloc[:,1:25].to_numpy()\n",
    "    timeseries.append(data)"
   ]
  },
  {
   "cell_type": "code",
   "execution_count": 193,
   "metadata": {},
   "outputs": [
    {
     "data": {
      "text/plain": [
       "(None, None)"
      ]
     },
     "execution_count": 193,
     "metadata": {},
     "output_type": "execute_result"
    }
   ],
   "source": [
    "from dtaidistance import dtw, clustering\n",
    "model = clustering.KMedoids(dtw.distance_matrix_fast, {}, k=3)\n",
    "cluster_idx = model.fit(timeseries)\n",
    "model.plot(\"kmedoids.png\")"
   ]
  },
  {
   "cell_type": "code",
   "execution_count": 190,
   "metadata": {},
   "outputs": [
    {
     "data": {
      "text/plain": [
       "array([[0.00000000e+00, 3.58914553e+23, 2.25725886e+23, ...,\n",
       "        7.27193999e+24, 7.39650280e+24, 6.86564756e+24],\n",
       "       [3.58914553e+23, 0.00000000e+00, 3.41977826e+23, ...,\n",
       "        7.52979868e+24, 7.65546066e+24, 7.11242324e+24],\n",
       "       [2.25725886e+23, 3.41977826e+23, 0.00000000e+00, ...,\n",
       "        7.23073402e+24, 7.35789021e+24, 6.81996801e+24],\n",
       "       ...,\n",
       "       [7.27193999e+24, 7.52979868e+24, 7.23073402e+24, ...,\n",
       "        0.00000000e+00, 2.95093652e+23, 5.57735281e+23],\n",
       "       [7.39650280e+24, 7.65546066e+24, 7.35789021e+24, ...,\n",
       "        2.95093652e+23, 0.00000000e+00, 6.44263043e+23],\n",
       "       [6.86564756e+24, 7.11242324e+24, 6.81996801e+24, ...,\n",
       "        5.57735281e+23, 6.44263043e+23, 0.00000000e+00]])"
      ]
     },
     "execution_count": 190,
     "metadata": {},
     "output_type": "execute_result"
    }
   ],
   "source": [
    "from dtaidistance import dtw, clustering"
   ]
  },
  {
   "cell_type": "code",
   "execution_count": 199,
   "metadata": {},
   "outputs": [
    {
     "name": "stdout",
     "output_type": "stream",
     "text": [
      "28-->[{28}]\n",
      "116-->[{12, 13, 14, 15, 16, 17, 18, 19, 20, 21, 55, 56, 57, 58, 59, 60, 61, 62, 63, 64, 65, 66, 67, 68, 69, 70, 71, 72, 73, 74, 75, 76, 77, 78, 79, 80, 81, 82, 83, 84, 85, 86, 87, 88, 89, 90, 91, 92, 100, 101, 102, 103, 104, 105, 106, 107, 108, 109, 110, 111, 112, 113, 114, 115, 116, 117, 118, 119, 120, 121, 167, 168, 169, 170, 171, 172, 173, 174, 175}]\n",
      "190-->[{0, 1, 2, 3, 4, 5, 6, 7, 8, 9, 10, 11, 22, 23, 24, 25, 26, 27, 29, 30, 31, 32, 33, 34, 35, 36, 37, 38, 39, 40, 41, 42, 43, 44, 45, 46, 47, 48, 49, 50, 51, 52, 53, 54, 93, 94, 95, 96, 97, 98, 99, 122, 123, 124, 125, 126, 127, 128, 129, 130, 131, 132, 133, 134, 135, 136, 137, 138, 139, 140, 141, 142, 143, 144, 145, 146, 147, 148, 149, 150, 151, 152, 153, 154, 155, 156, 157, 158, 159, 160, 161, 162, 163, 164, 165, 166, 176, 177, 178, 179, 180, 181, 182, 183, 184, 185, 186, 187, 188, 189, 190, 191, 192, 193, 194, 195, 196, 197, 198, 199}]\n"
     ]
    }
   ],
   "source": [
    "for key,value in cluster_idx.items():\n",
    "    print(f'{key}-->[{value}]')"
   ]
  },
  {
   "cell_type": "code",
   "execution_count": 200,
   "metadata": {},
   "outputs": [],
   "source": [
    "from scipy.cluster.hierarchy import dendrogram, linkage\n",
    "from matplotlib import pyplot as plt"
   ]
  },
  {
   "cell_type": "code",
   "execution_count": 212,
   "metadata": {},
   "outputs": [
    {
     "data": {
      "text/plain": [
       "array([[0.00000000e+00, 3.58914553e+23, 2.25725886e+23, ...,\n",
       "        7.27193999e+24, 7.39650280e+24, 6.86564756e+24],\n",
       "       [3.58914553e+23, 0.00000000e+00, 3.41977826e+23, ...,\n",
       "        7.52979868e+24, 7.65546066e+24, 7.11242324e+24],\n",
       "       [2.25725886e+23, 3.41977826e+23, 0.00000000e+00, ...,\n",
       "        7.23073402e+24, 7.35789021e+24, 6.81996801e+24],\n",
       "       ...,\n",
       "       [7.27193999e+24, 7.52979868e+24, 7.23073402e+24, ...,\n",
       "        0.00000000e+00, 2.95093652e+23, 5.57735281e+23],\n",
       "       [7.39650280e+24, 7.65546066e+24, 7.35789021e+24, ...,\n",
       "        2.95093652e+23, 0.00000000e+00, 6.44263043e+23],\n",
       "       [6.86564756e+24, 7.11242324e+24, 6.81996801e+24, ...,\n",
       "        5.57735281e+23, 6.44263043e+23, 0.00000000e+00]])"
      ]
     },
     "execution_count": 212,
     "metadata": {},
     "output_type": "execute_result"
    }
   ],
   "source": [
    "ds_copy = np.nan_to_num(ds)\n",
    "ds_copy"
   ]
  },
  {
   "cell_type": "code",
   "execution_count": 221,
   "metadata": {},
   "outputs": [
    {
     "data": {
      "image/png": "[encoded data removed]",
      "text/plain": [
       "<Figure size 1800x720 with 1 Axes>"
      ]
     },
     "metadata": {},
     "output_type": "display_data"
    }
   ],
   "source": [
    "Z = linkage(ds_copy,method='single')\n",
    "fig = plt.figure(figsize=(25, 10))\n",
    "dn = dendrogram(Z)"
   ]
  },
  {
   "cell_type": "code",
   "execution_count": 222,
   "metadata": {},
   "outputs": [
    {
     "data": {
      "text/plain": [
       "(200, 200)"
      ]
     },
     "execution_count": 222,
     "metadata": {},
     "output_type": "execute_result"
    }
   ],
   "source": [
    "ds_copy.shape"
   ]
  },
  {
   "cell_type": "code",
   "execution_count": 226,
   "metadata": {},
   "outputs": [],
   "source": [
    "from sklearn.neighbors import kneighbors_graph\n",
    "A = kneighbors_graph(ds_copy, 3, mode='connectivity', include_self=True)"
   ]
  },
  {
   "cell_type": "code",
   "execution_count": 230,
   "metadata": {},
   "outputs": [
    {
     "data": {
      "image/png": "[encoded data removed]",
      "text/plain": [
       "<Figure size 432x288 with 1 Axes>"
      ]
     },
     "metadata": {},
     "output_type": "display_data"
    }
   ],
   "source": [
    "plt.spy(A);"
   ]
  },
  {
   "cell_type": "code",
   "execution_count": 233,
   "metadata": {},
   "outputs": [],
   "source": [
    "import networkx as nx\n",
    "G = nx.Graph(A)"
   ]
  },
  {
   "cell_type": "code",
   "execution_count": 234,
   "metadata": {},
   "outputs": [
    {
     "data": {
      "text/plain": [
       "<networkx.classes.graph.Graph at 0x1e633ed2f70>"
      ]
     },
     "execution_count": 234,
     "metadata": {},
     "output_type": "execute_result"
    }
   ],
   "source": [
    "G"
   ]
  },
  {
   "cell_type": "code",
   "execution_count": 235,
   "metadata": {},
   "outputs": [
    {
     "data": {
      "text/plain": [
       "NodeView((0, 1, 2, 3, 4, 5, 6, 7, 8, 9, 10, 11, 12, 13, 14, 15, 16, 17, 18, 19, 20, 21, 22, 23, 24, 25, 26, 27, 28, 29, 30, 31, 32, 33, 34, 35, 36, 37, 38, 39, 40, 41, 42, 43, 44, 45, 46, 47, 48, 49, 50, 51, 52, 53, 54, 55, 56, 57, 58, 59, 60, 61, 62, 63, 64, 65, 66, 67, 68, 69, 70, 71, 72, 73, 74, 75, 76, 77, 78, 79, 80, 81, 82, 83, 84, 85, 86, 87, 88, 89, 90, 91, 92, 93, 94, 95, 96, 97, 98, 99, 100, 101, 102, 103, 104, 105, 106, 107, 108, 109, 110, 111, 112, 113, 114, 115, 116, 117, 118, 119, 120, 121, 122, 123, 124, 125, 126, 127, 128, 129, 130, 131, 132, 133, 134, 135, 136, 137, 138, 139, 140, 141, 142, 143, 144, 145, 146, 147, 148, 149, 150, 151, 152, 153, 154, 155, 156, 157, 158, 159, 160, 161, 162, 163, 164, 165, 166, 167, 168, 169, 170, 171, 172, 173, 174, 175, 176, 177, 178, 179, 180, 181, 182, 183, 184, 185, 186, 187, 188, 189, 190, 191, 192, 193, 194, 195, 196, 197, 198, 199))"
      ]
     },
     "execution_count": 235,
     "metadata": {},
     "output_type": "execute_result"
    }
   ],
   "source": [
    "G.nodes"
   ]
  },
  {
   "cell_type": "code",
   "execution_count": 242,
   "metadata": {},
   "outputs": [
    {
     "data": {
      "image/png": "[encoded data removed]",
      "text/plain": [
       "<Figure size 432x288 with 1 Axes>"
      ]
     },
     "metadata": {},
     "output_type": "display_data"
    }
   ],
   "source": [
    "nx.draw_spectral(G)"
   ]
  },
  {
   "cell_type": "code",
   "execution_count": 243,
   "metadata": {},
   "outputs": [
    {
     "name": "stdout",
     "output_type": "stream",
     "text": [
      "  (0, 0)\t1.0\n",
      "  (0, 2)\t1.0\n",
      "  (0, 3)\t1.0\n",
      "  (1, 1)\t1.0\n",
      "  (1, 0)\t1.0\n",
      "  (1, 2)\t1.0\n",
      "  (2, 2)\t1.0\n",
      "  (2, 3)\t1.0\n",
      "  (2, 0)\t1.0\n",
      "  (3, 3)\t1.0\n",
      "  (3, 2)\t1.0\n",
      "  (3, 7)\t1.0\n",
      "  (4, 4)\t1.0\n",
      "  (4, 5)\t1.0\n",
      "  (4, 6)\t1.0\n",
      "  (5, 5)\t1.0\n",
      "  (5, 4)\t1.0\n",
      "  (5, 6)\t1.0\n",
      "  (6, 6)\t1.0\n",
      "  (6, 5)\t1.0\n",
      "  (6, 4)\t1.0\n",
      "  (7, 7)\t1.0\n",
      "  (7, 3)\t1.0\n",
      "  (7, 2)\t1.0\n",
      "  (8, 8)\t1.0\n",
      "  :\t:\n",
      "  (191, 194)\t1.0\n",
      "  (192, 192)\t1.0\n",
      "  (192, 194)\t1.0\n",
      "  (192, 191)\t1.0\n",
      "  (193, 193)\t1.0\n",
      "  (193, 196)\t1.0\n",
      "  (193, 199)\t1.0\n",
      "  (194, 194)\t1.0\n",
      "  (194, 192)\t1.0\n",
      "  (194, 191)\t1.0\n",
      "  (195, 195)\t1.0\n",
      "  (195, 194)\t1.0\n",
      "  (195, 191)\t1.0\n",
      "  (196, 196)\t1.0\n",
      "  (196, 199)\t1.0\n",
      "  (196, 193)\t1.0\n",
      "  (197, 197)\t1.0\n",
      "  (197, 198)\t1.0\n",
      "  (197, 144)\t1.0\n",
      "  (198, 198)\t1.0\n",
      "  (198, 197)\t1.0\n",
      "  (198, 144)\t1.0\n",
      "  (199, 199)\t1.0\n",
      "  (199, 143)\t1.0\n",
      "  (199, 196)\t1.0\n"
     ]
    }
   ],
   "source": [
    "print(A)"
   ]
  },
  {
   "cell_type": "code",
   "execution_count": 245,
   "metadata": {},
   "outputs": [],
   "source": [
    "A_copy = 0.5* (A + A.T)"
   ]
  },
  {
   "cell_type": "code",
   "execution_count": 246,
   "metadata": {},
   "outputs": [
    {
     "data": {
      "text/plain": [
       "<200x200 sparse matrix of type '<class 'numpy.float64'>'\n",
       "\twith 728 stored elements in Compressed Sparse Row format>"
      ]
     },
     "execution_count": 246,
     "metadata": {},
     "output_type": "execute_result"
    }
   ],
   "source": [
    "A_copy"
   ]
  },
  {
   "cell_type": "code",
   "execution_count": 247,
   "metadata": {},
   "outputs": [
    {
     "name": "stdout",
     "output_type": "stream",
     "text": [
      "  (0, 1)\t0.5\n",
      "  (0, 3)\t0.5\n",
      "  (0, 2)\t1.0\n",
      "  (0, 0)\t1.0\n",
      "  (1, 2)\t0.5\n",
      "  (1, 0)\t0.5\n",
      "  (1, 1)\t1.0\n",
      "  (2, 7)\t0.5\n",
      "  (2, 1)\t0.5\n",
      "  (2, 0)\t1.0\n",
      "  (2, 3)\t1.0\n",
      "  (2, 2)\t1.0\n",
      "  (3, 0)\t0.5\n",
      "  (3, 7)\t1.0\n",
      "  (3, 2)\t1.0\n",
      "  (3, 3)\t1.0\n",
      "  (4, 6)\t1.0\n",
      "  (4, 5)\t1.0\n",
      "  (4, 4)\t1.0\n",
      "  (5, 8)\t0.5\n",
      "  (5, 6)\t1.0\n",
      "  (5, 4)\t1.0\n",
      "  (5, 5)\t1.0\n",
      "  (6, 8)\t0.5\n",
      "  (6, 4)\t1.0\n",
      "  :\t:\n",
      "  (192, 194)\t1.0\n",
      "  (192, 192)\t1.0\n",
      "  (193, 199)\t0.5\n",
      "  (193, 196)\t1.0\n",
      "  (193, 193)\t1.0\n",
      "  (194, 195)\t0.5\n",
      "  (194, 191)\t1.0\n",
      "  (194, 192)\t1.0\n",
      "  (194, 194)\t1.0\n",
      "  (195, 191)\t0.5\n",
      "  (195, 194)\t0.5\n",
      "  (195, 195)\t1.0\n",
      "  (196, 193)\t1.0\n",
      "  (196, 199)\t1.0\n",
      "  (196, 196)\t1.0\n",
      "  (197, 144)\t0.5\n",
      "  (197, 198)\t1.0\n",
      "  (197, 197)\t1.0\n",
      "  (198, 144)\t0.5\n",
      "  (198, 197)\t1.0\n",
      "  (198, 198)\t1.0\n",
      "  (199, 193)\t0.5\n",
      "  (199, 196)\t1.0\n",
      "  (199, 143)\t1.0\n",
      "  (199, 199)\t1.0\n"
     ]
    }
   ],
   "source": [
    "print(A_copy)"
   ]
  },
  {
   "cell_type": "code",
   "execution_count": 248,
   "metadata": {},
   "outputs": [
    {
     "data": {
      "image/png": "[encoded data removed]",
      "text/plain": [
       "<Figure size 432x288 with 1 Axes>"
      ]
     },
     "metadata": {},
     "output_type": "display_data"
    }
   ],
   "source": [
    "G_copy = nx.Graph(A_copy)\n",
    "nx.draw_spectral(G_copy)"
   ]
  },
  {
   "cell_type": "code",
   "execution_count": 249,
   "metadata": {},
   "outputs": [],
   "source": [
    "adj = nx.adjacency_matrix(G_copy)"
   ]
  },
  {
   "cell_type": "code",
   "execution_count": 271,
   "metadata": {},
   "outputs": [
    {
     "data": {
      "text/plain": [
       "numpy.matrix"
      ]
     },
     "execution_count": 271,
     "metadata": {},
     "output_type": "execute_result"
    }
   ],
   "source": [
    "adj = A.todense()\n",
    "type(adj)"
   ]
  },
  {
   "cell_type": "code",
   "execution_count": 290,
   "metadata": {},
   "outputs": [],
   "source": [
    "adj_copy = adj.copy()"
   ]
  },
  {
   "cell_type": "code",
   "execution_count": 280,
   "metadata": {},
   "outputs": [
    {
     "ename": "IndexError",
     "evalue": "index 1 is out of bounds for axis 0 with size 1",
     "output_type": "error",
     "traceback": [
      "\u001b[1;31m---------------------------------------------------------------------------\u001b[0m",
      "\u001b[1;31mIndexError\u001b[0m                                Traceback (most recent call last)",
      "\u001b[1;32m<ipython-input-280-3f942b112deb>\u001b[0m in \u001b[0;36m<module>\u001b[1;34m\u001b[0m\n\u001b[0;32m      2\u001b[0m     \u001b[1;32mfor\u001b[0m \u001b[0mj\u001b[0m \u001b[1;32min\u001b[0m \u001b[0mrange\u001b[0m\u001b[1;33m(\u001b[0m\u001b[0madj_copy\u001b[0m\u001b[1;33m.\u001b[0m\u001b[0mshape\u001b[0m\u001b[1;33m[\u001b[0m\u001b[1;36m1\u001b[0m\u001b[1;33m]\u001b[0m\u001b[1;33m)\u001b[0m\u001b[1;33m:\u001b[0m\u001b[1;33m\u001b[0m\u001b[1;33m\u001b[0m\u001b[0m\n\u001b[0;32m      3\u001b[0m         \u001b[1;32mif\u001b[0m \u001b[0mi\u001b[0m \u001b[1;33m==\u001b[0m \u001b[0mj\u001b[0m\u001b[1;33m:\u001b[0m\u001b[1;33m\u001b[0m\u001b[1;33m\u001b[0m\u001b[0m\n\u001b[1;32m----> 4\u001b[1;33m             \u001b[0madj_copy\u001b[0m\u001b[1;33m[\u001b[0m\u001b[0mi\u001b[0m\u001b[1;33m]\u001b[0m\u001b[1;33m[\u001b[0m\u001b[0mj\u001b[0m\u001b[1;33m]\u001b[0m \u001b[1;33m=\u001b[0m \u001b[1;36m0\u001b[0m\u001b[1;33m\u001b[0m\u001b[1;33m\u001b[0m\u001b[0m\n\u001b[0m\u001b[0;32m      5\u001b[0m         \u001b[1;32melse\u001b[0m\u001b[1;33m:\u001b[0m\u001b[1;33m\u001b[0m\u001b[1;33m\u001b[0m\u001b[0m\n\u001b[0;32m      6\u001b[0m             \u001b[1;32mcontinue\u001b[0m\u001b[1;33m\u001b[0m\u001b[1;33m\u001b[0m\u001b[0m\n",
      "\u001b[1;32m~\\Anaconda3\\envs\\mvts_fss_ay\\lib\\site-packages\\numpy\\matrixlib\\defmatrix.py\u001b[0m in \u001b[0;36m__getitem__\u001b[1;34m(self, index)\u001b[0m\n\u001b[0;32m    191\u001b[0m \u001b[1;33m\u001b[0m\u001b[0m\n\u001b[0;32m    192\u001b[0m         \u001b[1;32mtry\u001b[0m\u001b[1;33m:\u001b[0m\u001b[1;33m\u001b[0m\u001b[1;33m\u001b[0m\u001b[0m\n\u001b[1;32m--> 193\u001b[1;33m             \u001b[0mout\u001b[0m \u001b[1;33m=\u001b[0m \u001b[0mN\u001b[0m\u001b[1;33m.\u001b[0m\u001b[0mndarray\u001b[0m\u001b[1;33m.\u001b[0m\u001b[0m__getitem__\u001b[0m\u001b[1;33m(\u001b[0m\u001b[0mself\u001b[0m\u001b[1;33m,\u001b[0m \u001b[0mindex\u001b[0m\u001b[1;33m)\u001b[0m\u001b[1;33m\u001b[0m\u001b[1;33m\u001b[0m\u001b[0m\n\u001b[0m\u001b[0;32m    194\u001b[0m         \u001b[1;32mfinally\u001b[0m\u001b[1;33m:\u001b[0m\u001b[1;33m\u001b[0m\u001b[1;33m\u001b[0m\u001b[0m\n\u001b[0;32m    195\u001b[0m             \u001b[0mself\u001b[0m\u001b[1;33m.\u001b[0m\u001b[0m_getitem\u001b[0m \u001b[1;33m=\u001b[0m \u001b[1;32mFalse\u001b[0m\u001b[1;33m\u001b[0m\u001b[1;33m\u001b[0m\u001b[0m\n",
      "\u001b[1;31mIndexError\u001b[0m: index 1 is out of bounds for axis 0 with size 1"
     ]
    }
   ],
   "source": [
    "for i in range(adj_copy.shape[0]):\n",
    "    for j in range(adj_copy.shape[1]):\n",
    "        if i == j:\n",
    "            adj_copy[i][j] = 0\n",
    "        else:\n",
    "            continue"
   ]
  },
  {
   "cell_type": "code",
   "execution_count": 281,
   "metadata": {},
   "outputs": [],
   "source": [
    "adj_copy = nfill_diagonal(adj_copy,0)"
   ]
  },
  {
   "cell_type": "code",
   "execution_count": 298,
   "metadata": {},
   "outputs": [],
   "source": [
    "np.fill_diagonal(adj_copy,0)"
   ]
  },
  {
   "cell_type": "code",
   "execution_count": 299,
   "metadata": {},
   "outputs": [
    {
     "data": {
      "text/plain": [
       "matrix([[0., 0., 0., 0., 0., 0., 0., 0., 0., 0., 0., 0., 0., 0., 0., 0.,\n",
       "         0., 0., 0., 0., 0., 0., 0., 0., 0., 0., 0., 0., 0., 0., 0., 0.,\n",
       "         0., 0., 0., 0., 0., 0., 0., 0., 0., 0., 0., 0., 0., 0., 0., 0.,\n",
       "         0., 0., 0., 0., 0., 0., 0., 0., 0., 0., 0., 0., 0., 0., 0., 0.,\n",
       "         0., 0., 0., 0., 0., 0., 0., 0., 0., 0., 0., 0., 0., 0., 0., 0.,\n",
       "         0., 0., 0., 0., 0., 0., 0., 0., 0., 0., 0., 0., 0., 0., 0., 0.,\n",
       "         0., 0., 0., 0., 0., 0., 0., 0., 0., 0., 0., 0., 0., 0., 0., 0.,\n",
       "         0., 0., 0., 0., 0., 0., 0., 0., 0., 0., 0., 0., 0., 0., 0., 0.,\n",
       "         0., 0., 0., 0., 0., 0., 0., 0., 0., 0., 0., 0., 0., 0., 0., 0.,\n",
       "         0., 0., 0., 0., 0., 0., 0., 0., 0., 0., 0., 0., 0., 0., 0., 0.,\n",
       "         0., 0., 0., 0., 0., 0., 0., 0., 0., 0., 0., 0., 0., 0., 0., 0.,\n",
       "         0., 0., 0., 0., 0., 0., 0., 0., 0., 0., 0., 0., 0., 0., 0., 0.,\n",
       "         0., 0., 0., 0., 0., 0., 0., 0.]])"
      ]
     },
     "execution_count": 299,
     "metadata": {},
     "output_type": "execute_result"
    }
   ],
   "source": [
    "adj_copy.diagonal()"
   ]
  },
  {
   "cell_type": "code",
   "execution_count": 300,
   "metadata": {},
   "outputs": [],
   "source": [
    "adj = adj_copy"
   ]
  },
  {
   "cell_type": "code",
   "execution_count": 301,
   "metadata": {},
   "outputs": [
    {
     "data": {
      "text/plain": [
       "matrix([[0., 0., 1., ..., 0., 0., 0.],\n",
       "        [1., 0., 1., ..., 0., 0., 0.],\n",
       "        [1., 0., 0., ..., 0., 0., 0.],\n",
       "        ...,\n",
       "        [0., 0., 0., ..., 0., 1., 0.],\n",
       "        [0., 0., 0., ..., 1., 0., 0.],\n",
       "        [0., 0., 0., ..., 0., 0., 0.]])"
      ]
     },
     "execution_count": 301,
     "metadata": {},
     "output_type": "execute_result"
    }
   ],
   "source": [
    "adj"
   ]
  },
  {
   "cell_type": "code",
   "execution_count": 308,
   "metadata": {},
   "outputs": [],
   "source": [
    "from sklearn.cluster import AffinityPropagation\n",
    "clustering = AffinityPropagation().fit(adj)"
   ]
  },
  {
   "cell_type": "code",
   "execution_count": 309,
   "metadata": {},
   "outputs": [
    {
     "data": {
      "text/plain": [
       "AffinityPropagation()"
      ]
     },
     "execution_count": 309,
     "metadata": {},
     "output_type": "execute_result"
    }
   ],
   "source": [
    "clustering"
   ]
  },
  {
   "cell_type": "code",
   "execution_count": 310,
   "metadata": {},
   "outputs": [
    {
     "data": {
      "text/plain": [
       "-1"
      ]
     },
     "execution_count": 310,
     "metadata": {},
     "output_type": "execute_result"
    }
   ],
   "source": [
    "clustering.labels_.min()"
   ]
  },
  {
   "cell_type": "code",
   "execution_count": 311,
   "metadata": {},
   "outputs": [
    {
     "data": {
      "text/plain": [
       "array([], shape=(0, 200), dtype=float64)"
      ]
     },
     "execution_count": 311,
     "metadata": {},
     "output_type": "execute_result"
    }
   ],
   "source": [
    " clustering.cluster_centers_"
   ]
  },
  {
   "cell_type": "code",
   "execution_count": 312,
   "metadata": {},
   "outputs": [],
   "source": [
    "from sklearn.cluster import SpectralClustering\n",
    "clustering = SpectralClustering(n_clusters=3,random_state=0).fit(adj)"
   ]
  },
  {
   "cell_type": "code",
   "execution_count": 313,
   "metadata": {},
   "outputs": [
    {
     "data": {
      "text/plain": [
       "SpectralClustering(n_clusters=3, random_state=0)"
      ]
     },
     "execution_count": 313,
     "metadata": {},
     "output_type": "execute_result"
    }
   ],
   "source": [
    "clustering"
   ]
  },
  {
   "cell_type": "code",
   "execution_count": 314,
   "metadata": {},
   "outputs": [
    {
     "data": {
      "text/plain": [
       "array([0, 0, 0, 0, 0, 0, 0, 0, 0, 0, 0, 0, 0, 0, 0, 0, 0, 0, 0, 0, 0, 0,\n",
       "       0, 0, 0, 0, 0, 0, 0, 0, 0, 0, 0, 0, 0, 0, 0, 0, 0, 0, 0, 0, 0, 0,\n",
       "       0, 0, 0, 0, 0, 0, 0, 0, 0, 0, 1, 0, 0, 2, 0, 0, 0, 0, 0, 0, 2, 2,\n",
       "       2, 0, 0, 0, 0, 0, 0, 0, 0, 0, 0, 0, 0, 0, 0, 0, 0, 0, 0, 0, 0, 0,\n",
       "       0, 0, 0, 0, 0, 0, 0, 1, 0, 1, 1, 0, 0, 0, 0, 0, 0, 0, 0, 0, 0, 0,\n",
       "       0, 0, 0, 0, 0, 0, 0, 0, 0, 0, 0, 0, 0, 0, 0, 0, 0, 0, 0, 0, 0, 0,\n",
       "       0, 0, 0, 0, 0, 0, 0, 0, 0, 0, 0, 0, 0, 0, 0, 0, 0, 0, 0, 0, 0, 0,\n",
       "       0, 0, 0, 0, 0, 0, 0, 0, 0, 0, 0, 0, 0, 0, 0, 0, 0, 0, 0, 0, 0, 0,\n",
       "       0, 0, 0, 0, 0, 0, 0, 0, 0, 0, 0, 0, 0, 0, 0, 0, 0, 0, 0, 0, 0, 0,\n",
       "       0, 0])"
      ]
     },
     "execution_count": 314,
     "metadata": {},
     "output_type": "execute_result"
    }
   ],
   "source": [
    "clustering.labels_"
   ]
  },
  {
   "cell_type": "code",
   "execution_count": 316,
   "metadata": {},
   "outputs": [],
   "source": [
    "import networkx as nx\n",
    "import numpy as np\n",
    "\n",
    "m = adj\n",
    "G = nx.from_numpy_matrix(m)\n",
    "degree_matrix = nx.laplacian_matrix(G).toarray()"
   ]
  },
  {
   "cell_type": "code",
   "execution_count": 318,
   "metadata": {},
   "outputs": [
    {
     "data": {
      "text/plain": [
       "(200, 200)"
      ]
     },
     "execution_count": 318,
     "metadata": {},
     "output_type": "execute_result"
    }
   ],
   "source": [
    "degree_matrix.shape"
   ]
  },
  {
   "cell_type": "code",
   "execution_count": 319,
   "metadata": {},
   "outputs": [
    {
     "data": {
      "text/plain": [
       "array([[ 3., -1., -1., ...,  0.,  0.,  0.],\n",
       "       [-1.,  2., -1., ...,  0.,  0.,  0.],\n",
       "       [-1., -1.,  4., ...,  0.,  0.,  0.],\n",
       "       ...,\n",
       "       [ 0.,  0.,  0., ...,  2., -1.,  0.],\n",
       "       [ 0.,  0.,  0., ..., -1.,  2.,  0.],\n",
       "       [ 0.,  0.,  0., ...,  0.,  0.,  3.]])"
      ]
     },
     "execution_count": 319,
     "metadata": {},
     "output_type": "execute_result"
    }
   ],
   "source": [
    "degree_matrix"
   ]
  },
  {
   "cell_type": "code",
   "execution_count": 322,
   "metadata": {},
   "outputs": [
    {
     "name": "stdout",
     "output_type": "stream",
     "text": [
      "(200, 200)\n"
     ]
    },
    {
     "data": {
      "text/plain": [
       "array([[ 2.36190476e-01, -1.90476190e-03, -4.00000000e-02, ...,\n",
       "         0.00000000e+00,  0.00000000e+00,  0.00000000e+00],\n",
       "       [-1.90476190e-03,  3.79047619e-01, -4.00000000e-02, ...,\n",
       "        -2.09982063e-72, -2.09982063e-72, -2.09982063e-72],\n",
       "       [-4.00000000e-02, -4.00000000e-02,  1.60000000e-01, ...,\n",
       "        -2.53560134e-71, -2.53560134e-71, -2.53560134e-71],\n",
       "       ...,\n",
       "       [-2.97547862e-87, -4.92207398e-31, -3.54205371e-31, ...,\n",
       "         2.78487538e+00,  2.45154205e+00,  6.43849740e-01],\n",
       "       [-1.20924079e-87, -4.91373482e-31, -3.53675067e-31, ...,\n",
       "         2.45154205e+00,  2.78487538e+00,  6.43849740e-01],\n",
       "       [-2.09235970e-87, -3.91575177e-31, -2.81815571e-31, ...,\n",
       "         6.43849740e-01,  6.43849740e-01,  2.16949077e+00]])"
      ]
     },
     "execution_count": 322,
     "metadata": {},
     "output_type": "execute_result"
    }
   ],
   "source": [
    "degree_matrix_inv = np.linalg.pinv(degree_matrix)\n",
    "print(degree_matrix_inv.shape)\n",
    "degree_matrix_inv"
   ]
  },
  {
   "cell_type": "code",
   "execution_count": 332,
   "metadata": {},
   "outputs": [
    {
     "data": {
      "text/plain": [
       "(200, 1)"
      ]
     },
     "execution_count": 332,
     "metadata": {},
     "output_type": "execute_result"
    }
   ],
   "source": [
    "v = np.ones((200,1))\n",
    "v.shape"
   ]
  },
  {
   "cell_type": "code",
   "execution_count": null,
   "metadata": {},
   "outputs": [],
   "source": []
  },
  {
   "cell_type": "code",
   "execution_count": 341,
   "metadata": {},
   "outputs": [],
   "source": [
    "w =np.matmul(degree_matrix_inv,adj)\n",
    "v_t = np.random.rand(200,1)\n",
    "chi_t = np.random.rand(200,1)"
   ]
  },
  {
   "cell_type": "code",
   "execution_count": 342,
   "metadata": {},
   "outputs": [
    {
     "data": {
      "text/plain": [
       "(200, 1)"
      ]
     },
     "execution_count": 342,
     "metadata": {},
     "output_type": "execute_result"
    }
   ],
   "source": [
    "v_t.shape"
   ]
  },
  {
   "cell_type": "code",
   "execution_count": 337,
   "metadata": {},
   "outputs": [
    {
     "data": {
      "text/plain": [
       "1.2347215344876206"
      ]
     },
     "execution_count": 337,
     "metadata": {},
     "output_type": "execute_result"
    }
   ],
   "source": [
    "abs(v-(w*v)/(np.linalg.norm(w*v))).max()"
   ]
  },
  {
   "cell_type": "code",
   "execution_count": null,
   "metadata": {},
   "outputs": [],
   "source": [
    "while(True):\n",
    "    v_t = (np.matmul(w,v_t))/(np.linalg.norm(np.matmul(w,v_t))\n",
    "    chi_t = abs(v_t)                          "
   ]
  },
  {
   "cell_type": "code",
   "execution_count": 351,
   "metadata": {},
   "outputs": [
    {
     "ename": "ValueError",
     "evalue": "non-broadcastable output operand with shape (200,) doesn't match the broadcast shape (1,200)",
     "output_type": "error",
     "traceback": [
      "\u001b[1;31m---------------------------------------------------------------------------\u001b[0m",
      "\u001b[1;31mValueError\u001b[0m                                Traceback (most recent call last)",
      "\u001b[1;32m<ipython-input-351-e60407bc323c>\u001b[0m in \u001b[0;36m<module>\u001b[1;34m\u001b[0m\n\u001b[0;32m      1\u001b[0m \u001b[1;32mfrom\u001b[0m \u001b[0msklearn\u001b[0m\u001b[1;33m.\u001b[0m\u001b[0mmanifold\u001b[0m \u001b[1;32mimport\u001b[0m \u001b[0mspectral_embedding\u001b[0m\u001b[1;33m\u001b[0m\u001b[1;33m\u001b[0m\u001b[0m\n\u001b[1;32m----> 2\u001b[1;33m \u001b[0membedding\u001b[0m \u001b[1;33m=\u001b[0m \u001b[0mspectral_embedding\u001b[0m\u001b[1;33m(\u001b[0m\u001b[0mw\u001b[0m\u001b[1;33m)\u001b[0m\u001b[1;33m\u001b[0m\u001b[1;33m\u001b[0m\u001b[0m\n\u001b[0m",
      "\u001b[1;32m~\\Anaconda3\\envs\\mvts_fss_ay\\lib\\site-packages\\sklearn\\utils\\validation.py\u001b[0m in \u001b[0;36minner_f\u001b[1;34m(*args, **kwargs)\u001b[0m\n\u001b[0;32m     61\u001b[0m             \u001b[0mextra_args\u001b[0m \u001b[1;33m=\u001b[0m \u001b[0mlen\u001b[0m\u001b[1;33m(\u001b[0m\u001b[0margs\u001b[0m\u001b[1;33m)\u001b[0m \u001b[1;33m-\u001b[0m \u001b[0mlen\u001b[0m\u001b[1;33m(\u001b[0m\u001b[0mall_args\u001b[0m\u001b[1;33m)\u001b[0m\u001b[1;33m\u001b[0m\u001b[1;33m\u001b[0m\u001b[0m\n\u001b[0;32m     62\u001b[0m             \u001b[1;32mif\u001b[0m \u001b[0mextra_args\u001b[0m \u001b[1;33m<=\u001b[0m \u001b[1;36m0\u001b[0m\u001b[1;33m:\u001b[0m\u001b[1;33m\u001b[0m\u001b[1;33m\u001b[0m\u001b[0m\n\u001b[1;32m---> 63\u001b[1;33m                 \u001b[1;32mreturn\u001b[0m \u001b[0mf\u001b[0m\u001b[1;33m(\u001b[0m\u001b[1;33m*\u001b[0m\u001b[0margs\u001b[0m\u001b[1;33m,\u001b[0m \u001b[1;33m**\u001b[0m\u001b[0mkwargs\u001b[0m\u001b[1;33m)\u001b[0m\u001b[1;33m\u001b[0m\u001b[1;33m\u001b[0m\u001b[0m\n\u001b[0m\u001b[0;32m     64\u001b[0m \u001b[1;33m\u001b[0m\u001b[0m\n\u001b[0;32m     65\u001b[0m             \u001b[1;31m# extra_args > 0\u001b[0m\u001b[1;33m\u001b[0m\u001b[1;33m\u001b[0m\u001b[1;33m\u001b[0m\u001b[0m\n",
      "\u001b[1;32m~\\Anaconda3\\envs\\mvts_fss_ay\\lib\\site-packages\\sklearn\\manifold\\_spectral_embedding.py\u001b[0m in \u001b[0;36mspectral_embedding\u001b[1;34m(adjacency, n_components, eigen_solver, random_state, eigen_tol, norm_laplacian, drop_first)\u001b[0m\n\u001b[0;32m    242\u001b[0m         \u001b[0mn_components\u001b[0m \u001b[1;33m=\u001b[0m \u001b[0mn_components\u001b[0m \u001b[1;33m+\u001b[0m \u001b[1;36m1\u001b[0m\u001b[1;33m\u001b[0m\u001b[1;33m\u001b[0m\u001b[0m\n\u001b[0;32m    243\u001b[0m \u001b[1;33m\u001b[0m\u001b[0m\n\u001b[1;32m--> 244\u001b[1;33m     \u001b[1;32mif\u001b[0m \u001b[1;32mnot\u001b[0m \u001b[0m_graph_is_connected\u001b[0m\u001b[1;33m(\u001b[0m\u001b[0madjacency\u001b[0m\u001b[1;33m)\u001b[0m\u001b[1;33m:\u001b[0m\u001b[1;33m\u001b[0m\u001b[1;33m\u001b[0m\u001b[0m\n\u001b[0m\u001b[0;32m    245\u001b[0m         warnings.warn(\"Graph is not fully connected, spectral embedding\"\n\u001b[0;32m    246\u001b[0m                       \" may not work as expected.\")\n",
      "\u001b[1;32m~\\Anaconda3\\envs\\mvts_fss_ay\\lib\\site-packages\\sklearn\\manifold\\_spectral_embedding.py\u001b[0m in \u001b[0;36m_graph_is_connected\u001b[1;34m(graph)\u001b[0m\n\u001b[0;32m     93\u001b[0m     \u001b[1;32melse\u001b[0m\u001b[1;33m:\u001b[0m\u001b[1;33m\u001b[0m\u001b[1;33m\u001b[0m\u001b[0m\n\u001b[0;32m     94\u001b[0m         \u001b[1;31m# dense graph, find all connected components start from node 0\u001b[0m\u001b[1;33m\u001b[0m\u001b[1;33m\u001b[0m\u001b[1;33m\u001b[0m\u001b[0m\n\u001b[1;32m---> 95\u001b[1;33m         \u001b[1;32mreturn\u001b[0m \u001b[0m_graph_connected_component\u001b[0m\u001b[1;33m(\u001b[0m\u001b[0mgraph\u001b[0m\u001b[1;33m,\u001b[0m \u001b[1;36m0\u001b[0m\u001b[1;33m)\u001b[0m\u001b[1;33m.\u001b[0m\u001b[0msum\u001b[0m\u001b[1;33m(\u001b[0m\u001b[1;33m)\u001b[0m \u001b[1;33m==\u001b[0m \u001b[0mgraph\u001b[0m\u001b[1;33m.\u001b[0m\u001b[0mshape\u001b[0m\u001b[1;33m[\u001b[0m\u001b[1;36m0\u001b[0m\u001b[1;33m]\u001b[0m\u001b[1;33m\u001b[0m\u001b[1;33m\u001b[0m\u001b[0m\n\u001b[0m\u001b[0;32m     96\u001b[0m \u001b[1;33m\u001b[0m\u001b[0m\n\u001b[0;32m     97\u001b[0m \u001b[1;33m\u001b[0m\u001b[0m\n",
      "\u001b[1;32m~\\Anaconda3\\envs\\mvts_fss_ay\\lib\\site-packages\\sklearn\\manifold\\_spectral_embedding.py\u001b[0m in \u001b[0;36m_graph_connected_component\u001b[1;34m(graph, node_id)\u001b[0m\n\u001b[0;32m     69\u001b[0m             \u001b[1;32melse\u001b[0m\u001b[1;33m:\u001b[0m\u001b[1;33m\u001b[0m\u001b[1;33m\u001b[0m\u001b[0m\n\u001b[0;32m     70\u001b[0m                 \u001b[0mneighbors\u001b[0m \u001b[1;33m=\u001b[0m \u001b[0mgraph\u001b[0m\u001b[1;33m[\u001b[0m\u001b[0mi\u001b[0m\u001b[1;33m]\u001b[0m\u001b[1;33m\u001b[0m\u001b[1;33m\u001b[0m\u001b[0m\n\u001b[1;32m---> 71\u001b[1;33m             \u001b[0mnp\u001b[0m\u001b[1;33m.\u001b[0m\u001b[0mlogical_or\u001b[0m\u001b[1;33m(\u001b[0m\u001b[0mnodes_to_explore\u001b[0m\u001b[1;33m,\u001b[0m \u001b[0mneighbors\u001b[0m\u001b[1;33m,\u001b[0m \u001b[0mout\u001b[0m\u001b[1;33m=\u001b[0m\u001b[0mnodes_to_explore\u001b[0m\u001b[1;33m)\u001b[0m\u001b[1;33m\u001b[0m\u001b[1;33m\u001b[0m\u001b[0m\n\u001b[0m\u001b[0;32m     72\u001b[0m     \u001b[1;32mreturn\u001b[0m \u001b[0mconnected_nodes\u001b[0m\u001b[1;33m\u001b[0m\u001b[1;33m\u001b[0m\u001b[0m\n\u001b[0;32m     73\u001b[0m \u001b[1;33m\u001b[0m\u001b[0m\n",
      "\u001b[1;31mValueError\u001b[0m: non-broadcastable output operand with shape (200,) doesn't match the broadcast shape (1,200)"
     ]
    }
   ],
   "source": [
    "from sklearn.manifold import spectral_embedding\n",
    "embedding = spectral_embedding(w)"
   ]
  },
  {
   "cell_type": "code",
   "execution_count": 353,
   "metadata": {},
   "outputs": [
    {
     "data": {
      "text/plain": [
       "numpy.matrix"
      ]
     },
     "execution_count": 353,
     "metadata": {},
     "output_type": "execute_result"
    }
   ],
   "source": [
    "type(adj)"
   ]
  },
  {
   "cell_type": "code",
   "execution_count": 370,
   "metadata": {},
   "outputs": [
    {
     "name": "stderr",
     "output_type": "stream",
     "text": [
      "C:\\Users\\athar\\Anaconda3\\envs\\mvts_fss_ay\\lib\\site-packages\\ipykernel\\ipkernel.py:287: DeprecationWarning: `should_run_async` will not call `transform_cell` automatically in the future. Please pass the result to `transformed_cell` argument and any exception that happen during thetransform in `preprocessing_exc_tuple` in IPython 7.17 and above.\n",
      "  and should_run_async(code)\n"
     ]
    }
   ],
   "source": [
    "from sknetwork.data import karate_club, painters, movie_actor\n",
    "from sknetwork.embedding import Spectral, BiSpectral, cosine_modularity"
   ]
  },
  {
   "cell_type": "code",
   "execution_count": 386,
   "metadata": {},
   "outputs": [
    {
     "ename": "ArpackNoConvergence",
     "evalue": "ARPACK error -1: No convergence (2001 iterations, 1/2 eigenvectors converged)",
     "output_type": "error",
     "traceback": [
      "\u001b[1;31m---------------------------------------------------------------------------\u001b[0m",
      "\u001b[1;31mArpackNoConvergence\u001b[0m                       Traceback (most recent call last)",
      "\u001b[1;32m<ipython-input-386-5b8686022999>\u001b[0m in \u001b[0;36m<module>\u001b[1;34m\u001b[0m\n\u001b[0;32m      1\u001b[0m \u001b[0mspectral\u001b[0m \u001b[1;33m=\u001b[0m \u001b[0mSpectral\u001b[0m\u001b[1;33m(\u001b[0m\u001b[1;36m1\u001b[0m\u001b[1;33m)\u001b[0m\u001b[1;33m\u001b[0m\u001b[1;33m\u001b[0m\u001b[0m\n\u001b[1;32m----> 2\u001b[1;33m \u001b[0membedding\u001b[0m \u001b[1;33m=\u001b[0m \u001b[0mspectral\u001b[0m\u001b[1;33m.\u001b[0m\u001b[0mfit_transform\u001b[0m\u001b[1;33m(\u001b[0m\u001b[0madj_1\u001b[0m\u001b[1;33m)\u001b[0m\u001b[1;33m\u001b[0m\u001b[1;33m\u001b[0m\u001b[0m\n\u001b[0m\u001b[0;32m      3\u001b[0m \u001b[0membedding\u001b[0m\u001b[1;33m.\u001b[0m\u001b[0mshape\u001b[0m\u001b[1;33m\u001b[0m\u001b[1;33m\u001b[0m\u001b[0m\n",
      "\u001b[1;32m~\\Anaconda3\\envs\\mvts_fss_ay\\lib\\site-packages\\sknetwork\\embedding\\base.py\u001b[0m in \u001b[0;36mfit_transform\u001b[1;34m(self, *args, **kwargs)\u001b[0m\n\u001b[0;32m     19\u001b[0m         \"\"\"Fit algorithm to the data and return the embedding of the rows.\n\u001b[0;32m     20\u001b[0m         Uses the same inputs as this class ``fit`` method.\"\"\"\n\u001b[1;32m---> 21\u001b[1;33m         \u001b[0mself\u001b[0m\u001b[1;33m.\u001b[0m\u001b[0mfit\u001b[0m\u001b[1;33m(\u001b[0m\u001b[1;33m*\u001b[0m\u001b[0margs\u001b[0m\u001b[1;33m,\u001b[0m \u001b[1;33m**\u001b[0m\u001b[0mkwargs\u001b[0m\u001b[1;33m)\u001b[0m\u001b[1;33m\u001b[0m\u001b[1;33m\u001b[0m\u001b[0m\n\u001b[0m\u001b[0;32m     22\u001b[0m         \u001b[1;32mreturn\u001b[0m \u001b[0mself\u001b[0m\u001b[1;33m.\u001b[0m\u001b[0membedding_\u001b[0m\u001b[1;33m\u001b[0m\u001b[1;33m\u001b[0m\u001b[0m\n",
      "\u001b[1;32m~\\Anaconda3\\envs\\mvts_fss_ay\\lib\\site-packages\\sknetwork\\embedding\\spectral.py\u001b[0m in \u001b[0;36mfit\u001b[1;34m(self, adjacency)\u001b[0m\n\u001b[0;32m    261\u001b[0m \u001b[1;33m\u001b[0m\u001b[0m\n\u001b[0;32m    262\u001b[0m             \u001b[0mself\u001b[0m\u001b[1;33m.\u001b[0m\u001b[0msolver\u001b[0m\u001b[1;33m.\u001b[0m\u001b[0mwhich\u001b[0m \u001b[1;33m=\u001b[0m \u001b[1;34m'LA'\u001b[0m\u001b[1;33m\u001b[0m\u001b[1;33m\u001b[0m\u001b[0m\n\u001b[1;32m--> 263\u001b[1;33m             \u001b[0mself\u001b[0m\u001b[1;33m.\u001b[0m\u001b[0msolver\u001b[0m\u001b[1;33m.\u001b[0m\u001b[0mfit\u001b[0m\u001b[1;33m(\u001b[0m\u001b[0mmatrix\u001b[0m\u001b[1;33m=\u001b[0m\u001b[0mnorm_adjacency\u001b[0m\u001b[1;33m,\u001b[0m \u001b[0mn_components\u001b[0m\u001b[1;33m=\u001b[0m\u001b[0mn_components\u001b[0m\u001b[1;33m)\u001b[0m\u001b[1;33m\u001b[0m\u001b[1;33m\u001b[0m\u001b[0m\n\u001b[0m\u001b[0;32m    264\u001b[0m             \u001b[0meigenvalues\u001b[0m \u001b[1;33m=\u001b[0m \u001b[1;36m1\u001b[0m \u001b[1;33m-\u001b[0m \u001b[0mself\u001b[0m\u001b[1;33m.\u001b[0m\u001b[0msolver\u001b[0m\u001b[1;33m.\u001b[0m\u001b[0meigenvalues_\u001b[0m\u001b[1;33m\u001b[0m\u001b[1;33m\u001b[0m\u001b[0m\n\u001b[0;32m    265\u001b[0m             \u001b[1;31m# eigenvalues of the Laplacian in increasing order\u001b[0m\u001b[1;33m\u001b[0m\u001b[1;33m\u001b[0m\u001b[1;33m\u001b[0m\u001b[0m\n",
      "\u001b[1;32m~\\Anaconda3\\envs\\mvts_fss_ay\\lib\\site-packages\\sknetwork\\linalg\\eig_solver.py\u001b[0m in \u001b[0;36mfit\u001b[1;34m(self, matrix, n_components)\u001b[0m\n\u001b[0;32m    106\u001b[0m \u001b[1;33m\u001b[0m\u001b[0m\n\u001b[0;32m    107\u001b[0m         \"\"\"\n\u001b[1;32m--> 108\u001b[1;33m         \u001b[0meigenvalues\u001b[0m\u001b[1;33m,\u001b[0m \u001b[0meigenvectors\u001b[0m \u001b[1;33m=\u001b[0m \u001b[0meigsh\u001b[0m\u001b[1;33m(\u001b[0m\u001b[0mmatrix\u001b[0m\u001b[1;33m.\u001b[0m\u001b[0mastype\u001b[0m\u001b[1;33m(\u001b[0m\u001b[0mnp\u001b[0m\u001b[1;33m.\u001b[0m\u001b[0mfloat\u001b[0m\u001b[1;33m)\u001b[0m\u001b[1;33m,\u001b[0m \u001b[0mn_components\u001b[0m\u001b[1;33m,\u001b[0m \u001b[0mwhich\u001b[0m\u001b[1;33m=\u001b[0m\u001b[0mself\u001b[0m\u001b[1;33m.\u001b[0m\u001b[0mwhich\u001b[0m\u001b[1;33m)\u001b[0m\u001b[1;33m\u001b[0m\u001b[1;33m\u001b[0m\u001b[0m\n\u001b[0m\u001b[0;32m    109\u001b[0m         \u001b[0mself\u001b[0m\u001b[1;33m.\u001b[0m\u001b[0meigenvectors_\u001b[0m \u001b[1;33m=\u001b[0m \u001b[0meigenvectors\u001b[0m\u001b[1;33m\u001b[0m\u001b[1;33m\u001b[0m\u001b[0m\n\u001b[0;32m    110\u001b[0m         \u001b[0mself\u001b[0m\u001b[1;33m.\u001b[0m\u001b[0meigenvalues_\u001b[0m \u001b[1;33m=\u001b[0m \u001b[0meigenvalues\u001b[0m\u001b[1;33m\u001b[0m\u001b[1;33m\u001b[0m\u001b[0m\n",
      "\u001b[1;32m~\\Anaconda3\\envs\\mvts_fss_ay\\lib\\site-packages\\scipy\\sparse\\linalg\\eigen\\arpack\\arpack.py\u001b[0m in \u001b[0;36meigsh\u001b[1;34m(A, k, M, sigma, which, v0, ncv, maxiter, tol, return_eigenvectors, Minv, OPinv, mode)\u001b[0m\n\u001b[0;32m   1688\u001b[0m     \u001b[1;32mwith\u001b[0m \u001b[0m_ARPACK_LOCK\u001b[0m\u001b[1;33m:\u001b[0m\u001b[1;33m\u001b[0m\u001b[1;33m\u001b[0m\u001b[0m\n\u001b[0;32m   1689\u001b[0m         \u001b[1;32mwhile\u001b[0m \u001b[1;32mnot\u001b[0m \u001b[0mparams\u001b[0m\u001b[1;33m.\u001b[0m\u001b[0mconverged\u001b[0m\u001b[1;33m:\u001b[0m\u001b[1;33m\u001b[0m\u001b[1;33m\u001b[0m\u001b[0m\n\u001b[1;32m-> 1690\u001b[1;33m             \u001b[0mparams\u001b[0m\u001b[1;33m.\u001b[0m\u001b[0miterate\u001b[0m\u001b[1;33m(\u001b[0m\u001b[1;33m)\u001b[0m\u001b[1;33m\u001b[0m\u001b[1;33m\u001b[0m\u001b[0m\n\u001b[0m\u001b[0;32m   1691\u001b[0m \u001b[1;33m\u001b[0m\u001b[0m\n\u001b[0;32m   1692\u001b[0m         \u001b[1;32mreturn\u001b[0m \u001b[0mparams\u001b[0m\u001b[1;33m.\u001b[0m\u001b[0mextract\u001b[0m\u001b[1;33m(\u001b[0m\u001b[0mreturn_eigenvectors\u001b[0m\u001b[1;33m)\u001b[0m\u001b[1;33m\u001b[0m\u001b[1;33m\u001b[0m\u001b[0m\n",
      "\u001b[1;32m~\\Anaconda3\\envs\\mvts_fss_ay\\lib\\site-packages\\scipy\\sparse\\linalg\\eigen\\arpack\\arpack.py\u001b[0m in \u001b[0;36miterate\u001b[1;34m(self)\u001b[0m\n\u001b[0;32m    568\u001b[0m                 \u001b[1;32mpass\u001b[0m\u001b[1;33m\u001b[0m\u001b[1;33m\u001b[0m\u001b[0m\n\u001b[0;32m    569\u001b[0m             \u001b[1;32melif\u001b[0m \u001b[0mself\u001b[0m\u001b[1;33m.\u001b[0m\u001b[0minfo\u001b[0m \u001b[1;33m==\u001b[0m \u001b[1;36m1\u001b[0m\u001b[1;33m:\u001b[0m\u001b[1;33m\u001b[0m\u001b[1;33m\u001b[0m\u001b[0m\n\u001b[1;32m--> 570\u001b[1;33m                 \u001b[0mself\u001b[0m\u001b[1;33m.\u001b[0m\u001b[0m_raise_no_convergence\u001b[0m\u001b[1;33m(\u001b[0m\u001b[1;33m)\u001b[0m\u001b[1;33m\u001b[0m\u001b[1;33m\u001b[0m\u001b[0m\n\u001b[0m\u001b[0;32m    571\u001b[0m             \u001b[1;32melse\u001b[0m\u001b[1;33m:\u001b[0m\u001b[1;33m\u001b[0m\u001b[1;33m\u001b[0m\u001b[0m\n\u001b[0;32m    572\u001b[0m                 \u001b[1;32mraise\u001b[0m \u001b[0mArpackError\u001b[0m\u001b[1;33m(\u001b[0m\u001b[0mself\u001b[0m\u001b[1;33m.\u001b[0m\u001b[0minfo\u001b[0m\u001b[1;33m,\u001b[0m \u001b[0minfodict\u001b[0m\u001b[1;33m=\u001b[0m\u001b[0mself\u001b[0m\u001b[1;33m.\u001b[0m\u001b[0miterate_infodict\u001b[0m\u001b[1;33m)\u001b[0m\u001b[1;33m\u001b[0m\u001b[1;33m\u001b[0m\u001b[0m\n",
      "\u001b[1;32m~\\Anaconda3\\envs\\mvts_fss_ay\\lib\\site-packages\\scipy\\sparse\\linalg\\eigen\\arpack\\arpack.py\u001b[0m in \u001b[0;36m_raise_no_convergence\u001b[1;34m(self)\u001b[0m\n\u001b[0;32m    374\u001b[0m             \u001b[0mvec\u001b[0m \u001b[1;33m=\u001b[0m \u001b[0mnp\u001b[0m\u001b[1;33m.\u001b[0m\u001b[0mzeros\u001b[0m\u001b[1;33m(\u001b[0m\u001b[1;33m(\u001b[0m\u001b[0mself\u001b[0m\u001b[1;33m.\u001b[0m\u001b[0mn\u001b[0m\u001b[1;33m,\u001b[0m \u001b[1;36m0\u001b[0m\u001b[1;33m)\u001b[0m\u001b[1;33m)\u001b[0m\u001b[1;33m\u001b[0m\u001b[1;33m\u001b[0m\u001b[0m\n\u001b[0;32m    375\u001b[0m             \u001b[0mk_ok\u001b[0m \u001b[1;33m=\u001b[0m \u001b[1;36m0\u001b[0m\u001b[1;33m\u001b[0m\u001b[1;33m\u001b[0m\u001b[0m\n\u001b[1;32m--> 376\u001b[1;33m         \u001b[1;32mraise\u001b[0m \u001b[0mArpackNoConvergence\u001b[0m\u001b[1;33m(\u001b[0m\u001b[0mmsg\u001b[0m \u001b[1;33m%\u001b[0m \u001b[1;33m(\u001b[0m\u001b[0mnum_iter\u001b[0m\u001b[1;33m,\u001b[0m \u001b[0mk_ok\u001b[0m\u001b[1;33m,\u001b[0m \u001b[0mself\u001b[0m\u001b[1;33m.\u001b[0m\u001b[0mk\u001b[0m\u001b[1;33m)\u001b[0m\u001b[1;33m,\u001b[0m \u001b[0mev\u001b[0m\u001b[1;33m,\u001b[0m \u001b[0mvec\u001b[0m\u001b[1;33m)\u001b[0m\u001b[1;33m\u001b[0m\u001b[1;33m\u001b[0m\u001b[0m\n\u001b[0m\u001b[0;32m    377\u001b[0m \u001b[1;33m\u001b[0m\u001b[0m\n\u001b[0;32m    378\u001b[0m \u001b[1;33m\u001b[0m\u001b[0m\n",
      "\u001b[1;31mArpackNoConvergence\u001b[0m: ARPACK error -1: No convergence (2001 iterations, 1/2 eigenvectors converged)"
     ]
    }
   ],
   "source": [
    "spectral = Spectral(1)\n",
    "embedding = spectral.fit_transform(adj_1)\n",
    "embedding.shape"
   ]
  },
  {
   "cell_type": "code",
   "execution_count": 381,
   "metadata": {},
   "outputs": [
    {
     "data": {
      "text/plain": [
       "(200, 200)"
      ]
     },
     "execution_count": 381,
     "metadata": {},
     "output_type": "execute_result"
    }
   ],
   "source": [
    "adj_1.shape"
   ]
  },
  {
   "cell_type": "code",
   "execution_count": 378,
   "metadata": {},
   "outputs": [
    {
     "data": {
      "text/plain": [
       "array([[-0.00417119,  0.00226135, -0.00311753, ...,  0.        ,\n",
       "         0.        ,  0.        ],\n",
       "       [-0.004136  ,  0.00224227, -0.00309123, ...,  0.        ,\n",
       "         0.        ,  0.        ],\n",
       "       [-0.00418282,  0.00226765, -0.00312622, ...,  0.        ,\n",
       "         0.        ,  0.        ],\n",
       "       ...,\n",
       "       [-0.00369701,  0.00198773, -0.00272493, ...,  0.        ,\n",
       "         0.        ,  0.        ],\n",
       "       [-0.00369701,  0.00198773, -0.00272493, ...,  0.        ,\n",
       "         0.        ,  0.        ],\n",
       "       [-0.00374449,  0.00201327, -0.00275993, ...,  0.        ,\n",
       "         0.        ,  0.        ]])"
      ]
     },
     "execution_count": 378,
     "metadata": {},
     "output_type": "execute_result"
    }
   ],
   "source": [
    "embedding"
   ]
  },
  {
   "cell_type": "code",
   "execution_count": 373,
   "metadata": {},
   "outputs": [
    {
     "data": {
      "text/plain": [
       "matrix([[0., 0., 1., ..., 0., 0., 0.],\n",
       "        [1., 0., 1., ..., 0., 0., 0.],\n",
       "        [1., 0., 0., ..., 0., 0., 0.],\n",
       "        ...,\n",
       "        [0., 0., 0., ..., 0., 1., 0.],\n",
       "        [0., 0., 0., ..., 1., 0., 0.],\n",
       "        [0., 0., 0., ..., 0., 0., 0.]])"
      ]
     },
     "execution_count": 373,
     "metadata": {},
     "output_type": "execute_result"
    }
   ],
   "source": [
    "adj"
   ]
  },
  {
   "cell_type": "code",
   "execution_count": 374,
   "metadata": {},
   "outputs": [
    {
     "data": {
      "text/plain": [
       "<200x200 sparse matrix of type '<class 'numpy.float64'>'\n",
       "\twith 728 stored elements in Compressed Sparse Row format>"
      ]
     },
     "execution_count": 374,
     "metadata": {},
     "output_type": "execute_result"
    }
   ],
   "source": [
    "adj_1 = nx.adjacency_matrix(G_copy)\n",
    "adj_1"
   ]
  },
  {
   "cell_type": "code",
   "execution_count": 387,
   "metadata": {},
   "outputs": [],
   "source": [
    "from sklearn.manifold import spectral_embedding"
   ]
  },
  {
   "cell_type": "code",
   "execution_count": 390,
   "metadata": {},
   "outputs": [
    {
     "data": {
      "text/plain": [
       "(200, 1)"
      ]
     },
     "execution_count": 390,
     "metadata": {},
     "output_type": "execute_result"
    }
   ],
   "source": [
    "spectral_embedding(adj_1,1).shape"
   ]
  },
  {
   "cell_type": "code",
   "execution_count": 392,
   "metadata": {},
   "outputs": [],
   "source": [
    "# scipy.sparse.csr_matrix.setdiag\n",
    "adj_copy = adj_1.copy()"
   ]
  },
  {
   "cell_type": "code",
   "execution_count": 393,
   "metadata": {},
   "outputs": [],
   "source": [
    "adj_copy.setdiag(0)"
   ]
  },
  {
   "cell_type": "code",
   "execution_count": 407,
   "metadata": {},
   "outputs": [],
   "source": [
    "embed = spectral_embedding(adj_copy,1)"
   ]
  },
  {
   "cell_type": "code",
   "execution_count": 397,
   "metadata": {},
   "outputs": [],
   "source": [
    "from sklearn.metrics import normalized_mutual_info_score"
   ]
  },
  {
   "cell_type": "code",
   "execution_count": 401,
   "metadata": {},
   "outputs": [],
   "source": [
    "y_1 = np.ones((100,1)) # M\n",
    "y_2 = np.zeros((100,1)) #X"
   ]
  },
  {
   "cell_type": "code",
   "execution_count": 405,
   "metadata": {},
   "outputs": [
    {
     "data": {
      "text/plain": [
       "(200, 1)"
      ]
     },
     "execution_count": 405,
     "metadata": {},
     "output_type": "execute_result"
    }
   ],
   "source": [
    "y = np.vstack((y_1,y_2))\n",
    "y.shape"
   ]
  },
  {
   "cell_type": "code",
   "execution_count": 410,
   "metadata": {},
   "outputs": [
    {
     "data": {
      "text/plain": [
       "0.23376397748118283"
      ]
     },
     "execution_count": 410,
     "metadata": {},
     "output_type": "execute_result"
    }
   ],
   "source": [
    "normalized_mutual_info_score(embed.flatten(), y.flatten())"
   ]
  },
  {
   "cell_type": "code",
   "execution_count": 409,
   "metadata": {},
   "outputs": [
    {
     "name": "stderr",
     "output_type": "stream",
     "text": [
      "C:\\Users\\athar\\Anaconda3\\envs\\mvts_fss_ay\\lib\\site-packages\\ipykernel\\ipkernel.py:287: DeprecationWarning: `should_run_async` will not call `transform_cell` automatically in the future. Please pass the result to `transformed_cell` argument and any exception that happen during thetransform in `preprocessing_exc_tuple` in IPython 7.17 and above.\n",
      "  and should_run_async(code)\n"
     ]
    },
    {
     "data": {
      "text/plain": [
       "(200, 1)"
      ]
     },
     "execution_count": 409,
     "metadata": {},
     "output_type": "execute_result"
    }
   ],
   "source": [
    "embed.shape"
   ]
  },
  {
   "cell_type": "code",
   "execution_count": null,
   "metadata": {},
   "outputs": [],
   "source": []
  }
 ],
 "metadata": {
  "kernelspec": {
   "display_name": "Python 3",
   "language": "python",
   "name": "python3"
  },
  "language_info": {
   "codemirror_mode": {
    "name": "ipython",
    "version": 3
   },
   "file_extension": ".py",
   "mimetype": "text/x-python",
   "name": "python",
   "nbconvert_exporter": "python",
   "pygments_lexer": "ipython3",
   "version": "3.8.10"
  }
 },
 "nbformat": 4,
 "nbformat_minor": 1
}
