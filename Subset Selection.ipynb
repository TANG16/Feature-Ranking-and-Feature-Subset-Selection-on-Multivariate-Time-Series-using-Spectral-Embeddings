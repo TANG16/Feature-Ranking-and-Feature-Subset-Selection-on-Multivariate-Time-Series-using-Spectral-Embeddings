{
 "cells": [
  {
   "cell_type": "code",
   "execution_count": 371,
   "metadata": {},
   "outputs": [
    {
     "data": {
      "text/plain": [
       "'D:\\\\PyCharm\\\\mvts_fss_ay'"
      ]
     },
     "execution_count": 371,
     "metadata": {},
     "output_type": "execute_result"
    }
   ],
   "source": [
    "from data_cleaning.helper_functions import Sample, save_table\n",
    "from tslearn.datasets import CachedDatasets\n",
    "import os\n",
    "import numpy as np\n",
    "import pandas as pd\n",
    "from tqdm.notebook import tqdm\n",
    "from dtaidistance import dtw, clustering\n",
    "from scipy.cluster.hierarchy import dendrogram, linkage\n",
    "from matplotlib import pyplot as plt\n",
    "from sklearn.neighbors import kneighbors_graph\n",
    "import networkx as nx\n",
    "from sklearn.manifold import spectral_embedding\n",
    "from sklearn.metrics import normalized_mutual_info_score,adjusted_mutual_info_score,mutual_info_score\n",
    "import scipy\n",
    "from sklearn.preprocessing import LabelEncoder,StandardScaler\n",
    "from sklearn.cluster import KMeans\n",
    "from scipy.stats import entropy\n",
    "from mpl_toolkits.mplot3d import Axes3D\n",
    "from mpl_toolkits import mplot3d\n",
    "from sklearn import linear_model\n",
    "from sklearn import datasets\n",
    "from sklearn.linear_model import lasso_path, Lasso\n",
    "from sklearn.metrics import precision_score, recall_score, fbeta_score, multilabel_confusion_matrix\n",
    "%matplotlib inline\n",
    "os.chdir(\"D:\\PyCharm\\mvts_fss_ay\")\n",
    "os.getcwd()"
   ]
  },
  {
   "cell_type": "code",
   "execution_count": 436,
   "metadata": {},
   "outputs": [],
   "source": [
    "f1_score_models = {}\n",
    "auc_score_models = {}\n",
    "acc_score_models = {}\n",
    "def plot_roc_cm(model_name,cm,n_classes, fpr, tpr, roc_auc,class_report_df,average = \"micro\"):\n",
    "\n",
    "  fig,ax = plt.subplots(1,3,figsize=(25,6))\n",
    "  if average == \"micro\":\n",
    "    \n",
    "    ax[2].plot(fpr['avg / total'], tpr['avg / total'],\n",
    "        label='micro-average ROC curve (area = {0:0.2f})'\n",
    "              ''.format(roc_auc['avg / total']),\n",
    "        color='violet', linestyle='-', linewidth=4)\n",
    "\n",
    "  else:\n",
    "    \n",
    "    ax[2].plot(fpr[average], tpr[average],\n",
    "        label='macro-average ROC curve (area = {0:0.2f})'\n",
    "              ''.format(roc_auc['avg / total']),\n",
    "        color='violet', linestyle='-', linewidth=4)\n",
    "\n",
    "  # plt.plot(fpr[\"macro\"], tpr[\"macro\"],\n",
    "  #         label='macro-average ROC curve (area = {0:0.2f})'\n",
    "  #               ''.format(roc_auc[\"macro\"]),\n",
    "  #         color='orange', linestyle=':', linewidth=4)\n",
    "  lw = 2\n",
    "  colors = cycle(['red', 'green', 'blue','purple','orange'])\n",
    "  mapping= {\n",
    "      0: 'H',\n",
    "      1:'S1',\n",
    "      2: 'S2',\n",
    "      3: 'S3',\n",
    "      4: 'S4'\n",
    "  }\n",
    "  for i, color in zip(range(n_classes), colors):\n",
    "      ax[2].plot(fpr[i], tpr[i], color=color, lw=lw,\n",
    "              label='ROC curve of class {0} (area = {1:0.2f})'\n",
    "              ''.format(mapping[i], roc_auc[i]))\n",
    "  labels = ['B','C','F','M','X','avg/total']\n",
    "  sns.heatmap(cm,ax=ax[0],annot=True)\n",
    "  ax[0].set_title(f\"Confusion Matrix for {model_name}\")\n",
    "  ax[0].set_xticklabels(labels[:-1], rotation=45, ha='left',weight='bold',fontsize = 14)\n",
    "  ax[0].set_yticklabels(labels[:-1], rotation=45, ha='right',weight='bold',fontsize = 14)\n",
    "  sns.heatmap(class_report_df.iloc[:,:].drop(['support','pred'],axis=1),annot=True,ax=ax[1])\n",
    "  ax[1].set_title(f'Classificaton report for {model_name}')\n",
    "\n",
    "  ax[1].set_xticklabels(ax[1].get_xticklabels(), rotation=45, ha='left',weight='bold',fontsize = 12)\n",
    "  ax[1].set_yticklabels(labels, rotation=45, ha='right',weight='bold',fontsize = 14)\n",
    "  # ax[1].set_xticklabels(rotation=45)\n",
    "  # ax[1].set_yticklabels(rotation=45, weight = 'bold')\n",
    "  ax[2].plot([0, 1], [0, 1], 'k--', lw=lw)\n",
    "  ax[2].axis(xmin=0.0,xmax=1,ymin=0,ymax=1.05)\n",
    "  \n",
    "  ax[2].set_xlabel('False Positive Rate',weight='bold',fontsize = 14)\n",
    "  ax[2].set_ylabel('True Positive Rate',weight='bold',fontsize = 14)\n",
    "  ax[2].set_title(f'ROC Curve for {model_name}')\n",
    "  ax[2].legend(loc=\"lower right\")\n",
    "  ax[2].set_xticklabels(ax[2].get_xticklabels(),weight='bold',fontsize = 10)\n",
    "  ax[2].set_yticklabels(ax[2].get_yticklabels(),weight='bold',fontsize = 10)\n",
    "\n",
    "\n",
    "def class_report(model_name,y_true, y_pred, y_score=None, average='micro'):\n",
    "    if y_true.shape != y_pred.shape:\n",
    "        print(\"Error! y_true %s is not the same shape as y_pred %s\" % (\n",
    "              y_true.shape,\n",
    "              y_pred.shape)\n",
    "        )\n",
    "        return\n",
    "    cm = confusion_matrix(y_true, y_pred)\n",
    "    \n",
    "    lb = LabelBinarizer()\n",
    "\n",
    "    if len(y_true.shape) == 1:\n",
    "        lb.fit(y_true)\n",
    "\n",
    "    #Value counts of predictions\n",
    "    labels, cnt = np.unique(\n",
    "        y_pred,\n",
    "        return_counts=True)\n",
    "    n_classes = len(labels)\n",
    "    pred_cnt = pd.Series(cnt, index=labels)\n",
    "\n",
    "    metrics_summary = precision_recall_fscore_support(\n",
    "            y_true=y_true,\n",
    "            y_pred=y_pred,\n",
    "            labels=labels)\n",
    "\n",
    "    avg = list(precision_recall_fscore_support(\n",
    "            y_true=y_true, \n",
    "            y_pred=y_pred,\n",
    "            average='weighted'))\n",
    "\n",
    "    metrics_sum_index = ['precision', 'recall', 'f1-score','support']\n",
    "    class_report_df = pd.DataFrame(\n",
    "        list(metrics_summary),\n",
    "        index=metrics_sum_index,\n",
    "        columns=labels)\n",
    "\n",
    "    support = class_report_df.loc['support']\n",
    "    total = support.sum() \n",
    "    class_report_df['avg / total'] = avg[:-1] + [total]\n",
    "\n",
    "    class_report_df = class_report_df.T\n",
    "    class_report_df['pred'] = pred_cnt\n",
    "    class_report_df['pred'].iloc[-1] = total\n",
    "    fpr = dict()\n",
    "    tpr = dict()\n",
    "    roc_auc = dict()\n",
    "    if not (y_score is None):\n",
    "        fpr = dict()\n",
    "        tpr = dict()\n",
    "        roc_auc = dict()\n",
    "        for label_it, label in enumerate(labels):\n",
    "            fpr[label], tpr[label], _ = roc_curve(\n",
    "                (y_true == label).astype(int), \n",
    "                y_score[:, label_it])\n",
    "\n",
    "            roc_auc[label] = auc(fpr[label], tpr[label])\n",
    "\n",
    "        if average == 'micro':\n",
    "            if n_classes <= 2:\n",
    "                fpr[\"avg / total\"], tpr[\"avg / total\"], _ = roc_curve(\n",
    "                    lb.transform(y_true).ravel(), \n",
    "                    y_score[:, 1].ravel())\n",
    "            else:\n",
    "                fpr[\"avg / total\"], tpr[\"avg / total\"], _ = roc_curve(\n",
    "                        lb.transform(y_true).ravel(), \n",
    "                        y_score.ravel())\n",
    "\n",
    "            roc_auc[\"avg / total\"] = auc(\n",
    "                fpr[\"avg / total\"], \n",
    "                tpr[\"avg / total\"])\n",
    "\n",
    "        elif average == 'macro':\n",
    "            # First aggregate all false positive rates\n",
    "            all_fpr = np.unique(np.concatenate([\n",
    "                fpr[i] for i in labels]\n",
    "            ))\n",
    "\n",
    "            # Then interpolate all ROC curves at this points\n",
    "            mean_tpr = np.zeros_like(all_fpr)\n",
    "            for i in labels:\n",
    "                mean_tpr += interp(all_fpr, fpr[i], tpr[i])\n",
    "\n",
    "            # Finally average it and compute AUC\n",
    "            mean_tpr /= n_classes\n",
    "\n",
    "            fpr[\"macro\"] = all_fpr\n",
    "            tpr[\"macro\"] = mean_tpr\n",
    "            \n",
    "            roc_auc[\"avg / total\"] = auc(fpr[\"macro\"], tpr[\"macro\"])\n",
    "\n",
    "        ac_score = (cm.diagonal()/cm.sum(axis=1)).tolist()\n",
    "        \n",
    "        class_report_df['Accuracy'] = pd.Series(ac_score)\n",
    "        class_report_df.loc['avg / total','Accuracy'] = accuracy_score(y_true,y_pred)\n",
    "        np.append(ac_score,accuracy_score(y_true,y_pred))\n",
    "        class_report_df['Accuracy']  = pd.Series(ac_score)\n",
    "        class_report_df['AUC'] = pd.Series(roc_auc)\n",
    "        \n",
    "    \n",
    "        for score in ac_score:\n",
    "          print(score)\n",
    "\n",
    "#     print(accuracy_score(y_true,y_pred))\n",
    "#     plot_roc_cm(model_name,cm,n_classes,fpr,tpr,roc_auc,class_report_df,average)\n",
    "    class_report_df.index = ['B','C','F','M','X','avg/total']\n",
    "    return class_report_df\n",
    "\n",
    "def kfold(model,n_splits,X,y):\n",
    "  kf = StratifiedKFold(n_splits=n_splits,shuffle=True,random_state=0)\n",
    "  cv_score_auc =[]\n",
    "  cv_score_f1 = []\n",
    "  i=1\n",
    "  for train_index,test_index in kf.split(X,y):\n",
    "      \n",
    "      xtr,xvl = X[train_index],X[test_index]\n",
    "      ytr,yvl = y[train_index],y[test_index]\n",
    "      \n",
    "      #model\n",
    "      model.fit(xtr,ytr)\n",
    "      score_auc = roc_auc_score(yvl,model.predict_proba(xvl),multi_class='ovr',average='macro')\n",
    "      score_f1 = f1_score(yvl,model.predict(xvl),average='macro')\n",
    "      # print('ROC AUC score:',score_auc)\n",
    "      # print('F1 score: ', score_f1)\n",
    "      cv_score_auc.append(score_auc)\n",
    "      cv_score_f1.append(score_f1)\n",
    "      # pred_test = lr.predict_proba(X_test)[:,1]\n",
    "      # pred_test_full +=pred_test\n",
    "      i+=1\n",
    "\n",
    "  return cv_score_f1, cv_score_auc\n",
    "\n",
    "def grid_search(estimator, params, X_train,y_train,cv=10):\n",
    "  grid = GridSearchCV(estimator=estimator, param_grid=params, cv=cv, refit = True)\n",
    "  grid.fit(X_train, y_train)\n",
    "  print(f'Best params : {grid.best_params_}')\n",
    "  print(f'Best score: {grid.best_score_}')"
   ]
  },
  {
   "cell_type": "code",
   "execution_count": 31,
   "metadata": {},
   "outputs": [],
   "source": [
    "class PIE_RANK:\n",
    "    def __init__(self, flare_path, non_flare_path):\n",
    "        self.flare_path = flare_path\n",
    "        self.non_flare_path = non_flare_path\n",
    "        self.mapping = {\n",
    "            \"B\": 0,\n",
    "            \"C\": 1,\n",
    "            \"F\": 2,\n",
    "            \"M\": 3,\n",
    "            \"X\": 4\n",
    "        }\n",
    "    \n",
    "    def __get_column_mapping(self):\n",
    "        s1 = list(Sample(\"FL\",files_flare[0]).get_data().columns)[:25]\n",
    "        column_mapping = {}\n",
    "        for i in range(len(s1)):\n",
    "            column_mapping[i] = s1[i]\n",
    "            \n",
    "        return column_mapping\n",
    "    \n",
    "    def generate_flare_set(self):  \n",
    "        \n",
    "#         x_count = 10\n",
    "#         m_count = 10\n",
    "        files = []\n",
    "        for file in os.listdir(self.flare_path):\n",
    "            files.append(file)\n",
    "#             if file[0] == 'M' and m_count >0:\n",
    "#                 files.append(file)\n",
    "#                 m_count-=1\n",
    "#             elif file[0] == \"X\" and x_count >0:\n",
    "#                 files.append(file)\n",
    "#                 x_count-=1\n",
    "\n",
    "        return files\n",
    "    \n",
    "    def generate_non_flare_set(self):\n",
    "        b_count = 400\n",
    "        c_count = 400\n",
    "        f_count = 400\n",
    "        files = []\n",
    "        for file in os.listdir(self.non_flare_path):\n",
    "\n",
    "\n",
    "            if file[0] == 'B' and b_count > 0:\n",
    "                files.append(file)\n",
    "                b_count-=1\n",
    "            elif file[0] == \"C\" and c_count > 0:\n",
    "                files.append(file)\n",
    "                c_count-=1\n",
    "\n",
    "            elif file[0] == \"F\" and f_count > 0:\n",
    "                files.append(file)\n",
    "                f_count-=1\n",
    "\n",
    "\n",
    "        return files\n",
    "    \n",
    "    def get_embed_matrix(self,timeseries):\n",
    "        ds = dtw.distance_matrix_fast(timeseries)\n",
    "        ds = np.nan_to_num(ds)\n",
    "        A = kneighbors_graph(ds, 5, mode='connectivity', include_self=True)\n",
    "        A = 0.5* (A + A.T)\n",
    "        adj = A.todense()\n",
    "        np.fill_diagonal(adj,0)\n",
    "        A = scipy.sparse.csr_matrix(adj)\n",
    "        G = nx.Graph(A)\n",
    "        adj = nx.adjacency_matrix(G)\n",
    "        embed = spectral_embedding(adj,1)\n",
    "        return embed.flatten()\n",
    "    \n",
    "    def relevance_score(self,embed,y):\n",
    "        mututal_information = mutual_info_score(y,embed)\n",
    "        entropy_embed = entropy(embed)\n",
    "        entropy_y = entropy(y)\n",
    "        relevance_score = mututal_information / (np.sqrt(entropy_embed*entropy_y))\n",
    "        return relevance_score\n",
    "    \n",
    "    def get_score(self):\n",
    "        files_flare = self.generate_flare_set()\n",
    "        files_non_flare = self.generate_non_flare_set()\n",
    "        timeseries = []\n",
    "        y = []\n",
    "        scores = {}\n",
    "        column_mapping = self.__get_column_mapping()\n",
    "        for col in tqdm(range(1,25)):\n",
    "            for file in tqdm(files_flare):\n",
    "                s = Sample(\"FL\",file).get_data().iloc[:,col].values\n",
    "                y.append(self.mapping[file[0]])\n",
    "                timeseries.append(s)\n",
    "\n",
    "            for file in tqdm(files_non_flare):\n",
    "                s = Sample(\"NF\",file).get_data().iloc[:,col].values\n",
    "                y.append(self.mapping[file[0]])\n",
    "                timeseries.append(s)\n",
    "            embed = self.get_embed_matrix(timeseries)\n",
    "\n",
    "            kmeans = KMeans(n_clusters=5, random_state=0).fit(embed.reshape(-1,1))\n",
    "            embed_y = kmeans.labels_.flatten()\n",
    "            y = np.array(y).flatten()\n",
    "            scores[column_mapping[col]]= self.relevance_score(embed_y,y)\n",
    "            timeseries = []\n",
    "            y = []\n",
    "        scores_data = pd.DataFrame.from_dict(scores,orient='index',columns=['Relevance Score']).sort_values(by='Relevance Score', ascending=False)\n",
    "        return scores_data\n",
    "    "
   ]
  },
  {
   "cell_type": "code",
   "execution_count": 32,
   "metadata": {},
   "outputs": [],
   "source": [
    "path_FL = os.path.join(os.getcwd(),\"data\\\\partition1\\\\FL\")\n",
    "path_NF = os.path.join(os.getcwd(),\"data\\\\partition1\\\\NF\")\n",
    "pie_rank = PIE_RANK(path_FL,path_NF)"
   ]
  },
  {
   "cell_type": "code",
   "execution_count": 33,
   "metadata": {},
   "outputs": [],
   "source": [
    "files_flare = pie_rank.generate_flare_set()\n",
    "files_non_flare = pie_rank.generate_non_flare_set()"
   ]
  },
  {
   "cell_type": "code",
   "execution_count": 34,
   "metadata": {},
   "outputs": [
    {
     "data": {
      "text/plain": [
       "(1254, 1200)"
      ]
     },
     "execution_count": 34,
     "metadata": {},
     "output_type": "execute_result"
    }
   ],
   "source": [
    "len(files_flare), len(files_non_flare)"
   ]
  },
  {
   "cell_type": "code",
   "execution_count": 35,
   "metadata": {},
   "outputs": [
    {
     "data": {
      "application/vnd.jupyter.widget-view+json": {
       "model_id": "c1d15417ad074f669b2da834600256db",
       "version_major": 2,
       "version_minor": 0
      },
      "text/plain": [
       "  0%|          | 0/24 [00:00<?, ?it/s]"
      ]
     },
     "metadata": {},
     "output_type": "display_data"
    },
    {
     "data": {
      "application/vnd.jupyter.widget-view+json": {
       "model_id": "08fd875554f24fae922eae82ce80175c",
       "version_major": 2,
       "version_minor": 0
      },
      "text/plain": [
       "  0%|          | 0/1254 [00:00<?, ?it/s]"
      ]
     },
     "metadata": {},
     "output_type": "display_data"
    },
    {
     "data": {
      "application/vnd.jupyter.widget-view+json": {
       "model_id": "97e4af49b37f45c99b54d50ff2ff4059",
       "version_major": 2,
       "version_minor": 0
      },
      "text/plain": [
       "  0%|          | 0/1200 [00:00<?, ?it/s]"
      ]
     },
     "metadata": {},
     "output_type": "display_data"
    },
    {
     "data": {
      "application/vnd.jupyter.widget-view+json": {
       "model_id": "58bb254438ee430a87404308dba6e014",
       "version_major": 2,
       "version_minor": 0
      },
      "text/plain": [
       "  0%|          | 0/1254 [00:00<?, ?it/s]"
      ]
     },
     "metadata": {},
     "output_type": "display_data"
    },
    {
     "data": {
      "application/vnd.jupyter.widget-view+json": {
       "model_id": "095c221c89f549a791e997a512cb9a29",
       "version_major": 2,
       "version_minor": 0
      },
      "text/plain": [
       "  0%|          | 0/1200 [00:00<?, ?it/s]"
      ]
     },
     "metadata": {},
     "output_type": "display_data"
    },
    {
     "data": {
      "application/vnd.jupyter.widget-view+json": {
       "model_id": "7e0555b851ec42279eca87c59133edd6",
       "version_major": 2,
       "version_minor": 0
      },
      "text/plain": [
       "  0%|          | 0/1254 [00:00<?, ?it/s]"
      ]
     },
     "metadata": {},
     "output_type": "display_data"
    },
    {
     "data": {
      "application/vnd.jupyter.widget-view+json": {
       "model_id": "eacd91ab5ca4489d9b13a3c3cd0db6ac",
       "version_major": 2,
       "version_minor": 0
      },
      "text/plain": [
       "  0%|          | 0/1200 [00:00<?, ?it/s]"
      ]
     },
     "metadata": {},
     "output_type": "display_data"
    },
    {
     "data": {
      "application/vnd.jupyter.widget-view+json": {
       "model_id": "a9f82e33452e427a8921676cabc0bfbf",
       "version_major": 2,
       "version_minor": 0
      },
      "text/plain": [
       "  0%|          | 0/1254 [00:00<?, ?it/s]"
      ]
     },
     "metadata": {},
     "output_type": "display_data"
    },
    {
     "data": {
      "application/vnd.jupyter.widget-view+json": {
       "model_id": "6a2427e35281408abb4623b5c4287446",
       "version_major": 2,
       "version_minor": 0
      },
      "text/plain": [
       "  0%|          | 0/1200 [00:00<?, ?it/s]"
      ]
     },
     "metadata": {},
     "output_type": "display_data"
    },
    {
     "data": {
      "application/vnd.jupyter.widget-view+json": {
       "model_id": "3da062f626be493299b55c011c3b9938",
       "version_major": 2,
       "version_minor": 0
      },
      "text/plain": [
       "  0%|          | 0/1254 [00:00<?, ?it/s]"
      ]
     },
     "metadata": {},
     "output_type": "display_data"
    },
    {
     "data": {
      "application/vnd.jupyter.widget-view+json": {
       "model_id": "40da8cf90ec24f119fea123ae709ae86",
       "version_major": 2,
       "version_minor": 0
      },
      "text/plain": [
       "  0%|          | 0/1200 [00:00<?, ?it/s]"
      ]
     },
     "metadata": {},
     "output_type": "display_data"
    },
    {
     "data": {
      "application/vnd.jupyter.widget-view+json": {
       "model_id": "e429a9c7fdd24411af9484abe78ce19e",
       "version_major": 2,
       "version_minor": 0
      },
      "text/plain": [
       "  0%|          | 0/1254 [00:00<?, ?it/s]"
      ]
     },
     "metadata": {},
     "output_type": "display_data"
    },
    {
     "data": {
      "application/vnd.jupyter.widget-view+json": {
       "model_id": "e34f01620aa8488b8d95559b4a8f2efc",
       "version_major": 2,
       "version_minor": 0
      },
      "text/plain": [
       "  0%|          | 0/1200 [00:00<?, ?it/s]"
      ]
     },
     "metadata": {},
     "output_type": "display_data"
    },
    {
     "data": {
      "application/vnd.jupyter.widget-view+json": {
       "model_id": "6cba31cf113a4264ad9bacc967b08591",
       "version_major": 2,
       "version_minor": 0
      },
      "text/plain": [
       "  0%|          | 0/1254 [00:00<?, ?it/s]"
      ]
     },
     "metadata": {},
     "output_type": "display_data"
    },
    {
     "data": {
      "application/vnd.jupyter.widget-view+json": {
       "model_id": "370098c75d064854885cff8a9cc61560",
       "version_major": 2,
       "version_minor": 0
      },
      "text/plain": [
       "  0%|          | 0/1200 [00:00<?, ?it/s]"
      ]
     },
     "metadata": {},
     "output_type": "display_data"
    },
    {
     "data": {
      "application/vnd.jupyter.widget-view+json": {
       "model_id": "218e3bb54f2246ef9ad25fb04410af02",
       "version_major": 2,
       "version_minor": 0
      },
      "text/plain": [
       "  0%|          | 0/1254 [00:00<?, ?it/s]"
      ]
     },
     "metadata": {},
     "output_type": "display_data"
    },
    {
     "data": {
      "application/vnd.jupyter.widget-view+json": {
       "model_id": "9cd4db70ead24293b645ebeb7ba56e82",
       "version_major": 2,
       "version_minor": 0
      },
      "text/plain": [
       "  0%|          | 0/1200 [00:00<?, ?it/s]"
      ]
     },
     "metadata": {},
     "output_type": "display_data"
    },
    {
     "data": {
      "application/vnd.jupyter.widget-view+json": {
       "model_id": "f46fcd04a29e49f69162a3d8eb04f425",
       "version_major": 2,
       "version_minor": 0
      },
      "text/plain": [
       "  0%|          | 0/1254 [00:00<?, ?it/s]"
      ]
     },
     "metadata": {},
     "output_type": "display_data"
    },
    {
     "data": {
      "application/vnd.jupyter.widget-view+json": {
       "model_id": "9a22d0e5d46b41809bb961612af046bf",
       "version_major": 2,
       "version_minor": 0
      },
      "text/plain": [
       "  0%|          | 0/1200 [00:00<?, ?it/s]"
      ]
     },
     "metadata": {},
     "output_type": "display_data"
    },
    {
     "data": {
      "application/vnd.jupyter.widget-view+json": {
       "model_id": "6c4db228ed09496385787c9747845bff",
       "version_major": 2,
       "version_minor": 0
      },
      "text/plain": [
       "  0%|          | 0/1254 [00:00<?, ?it/s]"
      ]
     },
     "metadata": {},
     "output_type": "display_data"
    },
    {
     "data": {
      "application/vnd.jupyter.widget-view+json": {
       "model_id": "8e5cfa7790804d049bccf90e3aa3a1a5",
       "version_major": 2,
       "version_minor": 0
      },
      "text/plain": [
       "  0%|          | 0/1200 [00:00<?, ?it/s]"
      ]
     },
     "metadata": {},
     "output_type": "display_data"
    },
    {
     "data": {
      "application/vnd.jupyter.widget-view+json": {
       "model_id": "500659165ade434f959d0be287ea5022",
       "version_major": 2,
       "version_minor": 0
      },
      "text/plain": [
       "  0%|          | 0/1254 [00:00<?, ?it/s]"
      ]
     },
     "metadata": {},
     "output_type": "display_data"
    },
    {
     "data": {
      "application/vnd.jupyter.widget-view+json": {
       "model_id": "7e686728fb1643fcad802584bed268cb",
       "version_major": 2,
       "version_minor": 0
      },
      "text/plain": [
       "  0%|          | 0/1200 [00:00<?, ?it/s]"
      ]
     },
     "metadata": {},
     "output_type": "display_data"
    },
    {
     "data": {
      "application/vnd.jupyter.widget-view+json": {
       "model_id": "0645bb7cf58f4eae9806d6173041ddaf",
       "version_major": 2,
       "version_minor": 0
      },
      "text/plain": [
       "  0%|          | 0/1254 [00:00<?, ?it/s]"
      ]
     },
     "metadata": {},
     "output_type": "display_data"
    },
    {
     "data": {
      "application/vnd.jupyter.widget-view+json": {
       "model_id": "5929b63c1ae749378775089b482f24d2",
       "version_major": 2,
       "version_minor": 0
      },
      "text/plain": [
       "  0%|          | 0/1200 [00:00<?, ?it/s]"
      ]
     },
     "metadata": {},
     "output_type": "display_data"
    },
    {
     "data": {
      "application/vnd.jupyter.widget-view+json": {
       "model_id": "442130d8cc25499483bb4bb492519dcc",
       "version_major": 2,
       "version_minor": 0
      },
      "text/plain": [
       "  0%|          | 0/1254 [00:00<?, ?it/s]"
      ]
     },
     "metadata": {},
     "output_type": "display_data"
    },
    {
     "data": {
      "application/vnd.jupyter.widget-view+json": {
       "model_id": "09bc17918cbe4157bd76f536defe36f4",
       "version_major": 2,
       "version_minor": 0
      },
      "text/plain": [
       "  0%|          | 0/1200 [00:00<?, ?it/s]"
      ]
     },
     "metadata": {},
     "output_type": "display_data"
    },
    {
     "data": {
      "application/vnd.jupyter.widget-view+json": {
       "model_id": "6d9bc22e61f045788fe2b3bae1a770f3",
       "version_major": 2,
       "version_minor": 0
      },
      "text/plain": [
       "  0%|          | 0/1254 [00:00<?, ?it/s]"
      ]
     },
     "metadata": {},
     "output_type": "display_data"
    },
    {
     "data": {
      "application/vnd.jupyter.widget-view+json": {
       "model_id": "ebbba75b967d44beb37a5049269c4d44",
       "version_major": 2,
       "version_minor": 0
      },
      "text/plain": [
       "  0%|          | 0/1200 [00:00<?, ?it/s]"
      ]
     },
     "metadata": {},
     "output_type": "display_data"
    },
    {
     "data": {
      "application/vnd.jupyter.widget-view+json": {
       "model_id": "93667c036f5f4e92af3424e8f568c1d2",
       "version_major": 2,
       "version_minor": 0
      },
      "text/plain": [
       "  0%|          | 0/1254 [00:00<?, ?it/s]"
      ]
     },
     "metadata": {},
     "output_type": "display_data"
    },
    {
     "data": {
      "application/vnd.jupyter.widget-view+json": {
       "model_id": "7b5b15876b4949109665da5722cc0779",
       "version_major": 2,
       "version_minor": 0
      },
      "text/plain": [
       "  0%|          | 0/1200 [00:00<?, ?it/s]"
      ]
     },
     "metadata": {},
     "output_type": "display_data"
    },
    {
     "data": {
      "application/vnd.jupyter.widget-view+json": {
       "model_id": "771e95169147492bbc5b9756e04be40b",
       "version_major": 2,
       "version_minor": 0
      },
      "text/plain": [
       "  0%|          | 0/1254 [00:00<?, ?it/s]"
      ]
     },
     "metadata": {},
     "output_type": "display_data"
    },
    {
     "data": {
      "application/vnd.jupyter.widget-view+json": {
       "model_id": "cff16788b84b4edbb214df100cb2fe00",
       "version_major": 2,
       "version_minor": 0
      },
      "text/plain": [
       "  0%|          | 0/1200 [00:00<?, ?it/s]"
      ]
     },
     "metadata": {},
     "output_type": "display_data"
    },
    {
     "data": {
      "application/vnd.jupyter.widget-view+json": {
       "model_id": "b2ed5130dd3b4c56ab9af32e0b9bbf85",
       "version_major": 2,
       "version_minor": 0
      },
      "text/plain": [
       "  0%|          | 0/1254 [00:00<?, ?it/s]"
      ]
     },
     "metadata": {},
     "output_type": "display_data"
    },
    {
     "data": {
      "application/vnd.jupyter.widget-view+json": {
       "model_id": "e6fd1788375e49e681c2813d1db0826d",
       "version_major": 2,
       "version_minor": 0
      },
      "text/plain": [
       "  0%|          | 0/1200 [00:00<?, ?it/s]"
      ]
     },
     "metadata": {},
     "output_type": "display_data"
    },
    {
     "data": {
      "application/vnd.jupyter.widget-view+json": {
       "model_id": "c564e99bebbe4c5191ed3d3dadb1861d",
       "version_major": 2,
       "version_minor": 0
      },
      "text/plain": [
       "  0%|          | 0/1254 [00:00<?, ?it/s]"
      ]
     },
     "metadata": {},
     "output_type": "display_data"
    },
    {
     "data": {
      "application/vnd.jupyter.widget-view+json": {
       "model_id": "4db17d43da294b6e9a4fe1534f0e2d4b",
       "version_major": 2,
       "version_minor": 0
      },
      "text/plain": [
       "  0%|          | 0/1200 [00:00<?, ?it/s]"
      ]
     },
     "metadata": {},
     "output_type": "display_data"
    },
    {
     "data": {
      "application/vnd.jupyter.widget-view+json": {
       "model_id": "9a70dbf4a90d4d6cb9fd3b9ff0ce9dd7",
       "version_major": 2,
       "version_minor": 0
      },
      "text/plain": [
       "  0%|          | 0/1254 [00:00<?, ?it/s]"
      ]
     },
     "metadata": {},
     "output_type": "display_data"
    },
    {
     "data": {
      "application/vnd.jupyter.widget-view+json": {
       "model_id": "23bf7d064ad9487eb61f9c7be20c9156",
       "version_major": 2,
       "version_minor": 0
      },
      "text/plain": [
       "  0%|          | 0/1200 [00:00<?, ?it/s]"
      ]
     },
     "metadata": {},
     "output_type": "display_data"
    },
    {
     "data": {
      "application/vnd.jupyter.widget-view+json": {
       "model_id": "54591e75916e44aabaddbfbe9f8c199e",
       "version_major": 2,
       "version_minor": 0
      },
      "text/plain": [
       "  0%|          | 0/1254 [00:00<?, ?it/s]"
      ]
     },
     "metadata": {},
     "output_type": "display_data"
    },
    {
     "data": {
      "application/vnd.jupyter.widget-view+json": {
       "model_id": "c0da0be2c9544ef9ab1bb632e2bb5c54",
       "version_major": 2,
       "version_minor": 0
      },
      "text/plain": [
       "  0%|          | 0/1200 [00:00<?, ?it/s]"
      ]
     },
     "metadata": {},
     "output_type": "display_data"
    },
    {
     "data": {
      "application/vnd.jupyter.widget-view+json": {
       "model_id": "d34f7b1adc4b44fbbcb1b0b1f6683184",
       "version_major": 2,
       "version_minor": 0
      },
      "text/plain": [
       "  0%|          | 0/1254 [00:00<?, ?it/s]"
      ]
     },
     "metadata": {},
     "output_type": "display_data"
    },
    {
     "data": {
      "application/vnd.jupyter.widget-view+json": {
       "model_id": "aa6b521c015a46f7af1030214bd31912",
       "version_major": 2,
       "version_minor": 0
      },
      "text/plain": [
       "  0%|          | 0/1200 [00:00<?, ?it/s]"
      ]
     },
     "metadata": {},
     "output_type": "display_data"
    },
    {
     "data": {
      "application/vnd.jupyter.widget-view+json": {
       "model_id": "044a26011f4e4e80b058271bbf8f3ac7",
       "version_major": 2,
       "version_minor": 0
      },
      "text/plain": [
       "  0%|          | 0/1254 [00:00<?, ?it/s]"
      ]
     },
     "metadata": {},
     "output_type": "display_data"
    },
    {
     "data": {
      "application/vnd.jupyter.widget-view+json": {
       "model_id": "ecdc26aec0d7440ca471b78885b4f2d9",
       "version_major": 2,
       "version_minor": 0
      },
      "text/plain": [
       "  0%|          | 0/1200 [00:00<?, ?it/s]"
      ]
     },
     "metadata": {},
     "output_type": "display_data"
    },
    {
     "data": {
      "application/vnd.jupyter.widget-view+json": {
       "model_id": "03eb347f05d946f69ca6e6277cbe02b7",
       "version_major": 2,
       "version_minor": 0
      },
      "text/plain": [
       "  0%|          | 0/1254 [00:00<?, ?it/s]"
      ]
     },
     "metadata": {},
     "output_type": "display_data"
    },
    {
     "data": {
      "application/vnd.jupyter.widget-view+json": {
       "model_id": "5731a666d6b442c2a9b34995907bffb5",
       "version_major": 2,
       "version_minor": 0
      },
      "text/plain": [
       "  0%|          | 0/1200 [00:00<?, ?it/s]"
      ]
     },
     "metadata": {},
     "output_type": "display_data"
    },
    {
     "data": {
      "application/vnd.jupyter.widget-view+json": {
       "model_id": "ad9a07f067e54082a89b75b62a395487",
       "version_major": 2,
       "version_minor": 0
      },
      "text/plain": [
       "  0%|          | 0/1254 [00:00<?, ?it/s]"
      ]
     },
     "metadata": {},
     "output_type": "display_data"
    },
    {
     "data": {
      "application/vnd.jupyter.widget-view+json": {
       "model_id": "77ad04774aba4038919227b79c0379c5",
       "version_major": 2,
       "version_minor": 0
      },
      "text/plain": [
       "  0%|          | 0/1200 [00:00<?, ?it/s]"
      ]
     },
     "metadata": {},
     "output_type": "display_data"
    },
    {
     "data": {
      "text/html": [
       "<div>\n",
       "<style scoped>\n",
       "    .dataframe tbody tr th:only-of-type {\n",
       "        vertical-align: middle;\n",
       "    }\n",
       "\n",
       "    .dataframe tbody tr th {\n",
       "        vertical-align: top;\n",
       "    }\n",
       "\n",
       "    .dataframe thead th {\n",
       "        text-align: right;\n",
       "    }\n",
       "</style>\n",
       "<table border=\"1\" class=\"dataframe\">\n",
       "  <thead>\n",
       "    <tr style=\"text-align: right;\">\n",
       "      <th></th>\n",
       "      <th>Relevance Score</th>\n",
       "    </tr>\n",
       "  </thead>\n",
       "  <tbody>\n",
       "    <tr>\n",
       "      <th>TOTUSJH</th>\n",
       "      <td>0.066884</td>\n",
       "    </tr>\n",
       "    <tr>\n",
       "      <th>TOTPOT</th>\n",
       "      <td>0.057785</td>\n",
       "    </tr>\n",
       "    <tr>\n",
       "      <th>USFLUX</th>\n",
       "      <td>0.053885</td>\n",
       "    </tr>\n",
       "    <tr>\n",
       "      <th>TOTBSQ</th>\n",
       "      <td>0.043961</td>\n",
       "    </tr>\n",
       "    <tr>\n",
       "      <th>TOTFZ</th>\n",
       "      <td>0.036307</td>\n",
       "    </tr>\n",
       "    <tr>\n",
       "      <th>MEANJZD</th>\n",
       "      <td>0.022402</td>\n",
       "    </tr>\n",
       "    <tr>\n",
       "      <th>EPSX</th>\n",
       "      <td>0.019090</td>\n",
       "    </tr>\n",
       "    <tr>\n",
       "      <th>R_VALUE</th>\n",
       "      <td>0.018572</td>\n",
       "    </tr>\n",
       "    <tr>\n",
       "      <th>TOTUSJZ</th>\n",
       "      <td>0.017281</td>\n",
       "    </tr>\n",
       "    <tr>\n",
       "      <th>EPSZ</th>\n",
       "      <td>0.016764</td>\n",
       "    </tr>\n",
       "    <tr>\n",
       "      <th>MEANGAM</th>\n",
       "      <td>0.015258</td>\n",
       "    </tr>\n",
       "    <tr>\n",
       "      <th>TOTFX</th>\n",
       "      <td>0.014802</td>\n",
       "    </tr>\n",
       "    <tr>\n",
       "      <th>MEANGBZ</th>\n",
       "      <td>0.014656</td>\n",
       "    </tr>\n",
       "    <tr>\n",
       "      <th>TOTFY</th>\n",
       "      <td>0.013867</td>\n",
       "    </tr>\n",
       "    <tr>\n",
       "      <th>MEANPOT</th>\n",
       "      <td>0.013066</td>\n",
       "    </tr>\n",
       "    <tr>\n",
       "      <th>MEANGBT</th>\n",
       "      <td>0.012458</td>\n",
       "    </tr>\n",
       "    <tr>\n",
       "      <th>EPSY</th>\n",
       "      <td>0.011802</td>\n",
       "    </tr>\n",
       "    <tr>\n",
       "      <th>SHRGT45</th>\n",
       "      <td>0.008384</td>\n",
       "    </tr>\n",
       "    <tr>\n",
       "      <th>MEANJZH</th>\n",
       "      <td>0.007692</td>\n",
       "    </tr>\n",
       "    <tr>\n",
       "      <th>ABSNJZH</th>\n",
       "      <td>0.006366</td>\n",
       "    </tr>\n",
       "    <tr>\n",
       "      <th>MEANGBH</th>\n",
       "      <td>0.005873</td>\n",
       "    </tr>\n",
       "    <tr>\n",
       "      <th>MEANALP</th>\n",
       "      <td>0.005374</td>\n",
       "    </tr>\n",
       "    <tr>\n",
       "      <th>MEANSHR</th>\n",
       "      <td>0.004825</td>\n",
       "    </tr>\n",
       "    <tr>\n",
       "      <th>SAVNCPP</th>\n",
       "      <td>0.002995</td>\n",
       "    </tr>\n",
       "  </tbody>\n",
       "</table>\n",
       "</div>"
      ],
      "text/plain": [
       "         Relevance Score\n",
       "TOTUSJH         0.066884\n",
       "TOTPOT          0.057785\n",
       "USFLUX          0.053885\n",
       "TOTBSQ          0.043961\n",
       "TOTFZ           0.036307\n",
       "MEANJZD         0.022402\n",
       "EPSX            0.019090\n",
       "R_VALUE         0.018572\n",
       "TOTUSJZ         0.017281\n",
       "EPSZ            0.016764\n",
       "MEANGAM         0.015258\n",
       "TOTFX           0.014802\n",
       "MEANGBZ         0.014656\n",
       "TOTFY           0.013867\n",
       "MEANPOT         0.013066\n",
       "MEANGBT         0.012458\n",
       "EPSY            0.011802\n",
       "SHRGT45         0.008384\n",
       "MEANJZH         0.007692\n",
       "ABSNJZH         0.006366\n",
       "MEANGBH         0.005873\n",
       "MEANALP         0.005374\n",
       "MEANSHR         0.004825\n",
       "SAVNCPP         0.002995"
      ]
     },
     "execution_count": 35,
     "metadata": {},
     "output_type": "execute_result"
    }
   ],
   "source": [
    "scores_data = pie_rank.get_score()\n",
    "scores_data"
   ]
  },
  {
   "cell_type": "code",
   "execution_count": 39,
   "metadata": {},
   "outputs": [
    {
     "data": {
      "image/png": "[encoded data removed]",
      "text/plain": [
       "<Figure size 432x288 with 1 Axes>"
      ]
     },
     "metadata": {
      "needs_background": "light"
     },
     "output_type": "display_data"
    }
   ],
   "source": [
    "\n",
    "scores_data.plot(kind = 'bar');"
   ]
  },
  {
   "cell_type": "code",
   "execution_count": 52,
   "metadata": {},
   "outputs": [
    {
     "data": {
      "text/plain": [
       "'D:\\\\PyCharm\\\\mvts_fss_ay\\\\data'"
      ]
     },
     "execution_count": 52,
     "metadata": {},
     "output_type": "execute_result"
    }
   ],
   "source": [
    "save_path = os.path.join(os.getcwd(),\"data\")\n",
    "save_path"
   ]
  },
  {
   "cell_type": "code",
   "execution_count": 48,
   "metadata": {},
   "outputs": [],
   "source": [
    "save_table(save_path, pie_rank,\"pie_rank_scores\", index = True)"
   ]
  },
  {
   "cell_type": "markdown",
   "metadata": {},
   "source": [
    "# Coordinate descent"
   ]
  },
  {
   "cell_type": "code",
   "execution_count": 101,
   "metadata": {},
   "outputs": [],
   "source": [
    "def mvts_to_df_embed(path_FL, path_NF):\n",
    "    pie_rank = PIE_RANK(path_FL,path_NF)\n",
    "    files_flare = pie_rank.generate_flare_set()\n",
    "    files_non_flare = pie_rank.generate_non_flare_set()\n",
    "    mapping = pie_rank.mapping\n",
    "    timeseries = []\n",
    "    y = []\n",
    "    scores = {}\n",
    "    labels = []\n",
    "    subset_data = pd.DataFrame(columns = Sample(\"FL\",files_flare[0]).get_data().columns[1:25])\n",
    "    subset_data['FLARE_CLASS'] = np.nan\n",
    "    for col in tqdm(range(1,25)):\n",
    "        for file in tqdm(files_flare):\n",
    "            s = Sample(\"FL\",file).get_data().iloc[:,col].values\n",
    "\n",
    "\n",
    "            timeseries.append(s)\n",
    "            y.append(mapping[file[0]])\n",
    "\n",
    "        for file in tqdm(files_non_flare):\n",
    "            s = Sample(\"NF\",file).get_data().iloc[:,col].values\n",
    "            y.append(mapping[file[0]])\n",
    "\n",
    "            timeseries.append(s)\n",
    "        labels.append(y)\n",
    "        embed = pie_rank.get_embed_matrix(timeseries)\n",
    "        subset_data.iloc[:,col-1] = embed\n",
    "        timeseries = []\n",
    "        y = []\n",
    "    subset_data.iloc[:,-1] = np.array(labels[0])\n",
    "    return subset_data"
   ]
  },
  {
   "cell_type": "code",
   "execution_count": 102,
   "metadata": {},
   "outputs": [
    {
     "data": {
      "application/vnd.jupyter.widget-view+json": {
       "model_id": "e72a8304cc78413d9884f908b4309566",
       "version_major": 2,
       "version_minor": 0
      },
      "text/plain": [
       "  0%|          | 0/24 [00:00<?, ?it/s]"
      ]
     },
     "metadata": {},
     "output_type": "display_data"
    },
    {
     "data": {
      "application/vnd.jupyter.widget-view+json": {
       "model_id": "f56a880c2fe9460faa549c51689fe83d",
       "version_major": 2,
       "version_minor": 0
      },
      "text/plain": [
       "  0%|          | 0/1254 [00:00<?, ?it/s]"
      ]
     },
     "metadata": {},
     "output_type": "display_data"
    },
    {
     "data": {
      "application/vnd.jupyter.widget-view+json": {
       "model_id": "2fd3ca167f664ee09f622f7e5e878386",
       "version_major": 2,
       "version_minor": 0
      },
      "text/plain": [
       "  0%|          | 0/1200 [00:00<?, ?it/s]"
      ]
     },
     "metadata": {},
     "output_type": "display_data"
    },
    {
     "data": {
      "application/vnd.jupyter.widget-view+json": {
       "model_id": "7463a0d2c67849a5abc5ac096e62283a",
       "version_major": 2,
       "version_minor": 0
      },
      "text/plain": [
       "  0%|          | 0/1254 [00:00<?, ?it/s]"
      ]
     },
     "metadata": {},
     "output_type": "display_data"
    },
    {
     "data": {
      "application/vnd.jupyter.widget-view+json": {
       "model_id": "4051ea0a79fc47ce9ace94d0d5315593",
       "version_major": 2,
       "version_minor": 0
      },
      "text/plain": [
       "  0%|          | 0/1200 [00:00<?, ?it/s]"
      ]
     },
     "metadata": {},
     "output_type": "display_data"
    },
    {
     "data": {
      "application/vnd.jupyter.widget-view+json": {
       "model_id": "abf442588659464db1dc3954caf59fdf",
       "version_major": 2,
       "version_minor": 0
      },
      "text/plain": [
       "  0%|          | 0/1254 [00:00<?, ?it/s]"
      ]
     },
     "metadata": {},
     "output_type": "display_data"
    },
    {
     "data": {
      "application/vnd.jupyter.widget-view+json": {
       "model_id": "2d7002cc978d4e3a97bc0615588535d7",
       "version_major": 2,
       "version_minor": 0
      },
      "text/plain": [
       "  0%|          | 0/1200 [00:00<?, ?it/s]"
      ]
     },
     "metadata": {},
     "output_type": "display_data"
    },
    {
     "data": {
      "application/vnd.jupyter.widget-view+json": {
       "model_id": "8134503ff15b43569c76a8f9d9fd14d7",
       "version_major": 2,
       "version_minor": 0
      },
      "text/plain": [
       "  0%|          | 0/1254 [00:00<?, ?it/s]"
      ]
     },
     "metadata": {},
     "output_type": "display_data"
    },
    {
     "data": {
      "application/vnd.jupyter.widget-view+json": {
       "model_id": "8726b9f4ee2b41b78f930404186fbe38",
       "version_major": 2,
       "version_minor": 0
      },
      "text/plain": [
       "  0%|          | 0/1200 [00:00<?, ?it/s]"
      ]
     },
     "metadata": {},
     "output_type": "display_data"
    },
    {
     "data": {
      "application/vnd.jupyter.widget-view+json": {
       "model_id": "7e9e685a0f0f443dad617da94dcc3e92",
       "version_major": 2,
       "version_minor": 0
      },
      "text/plain": [
       "  0%|          | 0/1254 [00:00<?, ?it/s]"
      ]
     },
     "metadata": {},
     "output_type": "display_data"
    },
    {
     "data": {
      "application/vnd.jupyter.widget-view+json": {
       "model_id": "df5d95110bb741179940a93a19ed536d",
       "version_major": 2,
       "version_minor": 0
      },
      "text/plain": [
       "  0%|          | 0/1200 [00:00<?, ?it/s]"
      ]
     },
     "metadata": {},
     "output_type": "display_data"
    },
    {
     "data": {
      "application/vnd.jupyter.widget-view+json": {
       "model_id": "36ca76657e4642b890a991b75a68f688",
       "version_major": 2,
       "version_minor": 0
      },
      "text/plain": [
       "  0%|          | 0/1254 [00:00<?, ?it/s]"
      ]
     },
     "metadata": {},
     "output_type": "display_data"
    },
    {
     "data": {
      "application/vnd.jupyter.widget-view+json": {
       "model_id": "8312dcd91fab40c99710afe52e2e5b93",
       "version_major": 2,
       "version_minor": 0
      },
      "text/plain": [
       "  0%|          | 0/1200 [00:00<?, ?it/s]"
      ]
     },
     "metadata": {},
     "output_type": "display_data"
    },
    {
     "data": {
      "application/vnd.jupyter.widget-view+json": {
       "model_id": "052674af958447a1b5ba2dc5414137a4",
       "version_major": 2,
       "version_minor": 0
      },
      "text/plain": [
       "  0%|          | 0/1254 [00:00<?, ?it/s]"
      ]
     },
     "metadata": {},
     "output_type": "display_data"
    },
    {
     "data": {
      "application/vnd.jupyter.widget-view+json": {
       "model_id": "835a700507944e3c915a9bc8af92c605",
       "version_major": 2,
       "version_minor": 0
      },
      "text/plain": [
       "  0%|          | 0/1200 [00:00<?, ?it/s]"
      ]
     },
     "metadata": {},
     "output_type": "display_data"
    },
    {
     "data": {
      "application/vnd.jupyter.widget-view+json": {
       "model_id": "3552ab50ba7b47f8a555fbe28f1baed1",
       "version_major": 2,
       "version_minor": 0
      },
      "text/plain": [
       "  0%|          | 0/1254 [00:00<?, ?it/s]"
      ]
     },
     "metadata": {},
     "output_type": "display_data"
    },
    {
     "data": {
      "application/vnd.jupyter.widget-view+json": {
       "model_id": "9de89cf40db642628825bfa262b74fbe",
       "version_major": 2,
       "version_minor": 0
      },
      "text/plain": [
       "  0%|          | 0/1200 [00:00<?, ?it/s]"
      ]
     },
     "metadata": {},
     "output_type": "display_data"
    },
    {
     "data": {
      "application/vnd.jupyter.widget-view+json": {
       "model_id": "0a54691606ed4318a9d82c226fbe1dfc",
       "version_major": 2,
       "version_minor": 0
      },
      "text/plain": [
       "  0%|          | 0/1254 [00:00<?, ?it/s]"
      ]
     },
     "metadata": {},
     "output_type": "display_data"
    },
    {
     "data": {
      "application/vnd.jupyter.widget-view+json": {
       "model_id": "7c8e54ffe7f64e209ac648ec9bcd7d48",
       "version_major": 2,
       "version_minor": 0
      },
      "text/plain": [
       "  0%|          | 0/1200 [00:00<?, ?it/s]"
      ]
     },
     "metadata": {},
     "output_type": "display_data"
    },
    {
     "data": {
      "application/vnd.jupyter.widget-view+json": {
       "model_id": "5dcfc51998644fbcbe0675300cce96b3",
       "version_major": 2,
       "version_minor": 0
      },
      "text/plain": [
       "  0%|          | 0/1254 [00:00<?, ?it/s]"
      ]
     },
     "metadata": {},
     "output_type": "display_data"
    },
    {
     "data": {
      "application/vnd.jupyter.widget-view+json": {
       "model_id": "43b63008fbbe4b3ab5568dc8927051c0",
       "version_major": 2,
       "version_minor": 0
      },
      "text/plain": [
       "  0%|          | 0/1200 [00:00<?, ?it/s]"
      ]
     },
     "metadata": {},
     "output_type": "display_data"
    },
    {
     "data": {
      "application/vnd.jupyter.widget-view+json": {
       "model_id": "669d23ba393a4affacf7e5a875e522ba",
       "version_major": 2,
       "version_minor": 0
      },
      "text/plain": [
       "  0%|          | 0/1254 [00:00<?, ?it/s]"
      ]
     },
     "metadata": {},
     "output_type": "display_data"
    },
    {
     "data": {
      "application/vnd.jupyter.widget-view+json": {
       "model_id": "2caaba639a824ee5a0f84833e6afd5b6",
       "version_major": 2,
       "version_minor": 0
      },
      "text/plain": [
       "  0%|          | 0/1200 [00:00<?, ?it/s]"
      ]
     },
     "metadata": {},
     "output_type": "display_data"
    },
    {
     "data": {
      "application/vnd.jupyter.widget-view+json": {
       "model_id": "d7c433237d74435a99d09f3386d8c589",
       "version_major": 2,
       "version_minor": 0
      },
      "text/plain": [
       "  0%|          | 0/1254 [00:00<?, ?it/s]"
      ]
     },
     "metadata": {},
     "output_type": "display_data"
    },
    {
     "data": {
      "application/vnd.jupyter.widget-view+json": {
       "model_id": "25bad2c9d4ea4ce08f1c99204aa6579a",
       "version_major": 2,
       "version_minor": 0
      },
      "text/plain": [
       "  0%|          | 0/1200 [00:00<?, ?it/s]"
      ]
     },
     "metadata": {},
     "output_type": "display_data"
    },
    {
     "data": {
      "application/vnd.jupyter.widget-view+json": {
       "model_id": "a6ea1b53b0c54936bcae70a8c7135c2f",
       "version_major": 2,
       "version_minor": 0
      },
      "text/plain": [
       "  0%|          | 0/1254 [00:00<?, ?it/s]"
      ]
     },
     "metadata": {},
     "output_type": "display_data"
    },
    {
     "data": {
      "application/vnd.jupyter.widget-view+json": {
       "model_id": "7559b992971340648e9d6e66f754c82a",
       "version_major": 2,
       "version_minor": 0
      },
      "text/plain": [
       "  0%|          | 0/1200 [00:00<?, ?it/s]"
      ]
     },
     "metadata": {},
     "output_type": "display_data"
    },
    {
     "data": {
      "application/vnd.jupyter.widget-view+json": {
       "model_id": "13742fe2b24a4bd780520e4966e7a1ce",
       "version_major": 2,
       "version_minor": 0
      },
      "text/plain": [
       "  0%|          | 0/1254 [00:00<?, ?it/s]"
      ]
     },
     "metadata": {},
     "output_type": "display_data"
    },
    {
     "data": {
      "application/vnd.jupyter.widget-view+json": {
       "model_id": "fecb3f28ae254437b9dc7555d92fb1b1",
       "version_major": 2,
       "version_minor": 0
      },
      "text/plain": [
       "  0%|          | 0/1200 [00:00<?, ?it/s]"
      ]
     },
     "metadata": {},
     "output_type": "display_data"
    },
    {
     "data": {
      "application/vnd.jupyter.widget-view+json": {
       "model_id": "02eb96a52a06469f83b39cd58b37a00b",
       "version_major": 2,
       "version_minor": 0
      },
      "text/plain": [
       "  0%|          | 0/1254 [00:00<?, ?it/s]"
      ]
     },
     "metadata": {},
     "output_type": "display_data"
    },
    {
     "data": {
      "application/vnd.jupyter.widget-view+json": {
       "model_id": "1fa7d82e1ccf46e681d4541e5f2ea204",
       "version_major": 2,
       "version_minor": 0
      },
      "text/plain": [
       "  0%|          | 0/1200 [00:00<?, ?it/s]"
      ]
     },
     "metadata": {},
     "output_type": "display_data"
    },
    {
     "data": {
      "application/vnd.jupyter.widget-view+json": {
       "model_id": "030a897770984682801af61c62bbe4f5",
       "version_major": 2,
       "version_minor": 0
      },
      "text/plain": [
       "  0%|          | 0/1254 [00:00<?, ?it/s]"
      ]
     },
     "metadata": {},
     "output_type": "display_data"
    },
    {
     "data": {
      "application/vnd.jupyter.widget-view+json": {
       "model_id": "31554719329549a3949e474f2217b64c",
       "version_major": 2,
       "version_minor": 0
      },
      "text/plain": [
       "  0%|          | 0/1200 [00:00<?, ?it/s]"
      ]
     },
     "metadata": {},
     "output_type": "display_data"
    },
    {
     "data": {
      "application/vnd.jupyter.widget-view+json": {
       "model_id": "2cc7d9f0d53e40a5849cd45a5f4d9aa3",
       "version_major": 2,
       "version_minor": 0
      },
      "text/plain": [
       "  0%|          | 0/1254 [00:00<?, ?it/s]"
      ]
     },
     "metadata": {},
     "output_type": "display_data"
    },
    {
     "data": {
      "application/vnd.jupyter.widget-view+json": {
       "model_id": "1c3db55942cb4f4eaa21bc3642810fde",
       "version_major": 2,
       "version_minor": 0
      },
      "text/plain": [
       "  0%|          | 0/1200 [00:00<?, ?it/s]"
      ]
     },
     "metadata": {},
     "output_type": "display_data"
    },
    {
     "data": {
      "application/vnd.jupyter.widget-view+json": {
       "model_id": "fcf668e08ba24aaf81061d4a3b1bde3e",
       "version_major": 2,
       "version_minor": 0
      },
      "text/plain": [
       "  0%|          | 0/1254 [00:00<?, ?it/s]"
      ]
     },
     "metadata": {},
     "output_type": "display_data"
    },
    {
     "data": {
      "application/vnd.jupyter.widget-view+json": {
       "model_id": "906c6ed1f05b4a80882b4df23c42f928",
       "version_major": 2,
       "version_minor": 0
      },
      "text/plain": [
       "  0%|          | 0/1200 [00:00<?, ?it/s]"
      ]
     },
     "metadata": {},
     "output_type": "display_data"
    },
    {
     "data": {
      "application/vnd.jupyter.widget-view+json": {
       "model_id": "8b03aa207d9342149dc2e2cec4d6ff3a",
       "version_major": 2,
       "version_minor": 0
      },
      "text/plain": [
       "  0%|          | 0/1254 [00:00<?, ?it/s]"
      ]
     },
     "metadata": {},
     "output_type": "display_data"
    },
    {
     "data": {
      "application/vnd.jupyter.widget-view+json": {
       "model_id": "29c6476feb994a8eb31af6702662274f",
       "version_major": 2,
       "version_minor": 0
      },
      "text/plain": [
       "  0%|          | 0/1200 [00:00<?, ?it/s]"
      ]
     },
     "metadata": {},
     "output_type": "display_data"
    },
    {
     "data": {
      "application/vnd.jupyter.widget-view+json": {
       "model_id": "7a262a7700aa43e08792ad4dcc8105bc",
       "version_major": 2,
       "version_minor": 0
      },
      "text/plain": [
       "  0%|          | 0/1254 [00:00<?, ?it/s]"
      ]
     },
     "metadata": {},
     "output_type": "display_data"
    },
    {
     "data": {
      "application/vnd.jupyter.widget-view+json": {
       "model_id": "01d4613c6a094a6b9af601c8e16f3b9f",
       "version_major": 2,
       "version_minor": 0
      },
      "text/plain": [
       "  0%|          | 0/1200 [00:00<?, ?it/s]"
      ]
     },
     "metadata": {},
     "output_type": "display_data"
    },
    {
     "data": {
      "application/vnd.jupyter.widget-view+json": {
       "model_id": "d2caf0b3bab542c89a76144a550b8ca2",
       "version_major": 2,
       "version_minor": 0
      },
      "text/plain": [
       "  0%|          | 0/1254 [00:00<?, ?it/s]"
      ]
     },
     "metadata": {},
     "output_type": "display_data"
    },
    {
     "data": {
      "application/vnd.jupyter.widget-view+json": {
       "model_id": "6558aeb0543040c8b09057f3f6b5ad8c",
       "version_major": 2,
       "version_minor": 0
      },
      "text/plain": [
       "  0%|          | 0/1200 [00:00<?, ?it/s]"
      ]
     },
     "metadata": {},
     "output_type": "display_data"
    },
    {
     "data": {
      "application/vnd.jupyter.widget-view+json": {
       "model_id": "17793a4d59054c8ebfd9b22cb6da9c6b",
       "version_major": 2,
       "version_minor": 0
      },
      "text/plain": [
       "  0%|          | 0/1254 [00:00<?, ?it/s]"
      ]
     },
     "metadata": {},
     "output_type": "display_data"
    },
    {
     "data": {
      "application/vnd.jupyter.widget-view+json": {
       "model_id": "e57e5917d5e54e33b74d8b08fd0b2189",
       "version_major": 2,
       "version_minor": 0
      },
      "text/plain": [
       "  0%|          | 0/1200 [00:00<?, ?it/s]"
      ]
     },
     "metadata": {},
     "output_type": "display_data"
    },
    {
     "data": {
      "application/vnd.jupyter.widget-view+json": {
       "model_id": "a96dd3ebe2704ca98196a81336f3bac1",
       "version_major": 2,
       "version_minor": 0
      },
      "text/plain": [
       "  0%|          | 0/1254 [00:00<?, ?it/s]"
      ]
     },
     "metadata": {},
     "output_type": "display_data"
    },
    {
     "data": {
      "application/vnd.jupyter.widget-view+json": {
       "model_id": "d27ba8f18f39439ca13ac39ba8b1ed03",
       "version_major": 2,
       "version_minor": 0
      },
      "text/plain": [
       "  0%|          | 0/1200 [00:00<?, ?it/s]"
      ]
     },
     "metadata": {},
     "output_type": "display_data"
    },
    {
     "data": {
      "application/vnd.jupyter.widget-view+json": {
       "model_id": "d83746e199404a5b80f92b97b0e11aa1",
       "version_major": 2,
       "version_minor": 0
      },
      "text/plain": [
       "  0%|          | 0/1254 [00:00<?, ?it/s]"
      ]
     },
     "metadata": {},
     "output_type": "display_data"
    },
    {
     "data": {
      "application/vnd.jupyter.widget-view+json": {
       "model_id": "164f44c912b94c45a530a8b500bf3c8a",
       "version_major": 2,
       "version_minor": 0
      },
      "text/plain": [
       "  0%|          | 0/1200 [00:00<?, ?it/s]"
      ]
     },
     "metadata": {},
     "output_type": "display_data"
    }
   ],
   "source": [
    "data = mvts_to_df_embed(path_FL, path_NF)"
   ]
  },
  {
   "cell_type": "markdown",
   "metadata": {},
   "source": [
    "## Custom CDL"
   ]
  },
  {
   "cell_type": "code",
   "execution_count": 202,
   "metadata": {},
   "outputs": [],
   "source": [
    "class Coordinate_Descent_Lasso:\n",
    "    \n",
    "    def __init__(self, alpha = 1.0, max_iter = 1000, fit_intercept = False):\n",
    "        self.alpha = alpha  \n",
    "        self.max_iter = max_iter\n",
    "        self.fit_intercept= fit_intercept  \n",
    "        self.coef_ = None  \n",
    "        self.intercept_ = None  \n",
    "        \n",
    "    def normalize(self, X):\n",
    "        X = (X - X.mean(axis=0, keepdims=True)) / X.std(axis=0, keepdims=True)\n",
    "        return X\n",
    "    def _soft_thresholding_operator(self, x, lambda_):\n",
    "        if x > 0.0 and lambda_ < abs(x):\n",
    "            return x - lambda_\n",
    "        elif x < 0.0 and lambda_ < abs(x):\n",
    "            return x + lambda_\n",
    "        else:\n",
    "            return 0.0\n",
    "\n",
    "    def fit(self, X, y):\n",
    "        \n",
    "        X = self.normalize(X)\n",
    "        \n",
    "        if self.fit_intercept:\n",
    "            X = np.column_stack((np.ones(len(X)), X))\n",
    "\n",
    "        beta = np.zeros(X.shape[1])\n",
    "        if self.fit_intercept:\n",
    "            beta[0] = np.sum(y - np.dot(X[:, 1:], beta[1:])) / (X.shape[0])\n",
    "\n",
    "        for iteration in range(self.max_iter):\n",
    "            start = 1 if self.fit_intercept else 0\n",
    "            for j in range(start, len(beta)):\n",
    "                tmp_beta = beta.copy()\n",
    "                tmp_beta[j] = 0.0\n",
    "                r_j = y - np.dot(X, tmp_beta)\n",
    "                arg1 = np.dot(X[:, j], r_j)\n",
    "                arg2 = self.alpha * X.shape[0]\n",
    "\n",
    "                beta[j] = self._soft_thresholding_operator(arg1, arg2) / (X[:, j]**2).sum()\n",
    "\n",
    "                if self.fit_intercept:\n",
    "                    beta[0] = np.sum(y - np.dot(X[:, 1:], beta[1:])) / (X.shape[0])\n",
    "\n",
    "        if self.fit_intercept:\n",
    "            self.intercept_ = beta[0]\n",
    "            self.coef_ = beta[1:]\n",
    "        else:\n",
    "            self.coef_ = beta\n",
    "\n",
    "        return self\n",
    "\n",
    "    def predict(self, X):\n",
    "        y = np.dot(X, self.coef_)\n",
    "        if self.fit_intercept:\n",
    "            y += self.intercept_ * np.ones(len(y))\n",
    "        return y\n",
    "\n",
    "\n",
    "\n"
   ]
  },
  {
   "cell_type": "code",
   "execution_count": 203,
   "metadata": {},
   "outputs": [],
   "source": [
    "def get_selected_columns_custom(X,y,alpha=0.01, max_iter = 1000, fit_intercept = False):\n",
    "    model = Coordinate_Descent_Lasso(alpha=alpha,max_iter=max_iter,fit_intercept=fit_intercept)\n",
    "    model.fit(X, y)\n",
    "    coefs = model.coef_\n",
    "    importance = np.abs(coefs)\n",
    "    return coefs, np.array(data.columns[:-1])[importance > 0]"
   ]
  },
  {
   "cell_type": "code",
   "execution_count": 233,
   "metadata": {},
   "outputs": [],
   "source": [
    "def get_x_and_y(data, normalize=True):\n",
    "    \n",
    "    if normalize == True:\n",
    "        X = StandardScaler().fit_transform(data.iloc[:,:-1].values)\n",
    "    else:\n",
    "        X = data.iloc[:,:-1].values\n",
    "        \n",
    "    y = data.iloc[:,-1].values\n",
    "    return X,y"
   ]
  },
  {
   "cell_type": "code",
   "execution_count": 205,
   "metadata": {
    "scrolled": true
   },
   "outputs": [
    {
     "data": {
      "text/plain": [
       "array(['TOTBSQ', 'TOTUSJZ', 'ABSNJZH', 'USFLUX', 'MEANPOT', 'MEANSHR',\n",
       "       'MEANGAM', 'MEANJZH', 'TOTFY', 'MEANJZD', 'TOTFX', 'EPSY', 'EPSX'],\n",
       "      dtype=object)"
      ]
     },
     "execution_count": 205,
     "metadata": {},
     "output_type": "execute_result"
    }
   ],
   "source": [
    "X,y = get_x_and_y(data)\n",
    "custom_coefs,selected_subset_custom = get_selected_columns_custom(X,y)\n",
    "selected_subset_custom"
   ]
  },
  {
   "cell_type": "markdown",
   "metadata": {},
   "source": [
    "## SKLEARN CDL"
   ]
  },
  {
   "cell_type": "code",
   "execution_count": 206,
   "metadata": {},
   "outputs": [],
   "source": [
    "def get_selected_columns_sklearn(X,y,alpha=0.01,max_iter = 1000,fit_intercept=False):\n",
    "    \n",
    "\n",
    "    lasso = Lasso(alpha=alpha,fit_intercept=fit_intercept)\n",
    "    scaler = StandardScaler()\n",
    "    X = scaler.fit_transform(X)\n",
    "    lasso.fit(X,y)\n",
    "    coefs = lasso.coef_\n",
    "    importance = np.abs(coefs)\n",
    "    return coefs, np.array(data.columns[:-1])[importance > 0]"
   ]
  },
  {
   "cell_type": "code",
   "execution_count": 207,
   "metadata": {},
   "outputs": [
    {
     "data": {
      "text/plain": [
       "array(['TOTBSQ', 'TOTUSJZ', 'ABSNJZH', 'USFLUX', 'MEANPOT', 'MEANSHR',\n",
       "       'MEANGAM', 'MEANJZH', 'TOTFY', 'MEANJZD', 'TOTFX', 'EPSY', 'EPSX'],\n",
       "      dtype=object)"
      ]
     },
     "execution_count": 207,
     "metadata": {},
     "output_type": "execute_result"
    }
   ],
   "source": [
    "X,y = get_x_and_y(data)\n",
    "sklearn_coefs,selected_subset_sklearn = get_selected_columns_sklearn(X,y)\n",
    "selected_subset_sklearn"
   ]
  },
  {
   "cell_type": "code",
   "execution_count": 649,
   "metadata": {},
   "outputs": [
    {
     "data": {
      "image/png": "[encoded data removed]",
      "text/plain": [
       "<Figure size 720x432 with 1 Axes>"
      ]
     },
     "metadata": {
      "needs_background": "light"
     },
     "output_type": "display_data"
    }
   ],
   "source": [
    "def compare_custom_sklearn(data, custom_coefs,sklearn_coefs):\n",
    "\n",
    "    plt.figure(figsize = (10,6))\n",
    "    cols = data.columns[:-1]\n",
    "    plt.plot(cols,sklearn_coefs, label=\"Scikit Learn\")\n",
    "    plt.plot(cols,custom_coefs+0.01, label=\"Custom\")\n",
    "    plt.xticks(rotation = 60,fontweight='bold');\n",
    "    plt.yticks(fontweight='bold')\n",
    "    plt.title(\"Lasso Coefficients for Custom and Sklearn Implementation of Coordinate Descent\", fontweight='bold')\n",
    "\n",
    "compare_custom_sklearn(data, custom_coefs,sklearn_coefs)"
   ]
  },
  {
   "cell_type": "code",
   "execution_count": 249,
   "metadata": {},
   "outputs": [],
   "source": [
    "def plot_coefficient_path(data):\n",
    "    X,y = get_x_and_y(data)\n",
    "    \n",
    "    fig,ax = plt.subplots(2,1,figsize = (10,10))\n",
    "    n_alphas = 10\n",
    "    alphas = np.logspace(-10, 2, n_alphas)\n",
    "    coefs_scikit_learn = []\n",
    "    coefs_custom = []\n",
    "    \n",
    "    for a in alphas:\n",
    "        lasso_sklearn = Lasso(alpha=a, fit_intercept=False)\n",
    "        lasso_sklearn.fit(X, y)\n",
    "        coefs_scikit_learn.append(lasso_sklearn.coef_)\n",
    "        \n",
    "\n",
    "    for a in alphas:\n",
    " \n",
    "        lasso_custom = Coordinate_Descent_Lasso(alpha = a,fit_intercept=False)\n",
    "        lasso_custom.fit(X,y)\n",
    "        coefs_custom.append(lasso_custom.coef_)\n",
    "        \n",
    "        \n",
    "\n",
    "\n",
    "    ax[0].plot(alphas, coefs_scikit_learn)\n",
    "    ax[0].set_title('Lasso coefficient path (Sklearn)',fontweight='bold',fontsize=10)\n",
    "\n",
    "    ax[1].plot(alphas, coefs_custom)\n",
    "    ax[1].set_title('Lasso coefficient path (Custom)',fontweight='bold',fontsize=10)\n",
    "    \n",
    "    for axes in ax:\n",
    "        axes.set_xscale('log')\n",
    "        axes.set_xlabel('Alpha', fontweight='bold',fontsize=8)\n",
    "        axes.set_ylabel('Coefficients',fontweight='bold',fontsize=8)\n",
    "        \n",
    "\n",
    "    plt.axis('tight')    \n",
    "    plt.legend(data.columns[:-1], bbox_to_anchor = (1.05,1.05))\n",
    "    "
   ]
  },
  {
   "cell_type": "code",
   "execution_count": 250,
   "metadata": {},
   "outputs": [
    {
     "data": {
      "image/png": "[encoded data removed]",
      "text/plain": [
       "<Figure size 720x720 with 2 Axes>"
      ]
     },
     "metadata": {
      "needs_background": "light"
     },
     "output_type": "display_data"
    }
   ],
   "source": [
    "plot_coefficient_path(data)"
   ]
  },
  {
   "cell_type": "code",
   "execution_count": 290,
   "metadata": {},
   "outputs": [],
   "source": [
    "X, y = get_x_and_y(data,normalize=False)\n",
    "coefs_1,get_selected_columns_1 = get_selected_columns_custom(X,y,0.0001)\n",
    "coefs_2,get_selected_columns_2 = get_selected_columns_custom(X,y,0.001)\n",
    "coesfs_3,get_selected_columns_3 = get_selected_columns_custom(X,y,0.01)\n",
    "coesfs_4,get_selected_columns_4 = get_selected_columns_custom(X,y,0.1)"
   ]
  },
  {
   "cell_type": "code",
   "execution_count": 260,
   "metadata": {},
   "outputs": [
    {
     "data": {
      "text/plain": [
       "(21, 20, 13, 3)"
      ]
     },
     "execution_count": 260,
     "metadata": {},
     "output_type": "execute_result"
    }
   ],
   "source": [
    "len(get_selected_columns_1),len(get_selected_columns_2),len(get_selected_columns_3),len(get_selected_columns_4)"
   ]
  },
  {
   "cell_type": "code",
   "execution_count": 329,
   "metadata": {},
   "outputs": [],
   "source": [
    "X, y = get_x_and_y(data,normalize=True)\n",
    "coefs_1,get_selected_columns_1 = get_selected_columns_sklearn(X,y,0.0001)\n",
    "coefs_2,get_selected_columns_2 = get_selected_columns_sklearn(X,y,0.001)\n",
    "coesfs_3,get_selected_columns_3 = get_selected_columns_sklearn(X,y,0.01)\n",
    "coesfs_4,get_selected_columns_4 = get_selected_columns_sklearn(X,y,0.1)"
   ]
  },
  {
   "cell_type": "code",
   "execution_count": 330,
   "metadata": {},
   "outputs": [
    {
     "data": {
      "text/plain": [
       "(21, 20, 13, 3)"
      ]
     },
     "execution_count": 330,
     "metadata": {},
     "output_type": "execute_result"
    }
   ],
   "source": [
    "len(get_selected_columns_1),len(get_selected_columns_2),len(get_selected_columns_3),len(get_selected_columns_4)"
   ]
  },
  {
   "cell_type": "code",
   "execution_count": 331,
   "metadata": {},
   "outputs": [
    {
     "data": {
      "text/html": [
       "<div>\n",
       "<style scoped>\n",
       "    .dataframe tbody tr th:only-of-type {\n",
       "        vertical-align: middle;\n",
       "    }\n",
       "\n",
       "    .dataframe tbody tr th {\n",
       "        vertical-align: top;\n",
       "    }\n",
       "\n",
       "    .dataframe thead th {\n",
       "        text-align: right;\n",
       "    }\n",
       "</style>\n",
       "<table border=\"1\" class=\"dataframe\">\n",
       "  <thead>\n",
       "    <tr style=\"text-align: right;\">\n",
       "      <th></th>\n",
       "      <th>Relevance Score</th>\n",
       "    </tr>\n",
       "  </thead>\n",
       "  <tbody>\n",
       "    <tr>\n",
       "      <th>TOTUSJH</th>\n",
       "      <td>0.066884</td>\n",
       "    </tr>\n",
       "    <tr>\n",
       "      <th>TOTPOT</th>\n",
       "      <td>0.057785</td>\n",
       "    </tr>\n",
       "    <tr>\n",
       "      <th>USFLUX</th>\n",
       "      <td>0.053885</td>\n",
       "    </tr>\n",
       "    <tr>\n",
       "      <th>TOTBSQ</th>\n",
       "      <td>0.043961</td>\n",
       "    </tr>\n",
       "    <tr>\n",
       "      <th>TOTFZ</th>\n",
       "      <td>0.036307</td>\n",
       "    </tr>\n",
       "  </tbody>\n",
       "</table>\n",
       "</div>"
      ],
      "text/plain": [
       "         Relevance Score\n",
       "TOTUSJH         0.066884\n",
       "TOTPOT          0.057785\n",
       "USFLUX          0.053885\n",
       "TOTBSQ          0.043961\n",
       "TOTFZ           0.036307"
      ]
     },
     "execution_count": 331,
     "metadata": {},
     "output_type": "execute_result"
    }
   ],
   "source": [
    "scores_data.head()"
   ]
  },
  {
   "cell_type": "code",
   "execution_count": 267,
   "metadata": {},
   "outputs": [
    {
     "data": {
      "text/plain": [
       "(array([ 0.        ,  0.15896039,  0.        , -0.06636306,  0.27841534,\n",
       "         0.        , -0.73250895,  0.        ,  0.06981719,  0.        ,\n",
       "        -0.03052007,  0.        ,  0.08678625,  0.        ,  0.        ,\n",
       "         0.        , -0.16061808,  0.07665279, -0.03067474,  0.        ,\n",
       "        -0.23044228, -0.19732249,  0.67789884,  0.        ]),\n",
       " array([-0.        ,  0.16299076, -0.        , -0.06647801,  0.27617234,\n",
       "         0.        , -0.73256751,  0.        ,  0.06981438, -0.        ,\n",
       "        -0.03056043, -0.        ,  0.08674253, -0.        , -0.        ,\n",
       "        -0.        , -0.16094951,  0.07662067, -0.0306107 , -0.        ,\n",
       "        -0.23158199, -0.1972612 ,  0.67746247, -0.        ]))"
      ]
     },
     "execution_count": 267,
     "metadata": {},
     "output_type": "execute_result"
    }
   ],
   "source": [
    "custom_coefs, sklearn_coefs"
   ]
  },
  {
   "cell_type": "code",
   "execution_count": 274,
   "metadata": {},
   "outputs": [
    {
     "data": {
      "text/html": [
       "<div>\n",
       "<style scoped>\n",
       "    .dataframe tbody tr th:only-of-type {\n",
       "        vertical-align: middle;\n",
       "    }\n",
       "\n",
       "    .dataframe tbody tr th {\n",
       "        vertical-align: top;\n",
       "    }\n",
       "\n",
       "    .dataframe thead th {\n",
       "        text-align: right;\n",
       "    }\n",
       "</style>\n",
       "<table border=\"1\" class=\"dataframe\">\n",
       "  <thead>\n",
       "    <tr style=\"text-align: right;\">\n",
       "      <th></th>\n",
       "      <th>Scikit-Learn</th>\n",
       "      <th>Custom</th>\n",
       "    </tr>\n",
       "  </thead>\n",
       "  <tbody>\n",
       "    <tr>\n",
       "      <th>TOTUSJH</th>\n",
       "      <td>-0.000000</td>\n",
       "      <td>0.010000</td>\n",
       "    </tr>\n",
       "    <tr>\n",
       "      <th>TOTBSQ</th>\n",
       "      <td>0.162991</td>\n",
       "      <td>0.168960</td>\n",
       "    </tr>\n",
       "    <tr>\n",
       "      <th>TOTPOT</th>\n",
       "      <td>-0.000000</td>\n",
       "      <td>0.010000</td>\n",
       "    </tr>\n",
       "    <tr>\n",
       "      <th>TOTUSJZ</th>\n",
       "      <td>-0.066478</td>\n",
       "      <td>-0.056363</td>\n",
       "    </tr>\n",
       "    <tr>\n",
       "      <th>ABSNJZH</th>\n",
       "      <td>0.276172</td>\n",
       "      <td>0.288415</td>\n",
       "    </tr>\n",
       "    <tr>\n",
       "      <th>SAVNCPP</th>\n",
       "      <td>0.000000</td>\n",
       "      <td>0.010000</td>\n",
       "    </tr>\n",
       "    <tr>\n",
       "      <th>USFLUX</th>\n",
       "      <td>-0.732568</td>\n",
       "      <td>-0.722509</td>\n",
       "    </tr>\n",
       "    <tr>\n",
       "      <th>TOTFZ</th>\n",
       "      <td>0.000000</td>\n",
       "      <td>0.010000</td>\n",
       "    </tr>\n",
       "    <tr>\n",
       "      <th>MEANPOT</th>\n",
       "      <td>0.069814</td>\n",
       "      <td>0.079817</td>\n",
       "    </tr>\n",
       "    <tr>\n",
       "      <th>EPSZ</th>\n",
       "      <td>-0.000000</td>\n",
       "      <td>0.010000</td>\n",
       "    </tr>\n",
       "    <tr>\n",
       "      <th>MEANSHR</th>\n",
       "      <td>-0.030560</td>\n",
       "      <td>-0.020520</td>\n",
       "    </tr>\n",
       "    <tr>\n",
       "      <th>SHRGT45</th>\n",
       "      <td>-0.000000</td>\n",
       "      <td>0.010000</td>\n",
       "    </tr>\n",
       "    <tr>\n",
       "      <th>MEANGAM</th>\n",
       "      <td>0.086743</td>\n",
       "      <td>0.096786</td>\n",
       "    </tr>\n",
       "    <tr>\n",
       "      <th>MEANGBT</th>\n",
       "      <td>-0.000000</td>\n",
       "      <td>0.010000</td>\n",
       "    </tr>\n",
       "    <tr>\n",
       "      <th>MEANGBZ</th>\n",
       "      <td>-0.000000</td>\n",
       "      <td>0.010000</td>\n",
       "    </tr>\n",
       "    <tr>\n",
       "      <th>MEANGBH</th>\n",
       "      <td>-0.000000</td>\n",
       "      <td>0.010000</td>\n",
       "    </tr>\n",
       "    <tr>\n",
       "      <th>MEANJZH</th>\n",
       "      <td>-0.160950</td>\n",
       "      <td>-0.150618</td>\n",
       "    </tr>\n",
       "    <tr>\n",
       "      <th>TOTFY</th>\n",
       "      <td>0.076621</td>\n",
       "      <td>0.086653</td>\n",
       "    </tr>\n",
       "    <tr>\n",
       "      <th>MEANJZD</th>\n",
       "      <td>-0.030611</td>\n",
       "      <td>-0.020675</td>\n",
       "    </tr>\n",
       "    <tr>\n",
       "      <th>MEANALP</th>\n",
       "      <td>-0.000000</td>\n",
       "      <td>0.010000</td>\n",
       "    </tr>\n",
       "    <tr>\n",
       "      <th>TOTFX</th>\n",
       "      <td>-0.231582</td>\n",
       "      <td>-0.220442</td>\n",
       "    </tr>\n",
       "    <tr>\n",
       "      <th>EPSY</th>\n",
       "      <td>-0.197261</td>\n",
       "      <td>-0.187322</td>\n",
       "    </tr>\n",
       "    <tr>\n",
       "      <th>EPSX</th>\n",
       "      <td>0.677462</td>\n",
       "      <td>0.687899</td>\n",
       "    </tr>\n",
       "    <tr>\n",
       "      <th>R_VALUE</th>\n",
       "      <td>-0.000000</td>\n",
       "      <td>0.010000</td>\n",
       "    </tr>\n",
       "  </tbody>\n",
       "</table>\n",
       "</div>"
      ],
      "text/plain": [
       "         Scikit-Learn    Custom\n",
       "TOTUSJH     -0.000000  0.010000\n",
       "TOTBSQ       0.162991  0.168960\n",
       "TOTPOT      -0.000000  0.010000\n",
       "TOTUSJZ     -0.066478 -0.056363\n",
       "ABSNJZH      0.276172  0.288415\n",
       "SAVNCPP      0.000000  0.010000\n",
       "USFLUX      -0.732568 -0.722509\n",
       "TOTFZ        0.000000  0.010000\n",
       "MEANPOT      0.069814  0.079817\n",
       "EPSZ        -0.000000  0.010000\n",
       "MEANSHR     -0.030560 -0.020520\n",
       "SHRGT45     -0.000000  0.010000\n",
       "MEANGAM      0.086743  0.096786\n",
       "MEANGBT     -0.000000  0.010000\n",
       "MEANGBZ     -0.000000  0.010000\n",
       "MEANGBH     -0.000000  0.010000\n",
       "MEANJZH     -0.160950 -0.150618\n",
       "TOTFY        0.076621  0.086653\n",
       "MEANJZD     -0.030611 -0.020675\n",
       "MEANALP     -0.000000  0.010000\n",
       "TOTFX       -0.231582 -0.220442\n",
       "EPSY        -0.197261 -0.187322\n",
       "EPSX         0.677462  0.687899\n",
       "R_VALUE     -0.000000  0.010000"
      ]
     },
     "execution_count": 274,
     "metadata": {},
     "output_type": "execute_result"
    }
   ],
   "source": [
    "coefficients = pd.DataFrame(index = data.columns[:-1])\n",
    "coefficients['Scikit-Learn'] = sklearn_coefs\n",
    "coefficients['Custom'] = custom_coefs + 0.01\n",
    "coefficients"
   ]
  },
  {
   "cell_type": "code",
   "execution_count": 279,
   "metadata": {},
   "outputs": [],
   "source": [
    "save_table(save_path, coefficients,\"coefficients\", index = True)"
   ]
  },
  {
   "cell_type": "code",
   "execution_count": 281,
   "metadata": {},
   "outputs": [
    {
     "data": {
      "text/plain": [
       "'D:\\\\PyCharm\\\\mvts_fss_ay\\\\data'"
      ]
     },
     "execution_count": 281,
     "metadata": {},
     "output_type": "execute_result"
    }
   ],
   "source": [
    "save_path"
   ]
  },
  {
   "cell_type": "code",
   "execution_count": 282,
   "metadata": {},
   "outputs": [],
   "source": [
    "data.to_csv(os.path.join(save_path,\"data.csv\"), index=False, header=True)"
   ]
  },
  {
   "cell_type": "code",
   "execution_count": 657,
   "metadata": {},
   "outputs": [
    {
     "data": {
      "text/plain": [
       "21"
      ]
     },
     "execution_count": 657,
     "metadata": {},
     "output_type": "execute_result"
    }
   ],
   "source": [
    "len(get_selected_columns_1)"
   ]
  },
  {
   "cell_type": "markdown",
   "metadata": {},
   "source": [
    "## Testing"
   ]
  },
  {
   "cell_type": "code",
   "execution_count": 297,
   "metadata": {},
   "outputs": [],
   "source": [
    "X, y = data.iloc[:,:-1], data.iloc[:,-1]\n",
    "# X = StandardScaler().fit_transform(X)\n",
    "coefs_1,get_selected_columns_1 = get_selected_columns_sklearn(X,y,0.0001)\n",
    "coefs_2,get_selected_columns_2 = get_selected_columns_sklearn(X,y,0.001)\n",
    "coesfs_3,get_selected_columns_3 = get_selected_columns_sklearn(X,y,0.01)\n",
    "coesfs_4,get_selected_columns_4 = get_selected_columns_sklearn(X,y,0.1)"
   ]
  },
  {
   "cell_type": "code",
   "execution_count": 332,
   "metadata": {},
   "outputs": [
    {
     "data": {
      "text/plain": [
       "((2454, 24), (2454, 21), (2454, 20), (2454, 13), (2454, 3))"
      ]
     },
     "execution_count": 332,
     "metadata": {},
     "output_type": "execute_result"
    }
   ],
   "source": [
    "X = data.iloc[:,:-1]\n",
    "X_set_1 = data.loc[:,get_selected_columns_1]\n",
    "X_set_2 = data.loc[:,get_selected_columns_2]\n",
    "X_set_3 = data.loc[:,get_selected_columns_3]\n",
    "X_set_4 = data.loc[:,get_selected_columns_4]\n",
    "\n",
    "def scale(X):\n",
    "    return StandardScaler().fit_transform(X)\n",
    "X = scale(X)\n",
    "X_set_1 = scale(X_set_1)\n",
    "X_set_2 = scale(X_set_2)\n",
    "X_set_3 = scale(X_set_3)\n",
    "X_set_4 = scale(X_set_4)\n",
    "\n",
    "X.shape, X_set_1.shape, X_set_2.shape, X_set_3.shape, X_set_4.shape"
   ]
  },
  {
   "cell_type": "code",
   "execution_count": 333,
   "metadata": {},
   "outputs": [
    {
     "data": {
      "image/png": "[encoded data removed]",
      "text/plain": [
       "<Figure size 720x432 with 1 Axes>"
      ]
     },
     "metadata": {
      "needs_background": "light"
     },
     "output_type": "display_data"
    }
   ],
   "source": [
    "from sklearn.linear_model import LogisticRegression\n",
    "from sklearn.model_selection import StratifiedKFold\n",
    "from sklearn.metrics import confusion_matrix,precision_recall_curve,average_precision_score,roc_curve,auc,f1_score,accuracy_score,\\\n",
    "classification_report,multilabel_confusion_matrix, roc_auc_score,precision_recall_fscore_support\n",
    "from sklearn.preprocessing import MinMaxScaler,StandardScaler,RobustScaler,LabelEncoder,LabelBinarizer\n",
    "lr = LogisticRegression(multi_class = 'ovr', penalty = 'l2')\n",
    "f1_array_log,auc_array_log = kfold(lr, 5, X_set_4, y)\n",
    "f1_score_models['Logistic Regression'] = np.mean(f1_array_log)\n",
    "auc_score_models['Logistic Regression'] = np.mean(auc_array_log)\n",
    "plt.figure(figsize = (10,6))\n",
    "plt.plot(auc_array_log,label = 'macro ROC');\n",
    "plt.plot(f1_array_log, label = 'macro F-1 score');\n",
    "plt.title(\"Logistic Regression K-fold cross validation\")\n",
    "plt.legend();"
   ]
  },
  {
   "cell_type": "code",
   "execution_count": 311,
   "metadata": {},
   "outputs": [
    {
     "data": {
      "text/plain": [
       "[0.19271089699952873,\n",
       " 0.18987483058279517,\n",
       " 0.1897156626506024,\n",
       " 0.19585185185185186,\n",
       " 0.20663622526636222]"
      ]
     },
     "execution_count": 311,
     "metadata": {},
     "output_type": "execute_result"
    }
   ],
   "source": [
    "f1_array_log"
   ]
  },
  {
   "cell_type": "code",
   "execution_count": 334,
   "metadata": {},
   "outputs": [
    {
     "data": {
      "image/png": "[encoded data removed]",
      "text/plain": [
       "<Figure size 720x432 with 1 Axes>"
      ]
     },
     "metadata": {
      "needs_background": "light"
     },
     "output_type": "display_data"
    }
   ],
   "source": [
    "from sklearn.ensemble import RandomForestClassifier,ExtraTreesClassifier,BaggingClassifier,AdaBoostClassifier,GradientBoostingClassifier,VotingClassifier,StackingClassifier\n",
    "model3 = 'Random Forest'\n",
    "model3 = RandomForestClassifier(n_estimators=50,criterion='entropy',max_features='log2')\n",
    "f1_array_rf,auc_array_rf = kfold(model3, 5, X_set_2, y)\n",
    "f1_score_models['Random Forest'] = np.mean(f1_array_rf)\n",
    "auc_score_models['Random Forest'] = np.mean(auc_array_rf)\n",
    "plt.figure(figsize = (10,6))\n",
    "plt.plot(auc_array_rf,label = 'macro ROC');\n",
    "plt.plot(f1_array_rf, label = 'macro F-1 score');\n",
    "plt.title(\"Random Forest cross validation\")\n",
    "plt.legend();"
   ]
  },
  {
   "cell_type": "code",
   "execution_count": 316,
   "metadata": {},
   "outputs": [
    {
     "data": {
      "image/png": "[encoded data removed]",
      "text/plain": [
       "<Figure size 720x432 with 1 Axes>"
      ]
     },
     "metadata": {
      "needs_background": "light"
     },
     "output_type": "display_data"
    }
   ],
   "source": [
    "from sklearn.tree import DecisionTreeClassifier\n",
    "model4 = 'Decision Tree'\n",
    "model4 = DecisionTreeClassifier(criterion = 'entropy',max_depth = 10, max_leaf_nodes=100)\n",
    "f1_array_dt,auc_array_dt = kfold(model4, 5, X, y)\n",
    "f1_score_models['DT'] = np.mean(f1_array_dt)\n",
    "auc_score_models['DT'] = np.mean(auc_array_dt)\n",
    "plt.figure(figsize = (10,6))\n",
    "plt.plot(auc_array_dt,label = 'macro ROC');\n",
    "plt.plot(f1_array_dt, label = 'macro F-1 score');\n",
    "plt.title(\"Decision Tree cross validation\")\n",
    "plt.legend();"
   ]
  },
  {
   "cell_type": "code",
   "execution_count": 321,
   "metadata": {},
   "outputs": [],
   "source": [
    "from sklearn.metrics import precision_recall_curve\n",
    "from sklearn.metrics import plot_precision_recall_curve\n",
    "from sklearn.metrics import average_precision_score\n",
    "from sklearn import svm"
   ]
  },
  {
   "cell_type": "code",
   "execution_count": 324,
   "metadata": {},
   "outputs": [],
   "source": [
    "classifier = svm.LinearSVC()\n",
    "classifier.fit(X, y)\n",
    "y_score = classifier.decision_function(X)\n",
    "# average_precision = average_precision_score(y, y_score)\n",
    "# print('Average precision-recall score: {0:0.2f}'.format(\n",
    "#       average_precision))"
   ]
  },
  {
   "cell_type": "code",
   "execution_count": 351,
   "metadata": {},
   "outputs": [],
   "source": [
    "def kfold(model,n_splits,X,y):\n",
    "  kf = StratifiedKFold(n_splits=n_splits,shuffle=True,random_state=0)\n",
    "  cv_score_auc =[]\n",
    "  cv_score_f1 = []\n",
    "  i=1\n",
    "  for train_index,test_index in kf.split(X,y):\n",
    "      \n",
    "      xtr,xvl = X[train_index],X[test_index]\n",
    "      ytr,yvl = y[train_index],y[test_index]\n",
    "      \n",
    "      #model\n",
    "      model.fit(xtr,ytr)\n",
    "      score_auc = precision_score(yvl,model.predict(xvl),average='micro')\n",
    "      score_f1 = recall_score(yvl,model.predict(xvl),average='micro')\n",
    "      # print('ROC AUC score:',score_auc)\n",
    "      # print('F1 score: ', score_f1)\n",
    "      cv_score_auc.append(score_auc)\n",
    "      cv_score_f1.append(score_f1)\n",
    "      # pred_test = lr.predict_proba(X_test)[:,1]\n",
    "      # pred_test_full +=pred_test\n",
    "      i+=1\n",
    "\n",
    "  return cv_score_f1, cv_score_auc\n"
   ]
  },
  {
   "cell_type": "code",
   "execution_count": 352,
   "metadata": {},
   "outputs": [
    {
     "data": {
      "image/png": "[encoded data removed]",
      "text/plain": [
       "<Figure size 720x432 with 1 Axes>"
      ]
     },
     "metadata": {
      "needs_background": "light"
     },
     "output_type": "display_data"
    }
   ],
   "source": [
    "from sklearn.tree import DecisionTreeClassifier\n",
    "model4 = 'Decision Tree'\n",
    "model4 = DecisionTreeClassifier(criterion = 'entropy',max_depth = 10, max_leaf_nodes=100)\n",
    "f1_array_dt,auc_array_dt = kfold(model4, 5, X, y)\n",
    "f1_score_models['DT'] = np.mean(f1_array_dt)\n",
    "auc_score_models['DT'] = np.mean(auc_array_dt)\n",
    "plt.figure(figsize = (10,6))\n",
    "plt.plot(auc_array_dt,label = 'macro ROC');\n",
    "plt.plot(f1_array_dt, label = 'macro F-1 score');\n",
    "plt.title(\"Decision Tree cross validation\")\n",
    "plt.legend();"
   ]
  },
  {
   "cell_type": "code",
   "execution_count": 355,
   "metadata": {},
   "outputs": [],
   "source": [
    "y_pred = model4.predict(X)"
   ]
  },
  {
   "cell_type": "code",
   "execution_count": 361,
   "metadata": {},
   "outputs": [
    {
     "data": {
      "text/plain": [
       "(0.7813977432209503, 0.5884270578647107, 0.45409427404397434)"
      ]
     },
     "execution_count": 361,
     "metadata": {},
     "output_type": "execute_result"
    }
   ],
   "source": [
    "precision_score(y,y_pred,average=\"macro\"), recall_score(y,y_pred,average=\"micro\"), f1_score(y,y_pred,average=\"macro\")"
   ]
  },
  {
   "cell_type": "code",
   "execution_count": 363,
   "metadata": {},
   "outputs": [
    {
     "data": {
      "text/plain": [
       "array([[0.06557377, 0.17486339, 0.        , 0.66120219, 0.09836066],\n",
       "       [0.06557377, 0.17486339, 0.        , 0.66120219, 0.09836066],\n",
       "       [0.06557377, 0.17486339, 0.        , 0.66120219, 0.09836066],\n",
       "       ...,\n",
       "       [0.        , 0.        , 1.        , 0.        , 0.        ],\n",
       "       [0.        , 0.        , 1.        , 0.        , 0.        ],\n",
       "       [0.21052632, 0.        , 0.78947368, 0.        , 0.        ]])"
      ]
     },
     "execution_count": 363,
     "metadata": {},
     "output_type": "execute_result"
    }
   ],
   "source": [
    "y_score = model4.predict_proba(X)\n",
    "y_score"
   ]
  },
  {
   "cell_type": "code",
   "execution_count": 372,
   "metadata": {},
   "outputs": [
    {
     "data": {
      "text/plain": [
       "array([3, 3, 3, ..., 2, 2, 2])"
      ]
     },
     "execution_count": 372,
     "metadata": {},
     "output_type": "execute_result"
    }
   ],
   "source": []
  },
  {
   "cell_type": "code",
   "execution_count": 380,
   "metadata": {},
   "outputs": [
    {
     "data": {
      "text/plain": [
       "<AxesSubplot:>"
      ]
     },
     "execution_count": 380,
     "metadata": {},
     "output_type": "execute_result"
    },
    {
     "data": {
      "image/png": "[encoded data removed]",
      "text/plain": [
       "<Figure size 432x288 with 2 Axes>"
      ]
     },
     "metadata": {
      "needs_background": "light"
     },
     "output_type": "display_data"
    }
   ],
   "source": [
    "import seaborn as sns\n",
    "sns.heatmap(multilabel_confusion_matrix(y,y_pred)[0],annot=True)"
   ]
  },
  {
   "cell_type": "code",
   "execution_count": 437,
   "metadata": {},
   "outputs": [],
   "source": [
    "lol = class_report(\"lol\",y,y_pred).iloc[:,:3]"
   ]
  },
  {
   "cell_type": "code",
   "execution_count": 429,
   "metadata": {},
   "outputs": [],
   "source": [
    "lol.index = ['B','C','F','M','X','avg/total']"
   ]
  },
  {
   "cell_type": "code",
   "execution_count": 438,
   "metadata": {},
   "outputs": [
    {
     "data": {
      "image/png": "[encoded data removed]",
      "text/plain": [
       "<Figure size 432x288 with 2 Axes>"
      ]
     },
     "metadata": {
      "needs_background": "light"
     },
     "output_type": "display_data"
    }
   ],
   "source": [
    "sns.heatmap(lol,annot=True);"
   ]
  },
  {
   "cell_type": "code",
   "execution_count": 439,
   "metadata": {},
   "outputs": [
    {
     "data": {
      "text/html": [
       "<div>\n",
       "<style scoped>\n",
       "    .dataframe tbody tr th:only-of-type {\n",
       "        vertical-align: middle;\n",
       "    }\n",
       "\n",
       "    .dataframe tbody tr th {\n",
       "        vertical-align: top;\n",
       "    }\n",
       "\n",
       "    .dataframe thead th {\n",
       "        text-align: right;\n",
       "    }\n",
       "</style>\n",
       "<table border=\"1\" class=\"dataframe\">\n",
       "  <thead>\n",
       "    <tr style=\"text-align: right;\">\n",
       "      <th></th>\n",
       "      <th>precision</th>\n",
       "      <th>recall</th>\n",
       "      <th>f1-score</th>\n",
       "    </tr>\n",
       "  </thead>\n",
       "  <tbody>\n",
       "    <tr>\n",
       "      <th>B</th>\n",
       "      <td>0.923664</td>\n",
       "      <td>0.302500</td>\n",
       "      <td>0.455744</td>\n",
       "    </tr>\n",
       "    <tr>\n",
       "      <th>C</th>\n",
       "      <td>0.535714</td>\n",
       "      <td>0.112500</td>\n",
       "      <td>0.185950</td>\n",
       "    </tr>\n",
       "    <tr>\n",
       "      <th>F</th>\n",
       "      <td>0.917526</td>\n",
       "      <td>0.445000</td>\n",
       "      <td>0.599327</td>\n",
       "    </tr>\n",
       "    <tr>\n",
       "      <th>M</th>\n",
       "      <td>0.530085</td>\n",
       "      <td>0.978880</td>\n",
       "      <td>0.687742</td>\n",
       "    </tr>\n",
       "    <tr>\n",
       "      <th>X</th>\n",
       "      <td>1.000000</td>\n",
       "      <td>0.206061</td>\n",
       "      <td>0.341709</td>\n",
       "    </tr>\n",
       "    <tr>\n",
       "      <th>avg/total</th>\n",
       "      <td>0.689904</td>\n",
       "      <td>0.588427</td>\n",
       "      <td>0.530457</td>\n",
       "    </tr>\n",
       "  </tbody>\n",
       "</table>\n",
       "</div>"
      ],
      "text/plain": [
       "           precision    recall  f1-score\n",
       "B           0.923664  0.302500  0.455744\n",
       "C           0.535714  0.112500  0.185950\n",
       "F           0.917526  0.445000  0.599327\n",
       "M           0.530085  0.978880  0.687742\n",
       "X           1.000000  0.206061  0.341709\n",
       "avg/total   0.689904  0.588427  0.530457"
      ]
     },
     "execution_count": 439,
     "metadata": {},
     "output_type": "execute_result"
    }
   ],
   "source": [
    "lol"
   ]
  },
  {
   "cell_type": "code",
   "execution_count": 435,
   "metadata": {},
   "outputs": [
    {
     "data": {
      "text/plain": [
       "0.9236641221374046"
      ]
     },
     "execution_count": 435,
     "metadata": {},
     "output_type": "execute_result"
    }
   ],
   "source": [
    " lol.iloc[0,0]"
   ]
  },
  {
   "cell_type": "code",
   "execution_count": 533,
   "metadata": {},
   "outputs": [],
   "source": [
    "def class_report(model_name,y_true, y_pred, y_score=None, average='micro'):\n",
    "    if y_true.shape != y_pred.shape:\n",
    "        print(\"Error! y_true %s is not the same shape as y_pred %s\" % (\n",
    "              y_true.shape,\n",
    "              y_pred.shape)\n",
    "        )\n",
    "        return\n",
    "    cm = confusion_matrix(y_true, y_pred)\n",
    "    \n",
    "    lb = LabelBinarizer()\n",
    "\n",
    "    if len(y_true.shape) == 1:\n",
    "        lb.fit(y_true)\n",
    "\n",
    "    #Value counts of predictions\n",
    "    labels, cnt = np.unique(\n",
    "        y_pred,\n",
    "        return_counts=True)\n",
    "    n_classes = len(labels)\n",
    "    pred_cnt = pd.Series(cnt, index=labels)\n",
    "\n",
    "    metrics_summary = precision_recall_fscore_support(\n",
    "            y_true=y_true,\n",
    "            y_pred=y_pred,\n",
    "            labels=labels)\n",
    "\n",
    "    avg = list(precision_recall_fscore_support(\n",
    "            y_true=y_true, \n",
    "            y_pred=y_pred,\n",
    "            average='weighted'))\n",
    "\n",
    "    metrics_sum_index = ['precision', 'recall', 'f1-score','support']\n",
    "    class_report_df = pd.DataFrame(\n",
    "        list(metrics_summary),\n",
    "        index=metrics_sum_index,\n",
    "        columns=labels)\n",
    "\n",
    "    support = class_report_df.loc['support']\n",
    "    total = support.sum() \n",
    "    class_report_df['avg / total'] = avg[:-1] + [total]\n",
    "\n",
    "    class_report_df = class_report_df.T\n",
    "    class_report_df['pred'] = pred_cnt\n",
    "    class_report_df['pred'].iloc[-1] = total\n",
    "    fpr = dict()\n",
    "    tpr = dict()\n",
    "    roc_auc = dict()\n",
    "    if not (y_score is None):\n",
    "        fpr = dict()\n",
    "        tpr = dict()\n",
    "        roc_auc = dict()\n",
    "        for label_it, label in enumerate(labels):\n",
    "            fpr[label], tpr[label], _ = roc_curve(\n",
    "                (y_true == label).astype(int), \n",
    "                y_score[:, label_it])\n",
    "\n",
    "            roc_auc[label] = auc(fpr[label], tpr[label])\n",
    "\n",
    "        if average == 'micro':\n",
    "            if n_classes <= 2:\n",
    "                fpr[\"avg / total\"], tpr[\"avg / total\"], _ = roc_curve(\n",
    "                    lb.transform(y_true).ravel(), \n",
    "                    y_score[:, 1].ravel())\n",
    "            else:\n",
    "                fpr[\"avg / total\"], tpr[\"avg / total\"], _ = roc_curve(\n",
    "                        lb.transform(y_true).ravel(), \n",
    "                        y_score.ravel())\n",
    "\n",
    "            roc_auc[\"avg / total\"] = auc(\n",
    "                fpr[\"avg / total\"], \n",
    "                tpr[\"avg / total\"])\n",
    "\n",
    "        elif average == 'macro':\n",
    "            # First aggregate all false positive rates\n",
    "            all_fpr = np.unique(np.concatenate([\n",
    "                fpr[i] for i in labels]\n",
    "            ))\n",
    "\n",
    "            # Then interpolate all ROC curves at this points\n",
    "            mean_tpr = np.zeros_like(all_fpr)\n",
    "            for i in labels:\n",
    "                mean_tpr += interp(all_fpr, fpr[i], tpr[i])\n",
    "\n",
    "            # Finally average it and compute AUC\n",
    "            mean_tpr /= n_classes\n",
    "\n",
    "            fpr[\"macro\"] = all_fpr\n",
    "            tpr[\"macro\"] = mean_tpr\n",
    "            \n",
    "            roc_auc[\"avg / total\"] = auc(fpr[\"macro\"], tpr[\"macro\"])\n",
    "\n",
    "        ac_score = (cm.diagonal()/cm.sum(axis=1)).tolist()\n",
    "        \n",
    "        class_report_df['Accuracy'] = pd.Series(ac_score)\n",
    "        class_report_df.loc['avg / total','Accuracy'] = accuracy_score(y_true,y_pred)\n",
    "        np.append(ac_score,accuracy_score(y_true,y_pred))\n",
    "        class_report_df['Accuracy']  = pd.Series(ac_score)\n",
    "        class_report_df['AUC'] = pd.Series(roc_auc)\n",
    "        \n",
    "    \n",
    "        for score in ac_score:\n",
    "          print(score)\n",
    "\n",
    "#     print(accuracy_score(y_true,y_pred))\n",
    "#     plot_roc_cm(model_name,cm,n_classes,fpr,tpr,roc_auc,class_report_df,average)\n",
    "    class_report_df.index = ['B','C','F','M','X','avg/total']\n",
    "    return class_report_df\n",
    "\n",
    "def kfold(model,n_splits,X,y):\n",
    "    \n",
    "    kf = StratifiedKFold(n_splits=n_splits,shuffle=True,random_state=0)\n",
    "    cv_score_recall =[]\n",
    "    cv_score_precision = []\n",
    "    cv_score_f1 = []\n",
    "    i=1\n",
    "    for train_index,test_index in kf.split(X,y):\n",
    "        \n",
    "        xtr,xvl = X[train_index],X[test_index]\n",
    "        ytr,yvl = y[train_index],y[test_index]\n",
    "\n",
    "        #model\n",
    "        model.fit(xtr,ytr)\n",
    "        score_precision = precision_score(yvl,model.predict(xvl),average='macro')\n",
    "        score_recall = recall_score(yvl,model.predict(xvl),average='macro')\n",
    "        score_f1 = f1_score(yvl,model.predict(xvl),average=\"macro\")\n",
    "        cv_score_precision.append(score_precision)\n",
    "        cv_score_recall.append(score_recall)\n",
    "        cv_score_f1.append(score_f1)\n",
    "        i+=1\n",
    "\n",
    "    return cv_score_precision,cv_score_recall,cv_score_f1\n"
   ]
  },
  {
   "cell_type": "markdown",
   "metadata": {},
   "source": [
    "## Testing data"
   ]
  },
  {
   "cell_type": "code",
   "execution_count": 613,
   "metadata": {},
   "outputs": [
    {
     "data": {
      "text/plain": [
       "((2454, 24), (2454, 21), (2454, 20), (2454, 13), (2454, 3))"
      ]
     },
     "execution_count": 613,
     "metadata": {},
     "output_type": "execute_result"
    }
   ],
   "source": [
    "X, y = data.iloc[:,:-1], data.iloc[:,-1]\n",
    "# X = StandardScaler().fit_transform(X)\n",
    "coefs_1,get_selected_columns_1 = get_selected_columns_sklearn(X,y,0.0001)\n",
    "coefs_2,get_selected_columns_2 = get_selected_columns_sklearn(X,y,0.001)\n",
    "coesfs_3,get_selected_columns_3 = get_selected_columns_sklearn(X,y,0.01)\n",
    "coesfs_4,get_selected_columns_4 = get_selected_columns_sklearn(X,y,0.1)\n",
    "\n",
    "\n",
    "X = data.iloc[:,:-1]\n",
    "X_set_1 = data.loc[:,get_selected_columns_1]\n",
    "X_set_2 = data.loc[:,get_selected_columns_2]\n",
    "X_set_3 = data.loc[:,get_selected_columns_3]\n",
    "X_set_4 = data.loc[:,get_selected_columns_4]\n",
    "\n",
    "def scale(X):\n",
    "    return StandardScaler().fit_transform(X)\n",
    "X = scale(X)\n",
    "X_set_1 = scale(X_set_1)\n",
    "X_set_2 = scale(X_set_2)\n",
    "X_set_3 = scale(X_set_3)\n",
    "X_set_4 = scale(X_set_4)\n",
    "\n",
    "X.shape, X_set_1.shape, X_set_2.shape, X_set_3.shape, X_set_4.shape"
   ]
  },
  {
   "cell_type": "code",
   "execution_count": 560,
   "metadata": {},
   "outputs": [
    {
     "data": {
      "text/plain": [
       "(2454, 21)"
      ]
     },
     "execution_count": 560,
     "metadata": {},
     "output_type": "execute_result"
    }
   ],
   "source": [
    "X_set_1.shape"
   ]
  },
  {
   "cell_type": "code",
   "execution_count": 625,
   "metadata": {},
   "outputs": [],
   "source": [
    "precision_B = {}\n",
    "precision_C = {}\n",
    "precision_F = {}\n",
    "precision_M = {}\n",
    "precision_X = {}\n",
    "precision_avg = {}\n",
    "\n",
    "recall_B = {}\n",
    "recall_C = {}\n",
    "recall_F = {}\n",
    "recall_M = {}\n",
    "recall_X = {}\n",
    "recall_avg = {}\n",
    "\n",
    "f1_B = {}\n",
    "f1_C = {}\n",
    "f1_F = {}\n",
    "f1_M = {}\n",
    "f1_X = {}\n",
    "f1_avg = {}\n",
    "\n",
    "\n",
    "precision_score_models_all = {}\n",
    "recall_scores_models_all = {}\n",
    "f1_scores_models_all = {}\n",
    "\n",
    "precision_score_models_3 = {}\n",
    "recall_scores_models_3 = {}\n",
    "f1_scores_models_3 = {}\n",
    "\n",
    "precision_score_models_4 = {}\n",
    "recall_scores_models_4 = {}\n",
    "f1_scores_models_4 = {}\n"
   ]
  },
  {
   "cell_type": "markdown",
   "metadata": {},
   "source": [
    "## Model definations"
   ]
  },
  {
   "cell_type": "code",
   "execution_count": 562,
   "metadata": {},
   "outputs": [],
   "source": [
    "from sklearn.neighbors import KNeighborsClassifier\n",
    "lr = LogisticRegression(multi_class = 'ovr', penalty = 'l2')\n",
    "knn = KNeighborsClassifier(weights='uniform')\n",
    "dt = DecisionTreeClassifier(criterion = 'entropy',max_depth = 10, max_leaf_nodes=100)\n",
    "rf = RandomForestClassifier(n_estimators=50,criterion='entropy',max_features='log2')"
   ]
  },
  {
   "cell_type": "markdown",
   "metadata": {},
   "source": [
    "## Precision per sample"
   ]
  },
  {
   "cell_type": "markdown",
   "metadata": {},
   "source": [
    "### All columns"
   ]
  },
  {
   "cell_type": "code",
   "execution_count": 572,
   "metadata": {},
   "outputs": [],
   "source": [
    "from sklearn.metrics import precision_recall_fscore_support as score\n",
    "lr.fit(X,y)\n",
    "knn.fit(X,y)\n",
    "dt.fit(X,y)\n",
    "rf.fit(X,y)\n",
    "precision_all_lr, recall_all_lr, fscore_all_lr, _ = score(y, lr.predict(X))\n",
    "precision_all_knn, recall_all_knn, fscore_all_knn, _ = score(y, knn.predict(X))\n",
    "precision_all_dt, recall_all_dt, fscore_all_dt, _ = score(y, dt.predict(X))\n",
    "precision_all_rf, recall_all_rf, fscore_all_rf, _ = score(y, rf.predict(X))\n",
    "\n",
    "\n",
    "# # alpha = 0.01\n",
    "X = X_set_3\n",
    "lr.fit(X,y)\n",
    "knn.fit(X,y)\n",
    "dt.fit(X,y)\n",
    "rf.fit(X,y)\n",
    "precision_3_lr, recall_3_lr, fscore_3_lr, _ = score(y, lr.predict(X))\n",
    "precision_3_knn, recall_3_knn, fscore_3_knn, _ = score(y, knn.predict(X))\n",
    "precision_3_dt, recall_3_dt, fscore_3_dt, _ = score(y, dt.predict(X))\n",
    "precision_3_rf, recall_3_rf, fscore_3_rf, _ = score(y, rf.predict(X))\n",
    "\n",
    "# # alpha = 0.1\n",
    "X = X_set_4\n",
    "lr.fit(X,y)\n",
    "knn.fit(X,y)\n",
    "dt.fit(X,y)\n",
    "rf.fit(X,y)\n",
    "precision_4_lr, recall_4_lr, fscore_4_lr, _ = score(y, lr.predict(X))\n",
    "precision_4_knn, recall_4_knn, fscore_4_knn, _ = score(y, knn.predict(X))\n",
    "precision_4_dt, recall_4_dt, fscore_4_dt, _ = score(y, dt.predict(X))\n",
    "precision_4_rf, recall_4_rf, fscore_4_rf, _ = score(y, rf.predict(X))\n",
    "\n",
    "\n"
   ]
  },
  {
   "cell_type": "code",
   "execution_count": 570,
   "metadata": {},
   "outputs": [
    {
     "data": {
      "text/plain": [
       "(array([0.78333333, 1.        , 0.92857143, 0.5120308 , 0.66666667]),\n",
       " array([0.66415094, 0.25669291, 0.70075758, 0.60735171, 0.43010753]),\n",
       " array([0.81920904, 0.78      , 0.91752577, 0.52776388, 1.        ]),\n",
       " array([0.82446809, 0.78      , 0.91794872, 0.53095118, 1.        ]))"
      ]
     },
     "execution_count": 570,
     "metadata": {},
     "output_type": "execute_result"
    }
   ],
   "source": [
    "precision_all_lr,precision_all_knn,precision_all_dt, precision_all_rf"
   ]
  },
  {
   "cell_type": "code",
   "execution_count": 603,
   "metadata": {},
   "outputs": [],
   "source": [
    "precision_df_all = pd.DataFrame(columns = ['B','C','F','M','X'], index =  [\"LR\", \"KNN\", \"DT\", \"RF\"])\n",
    "precision_df_3 = pd.DataFrame(columns = ['B','C','F','M','X'], index =  [\"LR\", \"KNN\", \"DT\", \"RF\"])\n",
    "precision_df_4 = pd.DataFrame(columns = ['B','C','F','M','X'], index =  [\"LR\", \"KNN\", \"DT\", \"RF\"])\n",
    "\n",
    "\n",
    "recall_df_all = pd.DataFrame(columns = ['B','C','F','M','X'], index =  [\"LR\", \"KNN\", \"DT\", \"RF\"])\n",
    "recall_df_3 = pd.DataFrame(columns = ['B','C','F','M','X'], index =  [\"LR\", \"KNN\", \"DT\", \"RF\"])\n",
    "recall_df_4 = pd.DataFrame(columns = ['B','C','F','M','X'], index =  [\"LR\", \"KNN\", \"DT\", \"RF\"])\n",
    "\n",
    "\n",
    "fscore_df_all = pd.DataFrame(columns = ['B','C','F','M','X'], index =  [\"LR\", \"KNN\", \"DT\", \"RF\"])\n",
    "fscore_df_3 = pd.DataFrame(columns = ['B','C','F','M','X'], index =  [\"LR\", \"KNN\", \"DT\", \"RF\"])\n",
    "fscore_df_4 = pd.DataFrame(columns = ['B','C','F','M','X'], index =  [\"LR\", \"KNN\", \"DT\", \"RF\"])\n",
    "\n",
    "\n",
    "\n",
    "\n",
    "precision_df_all.loc[\"LR\"] =  precision_all_lr\n",
    "precision_df_all.loc[\"KNN\"] = precision_all_knn\n",
    "precision_df_all.loc[\"DT\"] =  precision_all_dt\n",
    "precision_df_all.loc[\"RF\"] =  precision_all_rf\n",
    "\n",
    "\n",
    "recall_df_all.loc[\"LR\"] =  recall_all_lr\n",
    "recall_df_all.loc[\"KNN\"] = recall_all_knn\n",
    "recall_df_all.loc[\"DT\"] =  recall_all_dt\n",
    "recall_df_all.loc[\"RF\"] =  recall_all_rf\n",
    "\n",
    "\n",
    "fscore_df_all.loc[\"LR\"] =  fscore_all_lr\n",
    "fscore_df_all.loc[\"KNN\"] = fscore_all_knn\n",
    "fscore_df_all.loc[\"DT\"] =  fscore_all_dt\n",
    "fscore_df_all.loc[\"RF\"] =  fscore_all_rf\n",
    "\n",
    "\n",
    "\"\"\"\n",
    "3\n",
    "\"\"\"\n",
    "\n",
    "precision_df_3.loc[\"LR\"] =  precision_3_lr\n",
    "precision_df_3.loc[\"KNN\"] = precision_3_knn\n",
    "precision_df_3.loc[\"DT\"] =  precision_3_dt\n",
    "precision_df_3.loc[\"RF\"] =  precision_3_rf\n",
    "\n",
    "\n",
    "recall_df_3.loc[\"LR\"] =  recall_3_lr\n",
    "recall_df_3.loc[\"KNN\"] = recall_3_knn\n",
    "recall_df_3.loc[\"DT\"] =  recall_3_dt\n",
    "recall_df_3.loc[\"RF\"] =  recall_3_rf\n",
    "\n",
    "\n",
    "fscore_df_3.loc[\"LR\"] =  fscore_3_lr\n",
    "fscore_df_3.loc[\"KNN\"] = fscore_3_knn\n",
    "fscore_df_3.loc[\"DT\"] =  fscore_3_dt\n",
    "fscore_df_3.loc[\"RF\"] =  fscore_3_rf\n",
    "\n",
    "\n",
    "\n",
    "\"\"\"\n",
    "4\n",
    "\"\"\"\n",
    "\n",
    "precision_df_4.loc[\"LR\"] =  precision_4_lr\n",
    "precision_df_4.loc[\"KNN\"] = precision_4_knn\n",
    "precision_df_4.loc[\"DT\"] =  precision_4_dt\n",
    "precision_df_4.loc[\"RF\"] =  precision_4_rf\n",
    "\n",
    "\n",
    "recall_df_4.loc[\"LR\"] =  recall_4_lr\n",
    "recall_df_4.loc[\"KNN\"] = recall_4_knn\n",
    "recall_df_4.loc[\"DT\"] =  recall_4_dt\n",
    "recall_df_4.loc[\"RF\"] =  recall_4_rf\n",
    "\n",
    "\n",
    "fscore_df_4.loc[\"LR\"] =  fscore_4_lr\n",
    "fscore_df_4.loc[\"KNN\"] = fscore_4_knn\n",
    "fscore_df_4.loc[\"DT\"] =  fscore_4_dt\n",
    "fscore_df_4.loc[\"RF\"] =  fscore_4_rf\n"
   ]
  },
  {
   "cell_type": "code",
   "execution_count": 608,
   "metadata": {},
   "outputs": [],
   "source": [
    "def savee_table(path, table, table_name, index=False, header=True):\n",
    "    table.to_csv(os.path.join(path, table_name + \".csv\"), index=index, header=header)"
   ]
  },
  {
   "cell_type": "code",
   "execution_count": 611,
   "metadata": {},
   "outputs": [
    {
     "data": {
      "text/plain": [
       "'D:\\\\PyCharm\\\\mvts_fss_ay\\\\data'"
      ]
     },
     "execution_count": 611,
     "metadata": {},
     "output_type": "execute_result"
    }
   ],
   "source": [
    "path = os.path.join(os.getcwd(),\"data\")\n",
    "path"
   ]
  },
  {
   "cell_type": "code",
   "execution_count": 612,
   "metadata": {},
   "outputs": [],
   "source": [
    "savee_table(path,precision_df_all,\"precision_df_all\",index=True)\n",
    "savee_table(path,precision_df_3,\"precision_df_3\",index=True)\n",
    "savee_table(path,precision_df_4,\"precision_df_4\",index=True)\n",
    "savee_table(path,recall_df_all,\"recall_df_all\",index=True)\n",
    "savee_table(path,recall_df_3,\"recall_df_3\",index=True)\n",
    "savee_table(path,recall_df_4,\"recall_df_4\",index=True)\n",
    "savee_table(path,fscore_df_all,\"fscore_df_all\",index=True)\n",
    "savee_table(path,fscore_df_3,\"fscore_df_3\",index=True)\n",
    "savee_table(path,fscore_df_4,\"fscore_df_4\",index=True)"
   ]
  },
  {
   "cell_type": "markdown",
   "metadata": {},
   "source": [
    "## LR"
   ]
  },
  {
   "cell_type": "markdown",
   "metadata": {},
   "source": [
    "### All columns"
   ]
  },
  {
   "cell_type": "code",
   "execution_count": 628,
   "metadata": {},
   "outputs": [],
   "source": [
    "\n",
    "def kfold(model,n_splits,X,y):\n",
    "    \n",
    "    kf = StratifiedKFold(n_splits=n_splits,shuffle=True,random_state=0)\n",
    "    cv_score_recall =[]\n",
    "    cv_score_precision = []\n",
    "    cv_score_f1 = []\n",
    "    i=1\n",
    "    for train_index,test_index in kf.split(X,y):\n",
    "        \n",
    "        xtr,xvl = X[train_index],X[test_index]\n",
    "        ytr,yvl = y[train_index],y[test_index]\n",
    "\n",
    "        #model\n",
    "        model.fit(xtr,ytr)\n",
    "        score_precision = precision_score(yvl,model.predict(xvl),average='macro')\n",
    "        score_recall = recall_score(yvl,model.predict(xvl),average='macro')\n",
    "        score_f1 = f1_score(yvl,model.predict(xvl),average=\"macro\")\n",
    "        cv_score_precision.append(score_precision)\n",
    "        cv_score_recall.append(score_recall)\n",
    "        cv_score_f1.append(score_f1)\n",
    "        i+=1\n",
    "\n",
    "    return cv_score_precision,cv_score_recall,cv_score_f1\n",
    "\n",
    "# # LR\n",
    "# ## ALL \n",
    "prec, recall, f1 = kfold(lr, 5, X, y)\n",
    "precision_score_models_all['Logistic Regression'] = np.mean(prec)\n",
    "recall_scores_models_all['Logistic Regression'] = np.mean(recall)\n",
    "f1_scores_models_all['Logistic Regression'] = np.mean(f1)\n",
    "\n",
    "# ## 3\n",
    "prec, recall, f1 = kfold(lr, 5, X_set_3, y)\n",
    "precision_score_models_3['Logistic Regression'] = np.mean(prec)\n",
    "recall_scores_models_3['Logistic Regression'] = np.mean(recall)\n",
    "f1_scores_models_3['Logistic Regression'] = np.mean(f1)\n",
    "\n",
    "# ## 4\n",
    "prec, recall, f1 = kfold(lr, 5, X_set_4, y)\n",
    "precision_score_models_4['Logistic Regression'] = np.mean(prec)\n",
    "recall_scores_models_4['Logistic Regression'] = np.mean(recall)\n",
    "f1_scores_models_4['Logistic Regression'] = np.mean(f1)\n",
    "\n",
    "\n",
    "# KNN\n",
    "## ALL\n",
    "prec, recall, f1 = kfold(knn, 5, X, y)\n",
    "precision_score_models_all['KNN'] = np.mean(prec)\n",
    "recall_scores_models_all['KNN'] = np.mean(recall)\n",
    "f1_scores_models_all['KNN'] = np.mean(f1)\n",
    "\n",
    "# ## 3\n",
    "prec, recall, f1 = kfold(knn, 5, X_set_3, y)\n",
    "precision_score_models_3['KNN'] = np.mean(prec)\n",
    "recall_scores_models_3['KNN'] = np.mean(recall)\n",
    "f1_scores_models_3['KNN'] = np.mean(f1)\n",
    "\n",
    "# ## 4\n",
    "prec, recall, f1 = kfold(knn, 5, X_set_4, y)\n",
    "precision_score_models_4['KNN'] = np.mean(prec)\n",
    "recall_scores_models_4['KNN'] = np.mean(recall)\n",
    "f1_scores_models_4['KNN'] = np.mean(f1)\n",
    "\n",
    "# DT\n",
    "## ALL\n",
    "prec, recall, f1 = kfold(dt, 5, X, y)\n",
    "precision_score_models_all['DT'] = np.mean(prec)\n",
    "recall_scores_models_all['DT'] = np.mean(recall)\n",
    "f1_scores_models_all['DT'] = np.mean(f1)\n",
    "\n",
    "## 3\n",
    "prec, recall, f1 = kfold(dt, 5, X_set_3, y)\n",
    "precision_score_models_3['DT'] = np.mean(prec)\n",
    "recall_scores_models_3['DT'] = np.mean(recall)\n",
    "f1_scores_models_3['DT'] = np.mean(f1)\n",
    "\n",
    "## 4\n",
    "prec, recall, f1 = kfold(dt, 5, X_set_4, y)\n",
    "precision_score_models_4['DT'] = np.mean(prec)\n",
    "recall_scores_models_4['DT'] = np.mean(recall)\n",
    "f1_scores_models_4['DT'] = np.mean(f1)\n",
    "\n",
    "# RF\n",
    "## ALL\n",
    "prec, recall, f1 = kfold(rf, 5, X, y)\n",
    "precision_score_models_all['RF'] = np.mean(prec)\n",
    "recall_scores_models_all['RF'] = np.mean(recall)\n",
    "f1_scores_models_all['RF'] = np.mean(f1)\n",
    "\n",
    "## 3\n",
    "prec, recall, f1 = kfold(rf, 5, X_set_3, y)\n",
    "precision_score_models_3['RF'] = np.mean(prec)\n",
    "recall_scores_models_3['RF'] = np.mean(recall)\n",
    "f1_scores_models_3['RF'] = np.mean(f1)\n",
    "\n",
    "## 4\n",
    "prec, recall, f1 = kfold(rf, 5, X_set_4, y)\n",
    "precision_score_models_4['RF'] = np.mean(prec)\n",
    "recall_scores_models_4['RF'] = np.mean(recall)\n",
    "f1_scores_models_4['RF'] = np.mean(f1)\n"
   ]
  },
  {
   "cell_type": "code",
   "execution_count": null,
   "metadata": {},
   "outputs": [],
   "source": [
    "# precision_score_models_all = {}\n",
    "# recall_scores_models_all = {}\n",
    "# f1_scores_models_all = {}\n",
    "\n",
    "# precision_score_models_3 = {}\n",
    "# recall_scores_models_3 = {}\n",
    "# f1_scores_models_3 = {}\n",
    "\n",
    "# precision_score_models_4 = {}\n",
    "# recall_scores_models_4 = {}\n",
    "# f1_scores_models_4 = {}"
   ]
  },
  {
   "cell_type": "code",
   "execution_count": 633,
   "metadata": {},
   "outputs": [
    {
     "data": {
      "text/plain": [
       "({'Logistic Regression': 0.7865881788485902,\n",
       "  'KNN': 0.47645128569715534,\n",
       "  'DT': 0.7874478058653075,\n",
       "  'RF': 0.7803462054890273},\n",
       " {'Logistic Regression': 0.599555154927623,\n",
       "  'KNN': 0.952623412780414,\n",
       "  'DT': 0.768951812844256,\n",
       "  'RF': 0.7709852530701031},\n",
       " {'Logistic Regression': 0.19897419762575694,\n",
       "  'KNN': 0.8911530928760211,\n",
       "  'DT': 0.5872804567397238,\n",
       "  'RF': 0.5872804567397238})"
      ]
     },
     "execution_count": 633,
     "metadata": {},
     "output_type": "execute_result"
    }
   ],
   "source": [
    "precision_score_models_all,precision_score_models_3,precision_score_models_4"
   ]
  },
  {
   "cell_type": "code",
   "execution_count": 634,
   "metadata": {},
   "outputs": [
    {
     "data": {
      "text/plain": [
       "{'Logistic Regression': 0.24710706887075634,\n",
       " 'KNN': 0.873791273834186,\n",
       " 'DT': 0.2876997850231055,\n",
       " 'RF': 0.2876997850231055}"
      ]
     },
     "execution_count": 634,
     "metadata": {},
     "output_type": "execute_result"
    }
   ],
   "source": [
    "recall_scores_models_4"
   ]
  },
  {
   "cell_type": "code",
   "execution_count": 648,
   "metadata": {},
   "outputs": [],
   "source": [
    "results_all = pd.DataFrame(columns = ['Model', 'Precision', 'Recall', 'F-1 Score'])\n",
    "results_3 = pd.DataFrame(columns = ['Model', 'Precision', 'Recall', 'F-1 Score'])\n",
    "results_4 = pd.DataFrame(columns = ['Model', 'Precision', 'Recall', 'F-1 Score'])\n",
    "\n",
    "\n",
    "results_all['Model'] = ['Logistic Regression','KNN','Decision Tree','Random Forest']\n",
    "results_3['Model'] = ['Logistic Regression','KNN','Decision Tree','Random Forest']\n",
    "results_4['Model'] = ['Logistic Regression','KNN','Decision Tree','Random Forest']\n",
    "\n",
    "\n",
    "results_all['Precision'] = list(precision_score_models_all.values())\n",
    "results_all['Recall'] = list(recall_scores_models_all.values())\n",
    "results_all['F-1 Score'] = list(f1_scores_models_all.values())\n",
    "\n",
    "results_3['Precision'] = list(precision_score_models_3.values())\n",
    "results_3['Recall'] = list(recall_scores_models_3.values())\n",
    "results_3['F-1 Score'] = list(f1_scores_models_3.values())\n",
    "\n",
    "results_4['Precision'] = list(precision_score_models_4.values())\n",
    "results_4['Recall'] = list(recall_scores_models_4.values())\n",
    "results_4['F-1 Score'] = list(f1_scores_models_4.values())\n",
    "\n",
    "\n",
    "savee_table(path,results_all,\"results_all\",index=False)\n",
    "savee_table(path,results_3,\"results_3\",index=False)\n",
    "savee_table(path,results_4,\"results_4\",index=False)\n"
   ]
  },
  {
   "cell_type": "code",
   "execution_count": 645,
   "metadata": {},
   "outputs": [
    {
     "data": {
      "text/html": [
       "<div>\n",
       "<style scoped>\n",
       "    .dataframe tbody tr th:only-of-type {\n",
       "        vertical-align: middle;\n",
       "    }\n",
       "\n",
       "    .dataframe tbody tr th {\n",
       "        vertical-align: top;\n",
       "    }\n",
       "\n",
       "    .dataframe thead th {\n",
       "        text-align: right;\n",
       "    }\n",
       "</style>\n",
       "<table border=\"1\" class=\"dataframe\">\n",
       "  <thead>\n",
       "    <tr style=\"text-align: right;\">\n",
       "      <th></th>\n",
       "      <th>Model</th>\n",
       "      <th>Precision</th>\n",
       "      <th>Recall</th>\n",
       "      <th>F-1 Score</th>\n",
       "    </tr>\n",
       "  </thead>\n",
       "  <tbody>\n",
       "    <tr>\n",
       "      <th>0</th>\n",
       "      <td>Logistic Regression</td>\n",
       "      <td>0.786588</td>\n",
       "      <td>0.353552</td>\n",
       "      <td>0.363633</td>\n",
       "    </tr>\n",
       "    <tr>\n",
       "      <th>1</th>\n",
       "      <td>KNN</td>\n",
       "      <td>0.476451</td>\n",
       "      <td>0.430627</td>\n",
       "      <td>0.442744</td>\n",
       "    </tr>\n",
       "    <tr>\n",
       "      <th>2</th>\n",
       "      <td>Decision Tree</td>\n",
       "      <td>0.787448</td>\n",
       "      <td>0.404599</td>\n",
       "      <td>0.442969</td>\n",
       "    </tr>\n",
       "    <tr>\n",
       "      <th>3</th>\n",
       "      <td>Random Forest</td>\n",
       "      <td>0.780346</td>\n",
       "      <td>0.409916</td>\n",
       "      <td>0.448855</td>\n",
       "    </tr>\n",
       "  </tbody>\n",
       "</table>\n",
       "</div>"
      ],
      "text/plain": [
       "                 Model  Precision    Recall  F-1 Score\n",
       "0  Logistic Regression   0.786588  0.353552   0.363633\n",
       "1                  KNN   0.476451  0.430627   0.442744\n",
       "2        Decision Tree   0.787448  0.404599   0.442969\n",
       "3        Random Forest   0.780346  0.409916   0.448855"
      ]
     },
     "execution_count": 645,
     "metadata": {},
     "output_type": "execute_result"
    }
   ],
   "source": [
    "results_all"
   ]
  },
  {
   "cell_type": "code",
   "execution_count": 646,
   "metadata": {},
   "outputs": [
    {
     "data": {
      "text/html": [
       "<div>\n",
       "<style scoped>\n",
       "    .dataframe tbody tr th:only-of-type {\n",
       "        vertical-align: middle;\n",
       "    }\n",
       "\n",
       "    .dataframe tbody tr th {\n",
       "        vertical-align: top;\n",
       "    }\n",
       "\n",
       "    .dataframe thead th {\n",
       "        text-align: right;\n",
       "    }\n",
       "</style>\n",
       "<table border=\"1\" class=\"dataframe\">\n",
       "  <thead>\n",
       "    <tr style=\"text-align: right;\">\n",
       "      <th></th>\n",
       "      <th>Model</th>\n",
       "      <th>Precision</th>\n",
       "      <th>Recall</th>\n",
       "      <th>F-1 Score</th>\n",
       "    </tr>\n",
       "  </thead>\n",
       "  <tbody>\n",
       "    <tr>\n",
       "      <th>0</th>\n",
       "      <td>Logistic Regression</td>\n",
       "      <td>0.599555</td>\n",
       "      <td>0.324042</td>\n",
       "      <td>0.322356</td>\n",
       "    </tr>\n",
       "    <tr>\n",
       "      <th>1</th>\n",
       "      <td>KNN</td>\n",
       "      <td>0.952623</td>\n",
       "      <td>0.938411</td>\n",
       "      <td>0.944708</td>\n",
       "    </tr>\n",
       "    <tr>\n",
       "      <th>2</th>\n",
       "      <td>Decision Tree</td>\n",
       "      <td>0.768952</td>\n",
       "      <td>0.383384</td>\n",
       "      <td>0.419366</td>\n",
       "    </tr>\n",
       "    <tr>\n",
       "      <th>3</th>\n",
       "      <td>Random Forest</td>\n",
       "      <td>0.770985</td>\n",
       "      <td>0.384118</td>\n",
       "      <td>0.419854</td>\n",
       "    </tr>\n",
       "  </tbody>\n",
       "</table>\n",
       "</div>"
      ],
      "text/plain": [
       "                 Model  Precision    Recall  F-1 Score\n",
       "0  Logistic Regression   0.599555  0.324042   0.322356\n",
       "1                  KNN   0.952623  0.938411   0.944708\n",
       "2        Decision Tree   0.768952  0.383384   0.419366\n",
       "3        Random Forest   0.770985  0.384118   0.419854"
      ]
     },
     "execution_count": 646,
     "metadata": {},
     "output_type": "execute_result"
    }
   ],
   "source": [
    "results_3"
   ]
  },
  {
   "cell_type": "code",
   "execution_count": 647,
   "metadata": {},
   "outputs": [
    {
     "data": {
      "text/html": [
       "<div>\n",
       "<style scoped>\n",
       "    .dataframe tbody tr th:only-of-type {\n",
       "        vertical-align: middle;\n",
       "    }\n",
       "\n",
       "    .dataframe tbody tr th {\n",
       "        vertical-align: top;\n",
       "    }\n",
       "\n",
       "    .dataframe thead th {\n",
       "        text-align: right;\n",
       "    }\n",
       "</style>\n",
       "<table border=\"1\" class=\"dataframe\">\n",
       "  <thead>\n",
       "    <tr style=\"text-align: right;\">\n",
       "      <th></th>\n",
       "      <th>Model</th>\n",
       "      <th>Precision</th>\n",
       "      <th>Recall</th>\n",
       "      <th>F-1 Score</th>\n",
       "    </tr>\n",
       "  </thead>\n",
       "  <tbody>\n",
       "    <tr>\n",
       "      <th>0</th>\n",
       "      <td>Logistic Regression</td>\n",
       "      <td>0.198974</td>\n",
       "      <td>0.247107</td>\n",
       "      <td>0.194958</td>\n",
       "    </tr>\n",
       "    <tr>\n",
       "      <th>1</th>\n",
       "      <td>KNN</td>\n",
       "      <td>0.891153</td>\n",
       "      <td>0.873791</td>\n",
       "      <td>0.881098</td>\n",
       "    </tr>\n",
       "    <tr>\n",
       "      <th>2</th>\n",
       "      <td>Decision Tree</td>\n",
       "      <td>0.587280</td>\n",
       "      <td>0.287700</td>\n",
       "      <td>0.277029</td>\n",
       "    </tr>\n",
       "    <tr>\n",
       "      <th>3</th>\n",
       "      <td>Random Forest</td>\n",
       "      <td>0.587280</td>\n",
       "      <td>0.287700</td>\n",
       "      <td>0.277029</td>\n",
       "    </tr>\n",
       "  </tbody>\n",
       "</table>\n",
       "</div>"
      ],
      "text/plain": [
       "                 Model  Precision    Recall  F-1 Score\n",
       "0  Logistic Regression   0.198974  0.247107   0.194958\n",
       "1                  KNN   0.891153  0.873791   0.881098\n",
       "2        Decision Tree   0.587280  0.287700   0.277029\n",
       "3        Random Forest   0.587280  0.287700   0.277029"
      ]
     },
     "execution_count": 647,
     "metadata": {},
     "output_type": "execute_result"
    }
   ],
   "source": [
    "results_4"
   ]
  },
  {
   "cell_type": "code",
   "execution_count": null,
   "metadata": {},
   "outputs": [],
   "source": []
  }
 ],
 "metadata": {
  "kernelspec": {
   "display_name": "Python (mvts_fss_ay)",
   "language": "python",
   "name": "mvts_fss_ay"
  },
  "language_info": {
   "codemirror_mode": {
    "name": "ipython",
    "version": 3
   },
   "file_extension": ".py",
   "mimetype": "text/x-python",
   "name": "python",
   "nbconvert_exporter": "python",
   "pygments_lexer": "ipython3",
   "version": "3.8.10"
  }
 },
 "nbformat": 4,
 "nbformat_minor": 1
}
